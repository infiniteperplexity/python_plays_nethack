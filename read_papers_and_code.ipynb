{
 "cells": [
  {
   "cell_type": "code",
   "execution_count": null,
   "metadata": {},
   "outputs": [],
   "source": [
    "# Netplay uses the NLE Language Wrapper but I don't see it call NLE itself, at least from the main file...oh there's a\"nethack_utils\" thing\n",
    "# It looks like most logic is wrapped up in agents.\n",
    "# Yeah okay it calls NLE from the nethack_utils file.  That one has an enum for raw key presses, except not really because it's already got uppercase letters and stuff.\n",
    "# I think we want to go mostly from here: https://github.com/CommanderCero/NetPlay/tree/main/netplay/nethack_agent\n"
   ]
  }
 ],
 "metadata": {
  "language_info": {
   "name": "python"
  }
 },
 "nbformat": 4,
 "nbformat_minor": 2
}
