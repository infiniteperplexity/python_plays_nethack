{
 "cells": [
  {
   "cell_type": "code",
   "execution_count": null,
   "metadata": {},
   "outputs": [],
   "source": [
    "# Make sure to choose the nethack environment\n",
    "# This code will probably be helpful:\n",
    "# https://github.com/helgefmi/ohno/blob/master/ohno/client/pty.py\n",
    "\n"
   ]
  },
  {
   "cell_type": "code",
   "execution_count": null,
   "metadata": {},
   "outputs": [],
   "source": [
    "# https://blog.konpat.me/dev/2016/09/03/pythons-pseudo-terminal-pty-examples.html\n",
    "# http://sqizit.bartletts.id.au/2011/02/14/pseudo-terminals-in-python/"
   ]
  },
  {
   "cell_type": "code",
   "execution_count": null,
   "metadata": {},
   "outputs": [],
   "source": [
    "\n",
    "import os\n",
    "import pty\n",
    "import subprocess\n",
    "import pprint\n",
    "import time\n",
    "import json\n",
    "\n",
    "class Nethack:\n",
    "    def __init__(self):\n",
    "        self.master = None\n",
    "        self.slave = None\n",
    "        self.process = None\n",
    "\n",
    "    def start_process(self):\n",
    "        self.master, self.slave = pty.openpty()\n",
    "        self.process = subprocess.Popen(\n",
    "            [\"nethack\"],\n",
    "            stdin=self.slave,\n",
    "            stdout=self.slave,\n",
    "            stderr=self.slave,\n",
    "            close_fds=True, # this line comes from Bing Chat and I don't know what it does really\n",
    "            universal_newlines=True,\n",
    "        )\n",
    "        os.close(self.slave) # Copilot added this so take it with a grain of salt...if it works, we don't need to save the reference\n",
    "\n",
    "    #def read_output(self, sleep = 0.25, chars = 1024, print_output = True):\n",
    "    def read_output(self, sleep = 0.25, chars = 8192, print_output = True):\n",
    "        if self.process is None:\n",
    "            raise ValueError(\"Process not started\")\n",
    "\n",
    "        if sleep is not None and sleep > 0:\n",
    "            time.sleep(sleep)\n",
    "\n",
    "        output = os.read(self.master, chars).decode()\n",
    "        if print_output:\n",
    "            pprint.pprint(output)\n",
    "\n",
    "        return output\n",
    "\n",
    "    def send_command(self, command):\n",
    "        os.write(self.master, command.encode() + b\"\\n\")\n",
    "\n",
    "    def close(self):\n",
    "        try:\n",
    "            self.process.terminate()\n",
    "            os.close(self.master)\n",
    "        except:\n",
    "            pass\n",
    "\n",
    "    @staticmethod\n",
    "    def clean_locks():\n",
    "        password = json.load(open(\"private.json\"))[\"sudo\"]\n",
    "        os.system(f'echo \"{password}\" | sudo -S rm -f /var/games/nethack/*lock*')\n",
    "\n",
    "# 24, 80"
   ]
  },
  {
   "cell_type": "code",
   "execution_count": null,
   "metadata": {},
   "outputs": [
    {
     "name": "stdout",
     "output_type": "stream",
     "text": [
      "True\n"
     ]
    }
   ],
   "source": [
    "import stransi\n",
    "a = \"\\x1b\"\n",
    "b = \"\\033\"\n",
    "print(a == b)"
   ]
  },
  {
   "cell_type": "code",
   "execution_count": null,
   "metadata": {},
   "outputs": [
    {
     "name": "stderr",
     "output_type": "stream",
     "text": [
      "[sudo] password for perplexity: "
     ]
    },
    {
     "name": "stdout",
     "output_type": "stream",
     "text": [
      "('\\x1b7\\x1b[?47h\\x1b)0\\x1b[H\\x1b[2J\\x1b[H\\x1b[2;1HNetHack, Copyright '\n",
      " '1985-2020\\r'\n",
      " '\\x1b[3;1H         By Stichting Mathematisch Centrum and M. Stephenson.\\r'\n",
      " '\\x1b[4;1H         Version 3.6.6 Unix, revised Feb 25 14:00:45 2021.\\r'\n",
      " '\\x1b[5;1H         See license for details.\\r'\n",
      " \"\\x1b[6;1H\\x1b[7;1H\\x1b[8;1HShall I pick character's race, role, gender and \"\n",
      " 'alignment for you? [ynaq] ')\n",
      "('y\\x1b[H\\x1b[2J\\x1b[H       name: perplexity\\r'\n",
      " '\\x1b[2;1H       role: Rogue\\r'\n",
      " '\\x1b[3;1H       race: human\\r'\n",
      " '\\x1b[4;1H     gender: female\\r'\n",
      " '\\x1b[5;1H  alignment: chaotic\\x1b[1;40H\\x1b[K Is this ok? '\n",
      " '[ynq]\\x1b[2;40H\\x1b[K \\x1b[3;40H\\x1b[K perplexity, chaotic female human '\n",
      " 'Rogue\\x1b[4;40H\\x1b[K \\x1b[5;40H\\x1b[K y + Yes; start game\\x1b[6;40H\\x1b[K n '\n",
      " '- No; choose role again\\x1b[7;40H\\x1b[K q - Quit\\x1b[8;40H\\x1b[K\\x1b[C(end) '\n",
      " '\\x1b[1;39H\\x1b[K\\x1b[2;39H\\x1b[K\\x1b[3;39H\\x1b[K\\x1b[4;39H\\x1b[K\\x1b[5;39H\\x1b[K\\x1b[6;39H\\x1b[K\\x1b[7;39H\\x1b[K\\x1b[8;39H\\x1b[K\\x1b[9;39H\\x1b[K\\x1b[H\\x1b[2J\\x1b[H\\x1b[H\\x1b[2J\\x1b[H\\x1b[4;39H------------\\x1b[m\\x1b[5;39H|.......\\x1b[m\\x1b[1m\\x1b[37m\\x1b[7md\\x1b[m\\x1b[m..|\\x1b[m\\x1b[6;39H|..\\x1b[m\\x1b[1m\\x1b[33m$\\x1b[m.\\x1b[m\\x1b[33mr\\x1b[m..\\x1b[m\\x1b[1m\\x1b[37m@\\x1b[m...\\x1b[m\\x1b[7;39H\\x1b[33m+\\x1b[m..........|\\x1b[m\\x1b[8;39H------.-----\\x1b[m\\x1b[6;47H\\x1b[23;1H\\x1b[K\\x1b[24;1H\\x1b[K\\x1b[A[\\x1b[7mPerplexity '\n",
      " 'the Footpad        \\x1b[m] St:14 Dx:18 Co:18 In:8 Wi:10 Ch:7 Chaotic\\x1b[K\\r'\n",
      " '\\x1b[24;1HDlvl:1 $:0 HP:12(12) Pw:2(2) AC:7 Xp:1\\x1b[K\\x1b[1;23H\\x1b[K It is '\n",
      " 'written in the Book of Kos:\\x1b[2;23H\\x1b[K \\x1b[3;23H\\x1b[K     After the '\n",
      " 'Creation, the cruel god Moloch rebelled\\x1b[4;23H\\x1b[K     against the '\n",
      " 'authority of Marduk the Creator.\\x1b[5;23H\\x1b[K     Moloch stole from '\n",
      " 'Marduk the most powerful of all\\x1b[6;23H\\x1b[K     the artifacts of the '\n",
      " 'gods, the Amulet of Yendor,\\x1b[7;23H\\x1b[K     and he hid it in the dark '\n",
      " 'cavities of Gehennom, the\\x1b[8;23H\\x1b[K     Under World, where he now '\n",
      " 'lurks, and bides his time.\\x1b[9;23H\\x1b[K \\x1b[10;23H\\x1b[K Your god Kos '\n",
      " 'seeks to possess the Amulet, and with it\\x1b[11;23H\\x1b[K to gain deserved '\n",
      " 'ascendance over the other gods.\\x1b[12;23H\\x1b[K \\x1b[13;23H\\x1b[K You, a '\n",
      " 'newly trained Footpad, have been heralded\\x1b[14;23H\\x1b[K from birth as the '\n",
      " 'instrument of Kos.  You are destined\\x1b[15;23H\\x1b[K to recover the Amulet '\n",
      " 'for your deity, or die in the\\x1b[16;23H\\x1b[K attempt.  Your hour of '\n",
      " 'destiny has come.  For the sake\\x1b[17;23H\\x1b[K of us all:  Go bravely with '\n",
      " 'Kos!\\x1b[18;23H\\x1b[K\\x1b[C--More--')\n",
      "('\\x1b[1;22H\\x1b[K\\x1b[2;22H\\x1b[K\\x1b[3;22H\\x1b[K\\x1b[4;22H\\x1b[K\\x1b[4;39H------------\\x1b[5;22H\\x1b[K\\x1b[m\\x1b[5;39H|.......\\x1b[m\\x1b[1m\\x1b[37m\\x1b[7md\\x1b[m\\x1b[m..|\\x1b[6;22H\\x1b[K\\x1b[m\\x1b[6;39H|..\\x1b[m\\x1b[1m\\x1b[33m$\\x1b[m.\\x1b[m\\x1b[33mr\\x1b[m..\\x1b[m\\x1b[1m\\x1b[37m@\\x1b[m...\\x1b[7;22H\\x1b[K\\x1b[m\\x1b[7;39H\\x1b[33m+\\x1b[m..........|\\x1b[8;22H\\x1b[K\\x1b[m\\x1b[8;39H------.-----\\x1b[9;22H\\x1b[K\\x1b[10;22H\\x1b[K\\x1b[11;22H\\x1b[K\\x1b[12;22H\\x1b[K\\x1b[13;22H\\x1b[K\\x1b[14;22H\\x1b[K\\x1b[15;22H\\x1b[K\\x1b[16;22H\\x1b[K\\x1b[17;22H\\x1b[K\\x1b[18;22H\\x1b[K\\x1b[m\\x1b[6;47H\\x1b[HHello '\n",
      " 'perplexity, welcome to NetHack!  You are a chaotic female human '\n",
      " 'Rogue.\\x1b[K\\x1b[6;47H\\x1b[1;77H\\x1b[K\\x1b[K\\r\\n'\n",
      " '--More--\\r'\n",
      " '\\x1b[A\\x1b[K\\x1b[2;1H\\x1b[K\\x1b[H\\x1b[HYou are lucky!  Full moon '\n",
      " 'tonight.\\x1b[K\\x1b[6;47H\\x1b[1;37HThere is a staircase up '\n",
      " 'here.\\x1b[K\\x1b[6;47H\\x1b[1;66H--More--')\n"
     ]
    }
   ],
   "source": [
    "Nethack.clean_locks()\n",
    "nethack = Nethack()\n",
    "nethack.start_process()\n",
    "text1 = nethack.read_output()\n",
    "nethack.send_command(\"y\")\n",
    "text2 = nethack.read_output()\n",
    "nethack.send_command(\" \")\n",
    "text3 = nethack.read_output()"
   ]
  },
  {
   "cell_type": "code",
   "execution_count": null,
   "metadata": {},
   "outputs": [
    {
     "name": "stdout",
     "output_type": "stream",
     "text": [
      "['\\x1b7\\x1b[?47h\\x1b)0', SetCursor(move=CursorMove(x=0, y=0, relative=False)), SetClear(region=<Clear.SCREEN: 2>), SetCursor(move=CursorMove(x=0, y=0, relative=False)), SetCursor(move=CursorMove(x=1, y=0, relative=False)), 'NetHack, Copyright 1985-2020\\r', SetCursor(move=CursorMove(x=2, y=0, relative=False)), '         By Stichting Mathematisch Centrum and M. Stephenson.\\r', SetCursor(move=CursorMove(x=3, y=0, relative=False)), '         Version 3.6.6 Unix, revised Feb 25 14:00:45 2021.\\r', SetCursor(move=CursorMove(x=4, y=0, relative=False)), '         See license for details.\\r', SetCursor(move=CursorMove(x=5, y=0, relative=False)), SetCursor(move=CursorMove(x=6, y=0, relative=False)), SetCursor(move=CursorMove(x=7, y=0, relative=False)), \"Shall I pick character's race, role, gender and alignment for you? [ynaq] \"]\n"
     ]
    }
   ],
   "source": [
    "from stransi import Ansi \n",
    "ansi1 = Ansi(text1)\n",
    "print(list(ansi1.instructions()))"
   ]
  },
  {
   "cell_type": "code",
   "execution_count": null,
   "metadata": {},
   "outputs": [
    {
     "name": "stdout",
     "output_type": "stream",
     "text": [
      "['y', SetCursor(move=CursorMove(x=0, y=0, relative=False)), SetClear(region=<Clear.SCREEN: 2>), SetCursor(move=CursorMove(x=0, y=0, relative=False)), '       name: perplexity\\r', SetCursor(move=CursorMove(x=1, y=0, relative=False)), '       role: Rogue\\r', SetCursor(move=CursorMove(x=2, y=0, relative=False)), '       race: human\\r', SetCursor(move=CursorMove(x=3, y=0, relative=False)), '     gender: female\\r', SetCursor(move=CursorMove(x=4, y=0, relative=False)), '  alignment: chaotic', SetCursor(move=CursorMove(x=0, y=39, relative=False)), SetClear(region=<Clear.LINE_AFTER: 3>), ' Is this ok? [ynq]', SetCursor(move=CursorMove(x=1, y=39, relative=False)), SetClear(region=<Clear.LINE_AFTER: 3>), ' ', SetCursor(move=CursorMove(x=2, y=39, relative=False)), SetClear(region=<Clear.LINE_AFTER: 3>), ' perplexity, chaotic female human Rogue', SetCursor(move=CursorMove(x=3, y=39, relative=False)), SetClear(region=<Clear.LINE_AFTER: 3>), ' ', SetCursor(move=CursorMove(x=4, y=39, relative=False)), SetClear(region=<Clear.LINE_AFTER: 3>), ' y + Yes; start game', SetCursor(move=CursorMove(x=5, y=39, relative=False)), SetClear(region=<Clear.LINE_AFTER: 3>), ' n - No; choose role again', SetCursor(move=CursorMove(x=6, y=39, relative=False)), SetClear(region=<Clear.LINE_AFTER: 3>), ' q - Quit', SetCursor(move=CursorMove(x=7, y=39, relative=False)), SetClear(region=<Clear.LINE_AFTER: 3>), SetCursor(move=CursorMove(x=1, y=0, relative=True)), '(end) ', SetCursor(move=CursorMove(x=0, y=38, relative=False)), SetClear(region=<Clear.LINE_AFTER: 3>), SetCursor(move=CursorMove(x=1, y=38, relative=False)), SetClear(region=<Clear.LINE_AFTER: 3>), SetCursor(move=CursorMove(x=2, y=38, relative=False)), SetClear(region=<Clear.LINE_AFTER: 3>), SetCursor(move=CursorMove(x=3, y=38, relative=False)), SetClear(region=<Clear.LINE_AFTER: 3>), SetCursor(move=CursorMove(x=4, y=38, relative=False)), SetClear(region=<Clear.LINE_AFTER: 3>), SetCursor(move=CursorMove(x=5, y=38, relative=False)), SetClear(region=<Clear.LINE_AFTER: 3>), SetCursor(move=CursorMove(x=6, y=38, relative=False)), SetClear(region=<Clear.LINE_AFTER: 3>), SetCursor(move=CursorMove(x=7, y=38, relative=False)), SetClear(region=<Clear.LINE_AFTER: 3>), SetCursor(move=CursorMove(x=8, y=38, relative=False)), SetClear(region=<Clear.LINE_AFTER: 3>), SetCursor(move=CursorMove(x=0, y=0, relative=False)), SetClear(region=<Clear.SCREEN: 2>), SetCursor(move=CursorMove(x=0, y=0, relative=False)), SetCursor(move=CursorMove(x=0, y=0, relative=False)), SetClear(region=<Clear.SCREEN: 2>), SetCursor(move=CursorMove(x=0, y=0, relative=False)), SetCursor(move=CursorMove(x=3, y=38, relative=False)), '------------', SetAttribute(attribute=<Attribute.NORMAL: 0>), SetCursor(move=CursorMove(x=4, y=38, relative=False)), '|.......', SetAttribute(attribute=<Attribute.NORMAL: 0>), SetAttribute(attribute=<Attribute.BOLD: 1>), SetColor(role=<ColorRole.FOREGROUND: 30>, color=Ansi256(7)), SetAttribute(attribute=<Attribute.REVERSE: 7>), 'd', SetAttribute(attribute=<Attribute.NORMAL: 0>), SetAttribute(attribute=<Attribute.NORMAL: 0>), '..|', SetAttribute(attribute=<Attribute.NORMAL: 0>), SetCursor(move=CursorMove(x=5, y=38, relative=False)), '|..', SetAttribute(attribute=<Attribute.NORMAL: 0>), SetAttribute(attribute=<Attribute.BOLD: 1>), SetColor(role=<ColorRole.FOREGROUND: 30>, color=Ansi256(3)), '$', SetAttribute(attribute=<Attribute.NORMAL: 0>), '.', SetAttribute(attribute=<Attribute.NORMAL: 0>), SetColor(role=<ColorRole.FOREGROUND: 30>, color=Ansi256(3)), 'r', SetAttribute(attribute=<Attribute.NORMAL: 0>), '..', SetAttribute(attribute=<Attribute.NORMAL: 0>), SetAttribute(attribute=<Attribute.BOLD: 1>), SetColor(role=<ColorRole.FOREGROUND: 30>, color=Ansi256(7)), '@', SetAttribute(attribute=<Attribute.NORMAL: 0>), '...', SetAttribute(attribute=<Attribute.NORMAL: 0>), SetCursor(move=CursorMove(x=6, y=38, relative=False)), SetColor(role=<ColorRole.FOREGROUND: 30>, color=Ansi256(3)), '+', SetAttribute(attribute=<Attribute.NORMAL: 0>), '..........|', SetAttribute(attribute=<Attribute.NORMAL: 0>), SetCursor(move=CursorMove(x=7, y=38, relative=False)), '------.-----', SetAttribute(attribute=<Attribute.NORMAL: 0>), SetCursor(move=CursorMove(x=5, y=46, relative=False)), SetCursor(move=CursorMove(x=22, y=0, relative=False)), SetClear(region=<Clear.LINE_AFTER: 3>), SetCursor(move=CursorMove(x=23, y=0, relative=False)), SetClear(region=<Clear.LINE_AFTER: 3>), SetCursor(move=CursorMove(x=0, y=-1, relative=True)), '[', SetAttribute(attribute=<Attribute.REVERSE: 7>), 'Perplexity the Footpad        ', SetAttribute(attribute=<Attribute.NORMAL: 0>), '] St:14 Dx:18 Co:18 In:8 Wi:10 Ch:7 Chaotic', SetClear(region=<Clear.LINE_AFTER: 3>), '\\r', SetCursor(move=CursorMove(x=23, y=0, relative=False)), 'Dlvl:1 $:0 HP:12(12) Pw:2(2) AC:7 Xp:1', SetClear(region=<Clear.LINE_AFTER: 3>), SetCursor(move=CursorMove(x=0, y=22, relative=False)), SetClear(region=<Clear.LINE_AFTER: 3>), ' It is written in the Book of Kos:', SetCursor(move=CursorMove(x=1, y=22, relative=False)), SetClear(region=<Clear.LINE_AFTER: 3>), ' ', SetCursor(move=CursorMove(x=2, y=22, relative=False)), SetClear(region=<Clear.LINE_AFTER: 3>), '     After the Creation, the cruel god Moloch rebelled', SetCursor(move=CursorMove(x=3, y=22, relative=False)), SetClear(region=<Clear.LINE_AFTER: 3>), '     against the authority of Marduk the Creator.', SetCursor(move=CursorMove(x=4, y=22, relative=False)), SetClear(region=<Clear.LINE_AFTER: 3>), '     Moloch stole from Marduk the most powerful of all', SetCursor(move=CursorMove(x=5, y=22, relative=False)), SetClear(region=<Clear.LINE_AFTER: 3>), '     the artifacts of the gods, the Amulet of Yendor,', SetCursor(move=CursorMove(x=6, y=22, relative=False)), SetClear(region=<Clear.LINE_AFTER: 3>), '     and he hid it in the dark cavities of Gehennom, the', SetCursor(move=CursorMove(x=7, y=22, relative=False)), SetClear(region=<Clear.LINE_AFTER: 3>), '     Under World, where he now lurks, and bides his time.', SetCursor(move=CursorMove(x=8, y=22, relative=False)), SetClear(region=<Clear.LINE_AFTER: 3>), ' ', SetCursor(move=CursorMove(x=9, y=22, relative=False)), SetClear(region=<Clear.LINE_AFTER: 3>), ' Your god Kos seeks to possess the Amulet, and with it', SetCursor(move=CursorMove(x=10, y=22, relative=False)), SetClear(region=<Clear.LINE_AFTER: 3>), ' to gain deserved ascendance over the other gods.', SetCursor(move=CursorMove(x=11, y=22, relative=False)), SetClear(region=<Clear.LINE_AFTER: 3>), ' ', SetCursor(move=CursorMove(x=12, y=22, relative=False)), SetClear(region=<Clear.LINE_AFTER: 3>), ' You, a newly trained Footpad, have been heralded', SetCursor(move=CursorMove(x=13, y=22, relative=False)), SetClear(region=<Clear.LINE_AFTER: 3>), ' from birth as the instrument of Kos.  You are destined', SetCursor(move=CursorMove(x=14, y=22, relative=False)), SetClear(region=<Clear.LINE_AFTER: 3>), ' to recover the Amulet for your deity, or die in the', SetCursor(move=CursorMove(x=15, y=22, relative=False)), SetClear(region=<Clear.LINE_AFTER: 3>), ' attempt.  Your hour of destiny has come.  For the sake', SetCursor(move=CursorMove(x=16, y=22, relative=False)), SetClear(region=<Clear.LINE_AFTER: 3>), ' of us all:  Go bravely with Kos!', SetCursor(move=CursorMove(x=17, y=22, relative=False)), SetClear(region=<Clear.LINE_AFTER: 3>), SetCursor(move=CursorMove(x=1, y=0, relative=True)), '--More--']\n"
     ]
    }
   ],
   "source": [
    "ansi2 = Ansi(text2)\n",
    "print(list(ansi2.instructions()))"
   ]
  },
  {
   "cell_type": "code",
   "execution_count": null,
   "metadata": {},
   "outputs": [
    {
     "name": "stdout",
     "output_type": "stream",
     "text": [
      "[SetCursor(move=CursorMove(x=0, y=21, relative=False)), SetClear(region=<Clear.LINE_AFTER: 3>), SetCursor(move=CursorMove(x=1, y=21, relative=False)), SetClear(region=<Clear.LINE_AFTER: 3>), SetCursor(move=CursorMove(x=2, y=21, relative=False)), SetClear(region=<Clear.LINE_AFTER: 3>), SetCursor(move=CursorMove(x=3, y=21, relative=False)), SetClear(region=<Clear.LINE_AFTER: 3>), SetCursor(move=CursorMove(x=3, y=38, relative=False)), '------------', SetCursor(move=CursorMove(x=4, y=21, relative=False)), SetClear(region=<Clear.LINE_AFTER: 3>), SetAttribute(attribute=<Attribute.NORMAL: 0>), SetCursor(move=CursorMove(x=4, y=38, relative=False)), '|.......', SetAttribute(attribute=<Attribute.NORMAL: 0>), SetAttribute(attribute=<Attribute.BOLD: 1>), SetColor(role=<ColorRole.FOREGROUND: 30>, color=Ansi256(7)), SetAttribute(attribute=<Attribute.REVERSE: 7>), 'd', SetAttribute(attribute=<Attribute.NORMAL: 0>), SetAttribute(attribute=<Attribute.NORMAL: 0>), '..|', SetCursor(move=CursorMove(x=5, y=21, relative=False)), SetClear(region=<Clear.LINE_AFTER: 3>), SetAttribute(attribute=<Attribute.NORMAL: 0>), SetCursor(move=CursorMove(x=5, y=38, relative=False)), '|..', SetAttribute(attribute=<Attribute.NORMAL: 0>), SetAttribute(attribute=<Attribute.BOLD: 1>), SetColor(role=<ColorRole.FOREGROUND: 30>, color=Ansi256(3)), '$', SetAttribute(attribute=<Attribute.NORMAL: 0>), '.', SetAttribute(attribute=<Attribute.NORMAL: 0>), SetColor(role=<ColorRole.FOREGROUND: 30>, color=Ansi256(3)), 'r', SetAttribute(attribute=<Attribute.NORMAL: 0>), '..', SetAttribute(attribute=<Attribute.NORMAL: 0>), SetAttribute(attribute=<Attribute.BOLD: 1>), SetColor(role=<ColorRole.FOREGROUND: 30>, color=Ansi256(7)), '@', SetAttribute(attribute=<Attribute.NORMAL: 0>), '...', SetCursor(move=CursorMove(x=6, y=21, relative=False)), SetClear(region=<Clear.LINE_AFTER: 3>), SetAttribute(attribute=<Attribute.NORMAL: 0>), SetCursor(move=CursorMove(x=6, y=38, relative=False)), SetColor(role=<ColorRole.FOREGROUND: 30>, color=Ansi256(3)), '+', SetAttribute(attribute=<Attribute.NORMAL: 0>), '..........|', SetCursor(move=CursorMove(x=7, y=21, relative=False)), SetClear(region=<Clear.LINE_AFTER: 3>), SetAttribute(attribute=<Attribute.NORMAL: 0>), SetCursor(move=CursorMove(x=7, y=38, relative=False)), '------.-----', SetCursor(move=CursorMove(x=8, y=21, relative=False)), SetClear(region=<Clear.LINE_AFTER: 3>), SetCursor(move=CursorMove(x=9, y=21, relative=False)), SetClear(region=<Clear.LINE_AFTER: 3>), SetCursor(move=CursorMove(x=10, y=21, relative=False)), SetClear(region=<Clear.LINE_AFTER: 3>), SetCursor(move=CursorMove(x=11, y=21, relative=False)), SetClear(region=<Clear.LINE_AFTER: 3>), SetCursor(move=CursorMove(x=12, y=21, relative=False)), SetClear(region=<Clear.LINE_AFTER: 3>), SetCursor(move=CursorMove(x=13, y=21, relative=False)), SetClear(region=<Clear.LINE_AFTER: 3>), SetCursor(move=CursorMove(x=14, y=21, relative=False)), SetClear(region=<Clear.LINE_AFTER: 3>), SetCursor(move=CursorMove(x=15, y=21, relative=False)), SetClear(region=<Clear.LINE_AFTER: 3>), SetCursor(move=CursorMove(x=16, y=21, relative=False)), SetClear(region=<Clear.LINE_AFTER: 3>), SetCursor(move=CursorMove(x=17, y=21, relative=False)), SetClear(region=<Clear.LINE_AFTER: 3>), SetAttribute(attribute=<Attribute.NORMAL: 0>), SetCursor(move=CursorMove(x=5, y=46, relative=False)), SetCursor(move=CursorMove(x=0, y=0, relative=False)), 'Hello perplexity, welcome to NetHack!  You are a chaotic female human Rogue.', SetClear(region=<Clear.LINE_AFTER: 3>), SetCursor(move=CursorMove(x=5, y=46, relative=False)), SetCursor(move=CursorMove(x=0, y=76, relative=False)), SetClear(region=<Clear.LINE_AFTER: 3>), SetClear(region=<Clear.LINE_AFTER: 3>), '\\r\\n--More--\\r', SetCursor(move=CursorMove(x=0, y=-1, relative=True)), SetClear(region=<Clear.LINE_AFTER: 3>), SetCursor(move=CursorMove(x=1, y=0, relative=False)), SetClear(region=<Clear.LINE_AFTER: 3>), SetCursor(move=CursorMove(x=0, y=0, relative=False)), SetCursor(move=CursorMove(x=0, y=0, relative=False)), 'You are lucky!  Full moon tonight.', SetClear(region=<Clear.LINE_AFTER: 3>), SetCursor(move=CursorMove(x=5, y=46, relative=False)), SetCursor(move=CursorMove(x=0, y=36, relative=False)), 'There is a staircase up here.', SetClear(region=<Clear.LINE_AFTER: 3>), SetCursor(move=CursorMove(x=5, y=46, relative=False)), SetCursor(move=CursorMove(x=0, y=65, relative=False)), '--More--']\n"
     ]
    }
   ],
   "source": [
    "ansi3 = Ansi(text3)\n",
    "print(list(ansi3.instructions()))"
   ]
  },
  {
   "cell_type": "code",
   "execution_count": null,
   "metadata": {},
   "outputs": [
    {
     "data": {
      "text/plain": [
       "[SetCursor(move=CursorMove(x=0, y=21, relative=False)),\n",
       " SetClear(region=<Clear.LINE_AFTER: 3>),\n",
       " SetCursor(move=CursorMove(x=1, y=21, relative=False)),\n",
       " SetClear(region=<Clear.LINE_AFTER: 3>),\n",
       " SetCursor(move=CursorMove(x=2, y=21, relative=False)),\n",
       " SetClear(region=<Clear.LINE_AFTER: 3>),\n",
       " SetCursor(move=CursorMove(x=3, y=21, relative=False)),\n",
       " SetClear(region=<Clear.LINE_AFTER: 3>),\n",
       " SetCursor(move=CursorMove(x=3, y=38, relative=False)),\n",
       " '------------',\n",
       " SetCursor(move=CursorMove(x=4, y=21, relative=False)),\n",
       " SetClear(region=<Clear.LINE_AFTER: 3>),\n",
       " SetAttribute(attribute=<Attribute.NORMAL: 0>),\n",
       " SetCursor(move=CursorMove(x=4, y=38, relative=False)),\n",
       " '|.......',\n",
       " SetAttribute(attribute=<Attribute.NORMAL: 0>),\n",
       " SetAttribute(attribute=<Attribute.BOLD: 1>),\n",
       " SetColor(role=<ColorRole.FOREGROUND: 30>, color=Ansi256(7)),\n",
       " SetAttribute(attribute=<Attribute.REVERSE: 7>),\n",
       " 'd',\n",
       " SetAttribute(attribute=<Attribute.NORMAL: 0>),\n",
       " SetAttribute(attribute=<Attribute.NORMAL: 0>),\n",
       " '..|',\n",
       " SetCursor(move=CursorMove(x=5, y=21, relative=False)),\n",
       " SetClear(region=<Clear.LINE_AFTER: 3>),\n",
       " SetAttribute(attribute=<Attribute.NORMAL: 0>),\n",
       " SetCursor(move=CursorMove(x=5, y=38, relative=False)),\n",
       " '|..',\n",
       " SetAttribute(attribute=<Attribute.NORMAL: 0>),\n",
       " SetAttribute(attribute=<Attribute.BOLD: 1>),\n",
       " SetColor(role=<ColorRole.FOREGROUND: 30>, color=Ansi256(3)),\n",
       " '$',\n",
       " SetAttribute(attribute=<Attribute.NORMAL: 0>),\n",
       " '.',\n",
       " SetAttribute(attribute=<Attribute.NORMAL: 0>),\n",
       " SetColor(role=<ColorRole.FOREGROUND: 30>, color=Ansi256(3)),\n",
       " 'r',\n",
       " SetAttribute(attribute=<Attribute.NORMAL: 0>),\n",
       " '..',\n",
       " SetAttribute(attribute=<Attribute.NORMAL: 0>),\n",
       " SetAttribute(attribute=<Attribute.BOLD: 1>),\n",
       " SetColor(role=<ColorRole.FOREGROUND: 30>, color=Ansi256(7)),\n",
       " '@',\n",
       " SetAttribute(attribute=<Attribute.NORMAL: 0>),\n",
       " '...',\n",
       " SetCursor(move=CursorMove(x=6, y=21, relative=False)),\n",
       " SetClear(region=<Clear.LINE_AFTER: 3>),\n",
       " SetAttribute(attribute=<Attribute.NORMAL: 0>),\n",
       " SetCursor(move=CursorMove(x=6, y=38, relative=False)),\n",
       " SetColor(role=<ColorRole.FOREGROUND: 30>, color=Ansi256(3)),\n",
       " '+',\n",
       " SetAttribute(attribute=<Attribute.NORMAL: 0>),\n",
       " '..........|',\n",
       " SetCursor(move=CursorMove(x=7, y=21, relative=False)),\n",
       " SetClear(region=<Clear.LINE_AFTER: 3>),\n",
       " SetAttribute(attribute=<Attribute.NORMAL: 0>),\n",
       " SetCursor(move=CursorMove(x=7, y=38, relative=False)),\n",
       " '------.-----',\n",
       " SetCursor(move=CursorMove(x=8, y=21, relative=False)),\n",
       " SetClear(region=<Clear.LINE_AFTER: 3>),\n",
       " SetCursor(move=CursorMove(x=9, y=21, relative=False)),\n",
       " SetClear(region=<Clear.LINE_AFTER: 3>),\n",
       " SetCursor(move=CursorMove(x=10, y=21, relative=False)),\n",
       " SetClear(region=<Clear.LINE_AFTER: 3>),\n",
       " SetCursor(move=CursorMove(x=11, y=21, relative=False)),\n",
       " SetClear(region=<Clear.LINE_AFTER: 3>),\n",
       " SetCursor(move=CursorMove(x=12, y=21, relative=False)),\n",
       " SetClear(region=<Clear.LINE_AFTER: 3>),\n",
       " SetCursor(move=CursorMove(x=13, y=21, relative=False)),\n",
       " SetClear(region=<Clear.LINE_AFTER: 3>),\n",
       " SetCursor(move=CursorMove(x=14, y=21, relative=False)),\n",
       " SetClear(region=<Clear.LINE_AFTER: 3>),\n",
       " SetCursor(move=CursorMove(x=15, y=21, relative=False)),\n",
       " SetClear(region=<Clear.LINE_AFTER: 3>),\n",
       " SetCursor(move=CursorMove(x=16, y=21, relative=False)),\n",
       " SetClear(region=<Clear.LINE_AFTER: 3>),\n",
       " SetCursor(move=CursorMove(x=17, y=21, relative=False)),\n",
       " SetClear(region=<Clear.LINE_AFTER: 3>),\n",
       " SetAttribute(attribute=<Attribute.NORMAL: 0>),\n",
       " SetCursor(move=CursorMove(x=5, y=46, relative=False)),\n",
       " SetCursor(move=CursorMove(x=0, y=0, relative=False)),\n",
       " 'Hello perplexity, welcome to NetHack!  You are a chaotic female human Rogue.',\n",
       " SetClear(region=<Clear.LINE_AFTER: 3>),\n",
       " SetCursor(move=CursorMove(x=5, y=46, relative=False)),\n",
       " SetCursor(move=CursorMove(x=0, y=76, relative=False)),\n",
       " SetClear(region=<Clear.LINE_AFTER: 3>),\n",
       " SetClear(region=<Clear.LINE_AFTER: 3>),\n",
       " '\\r\\n--More--\\r',\n",
       " SetCursor(move=CursorMove(x=0, y=-1, relative=True)),\n",
       " SetClear(region=<Clear.LINE_AFTER: 3>),\n",
       " SetCursor(move=CursorMove(x=1, y=0, relative=False)),\n",
       " SetClear(region=<Clear.LINE_AFTER: 3>),\n",
       " SetCursor(move=CursorMove(x=0, y=0, relative=False)),\n",
       " SetCursor(move=CursorMove(x=0, y=0, relative=False)),\n",
       " 'You are lucky!  Full moon tonight.',\n",
       " SetClear(region=<Clear.LINE_AFTER: 3>),\n",
       " SetCursor(move=CursorMove(x=5, y=46, relative=False)),\n",
       " SetCursor(move=CursorMove(x=0, y=36, relative=False)),\n",
       " 'There is a staircase up here.',\n",
       " SetClear(region=<Clear.LINE_AFTER: 3>),\n",
       " SetCursor(move=CursorMove(x=5, y=46, relative=False)),\n",
       " SetCursor(move=CursorMove(x=0, y=65, relative=False)),\n",
       " '--More--']"
      ]
     },
     "execution_count": 7,
     "metadata": {},
     "output_type": "execute_result"
    }
   ],
   "source": [
    "list(ansi3.instructions())"
   ]
  },
  {
   "cell_type": "code",
   "execution_count": null,
   "metadata": {},
   "outputs": [
    {
     "data": {
      "text/plain": [
       "0"
      ]
     },
     "execution_count": 15,
     "metadata": {},
     "output_type": "execute_result"
    }
   ],
   "source": [
    "list(ansi1.instructions())[1].move.x"
   ]
  },
  {
   "cell_type": "code",
   "execution_count": null,
   "metadata": {},
   "outputs": [
    {
     "data": {
      "text/plain": [
       "['PATTERN',\n",
       " 'capitalize',\n",
       " 'casefold',\n",
       " 'center',\n",
       " 'count',\n",
       " 'encode',\n",
       " 'endswith',\n",
       " 'escapes',\n",
       " 'expandtabs',\n",
       " 'find',\n",
       " 'format',\n",
       " 'format_map',\n",
       " 'index',\n",
       " 'instructions',\n",
       " 'isalnum',\n",
       " 'isalpha',\n",
       " 'isascii',\n",
       " 'isdecimal',\n",
       " 'isdigit',\n",
       " 'isidentifier',\n",
       " 'islower',\n",
       " 'isnumeric',\n",
       " 'isprintable',\n",
       " 'isspace',\n",
       " 'istitle',\n",
       " 'isupper',\n",
       " 'join',\n",
       " 'ljust',\n",
       " 'lower',\n",
       " 'lstrip',\n",
       " 'maketrans',\n",
       " 'partition',\n",
       " 'removeprefix',\n",
       " 'removesuffix',\n",
       " 'replace',\n",
       " 'rfind',\n",
       " 'rindex',\n",
       " 'rjust',\n",
       " 'rpartition',\n",
       " 'rsplit',\n",
       " 'rstrip',\n",
       " 'split',\n",
       " 'splitlines',\n",
       " 'startswith',\n",
       " 'strip',\n",
       " 'swapcase',\n",
       " 'title',\n",
       " 'translate',\n",
       " 'upper',\n",
       " 'zfill']"
      ]
     },
     "execution_count": 8,
     "metadata": {},
     "output_type": "execute_result"
    }
   ],
   "source": [
    "from stransi import Ansi\n",
    "ansi = Ansi(text)\n",
    "[i for i in dir(ansi) if not i.startswith(\"__\")]"
   ]
  },
  {
   "cell_type": "code",
   "execution_count": null,
   "metadata": {},
   "outputs": [
    {
     "data": {
      "text/plain": [
       "['\\x1b7\\x1b[?47h\\x1b)0',\n",
       " SetCursor(move=CursorMove(x=0, y=0, relative=False)),\n",
       " SetClear(region=<Clear.SCREEN: 2>),\n",
       " SetCursor(move=CursorMove(x=0, y=0, relative=False)),\n",
       " SetCursor(move=CursorMove(x=1, y=0, relative=False)),\n",
       " 'NetHack, Copyright 1985-2020\\r',\n",
       " SetCursor(move=CursorMove(x=2, y=0, relative=False)),\n",
       " '         By Stichting Mathematisch Centrum and M. Stephenson.\\r',\n",
       " SetCursor(move=CursorMove(x=3, y=0, relative=False)),\n",
       " '         Version 3.6.6 Unix, revised Feb 25 14:00:45 2021.\\r',\n",
       " SetCursor(move=CursorMove(x=4, y=0, relative=False)),\n",
       " '         See license for details.\\r',\n",
       " SetCursor(move=CursorMove(x=5, y=0, relative=False)),\n",
       " SetCursor(move=CursorMove(x=6, y=0, relative=False)),\n",
       " SetCursor(move=CursorMove(x=7, y=0, relative=False)),\n",
       " \"Shall I pick character's race, role, gender and alignment for you? [ynaq] \"]"
      ]
     },
     "execution_count": 10,
     "metadata": {},
     "output_type": "execute_result"
    }
   ],
   "source": [
    "list(ansi.escapes())\n",
    "list(ansi.instructions()) # so this works quite well; the problem is it doesn't handle everything, at least by default."
   ]
  },
  {
   "cell_type": "code",
   "execution_count": null,
   "metadata": {},
   "outputs": [
    {
     "name": "stdout",
     "output_type": "stream",
     "text": [
      "\u001b[6;1H\u001b[7;1H\u001b[8;1HShall I pick character's race, role, gender and alignment for you? [ynaq] \n"
     ]
    }
   ],
   "source": [
    "# stransi uses this...\n",
    "import re\n",
    "stransi_pattern = re.compile(r\"(\\N{ESC}\\[[\\d;]*[a-zA-Z])\")\n",
    "stransi_pattern.findall(text) # okay so yeah, there's a fair number that it simply fails to find, specifically:\n",
    "\"\\x1b7\" # save cursor position\n",
    "\"\\x1b[?47h\" # switch to alternate screen \n",
    "\"\\x1b)0\" # set character set to 0 (ASCII)\n",
    "# So I could just strip out those guys.\n",
    "print(ansi) # this doesn't get everything I want; I do wonder if it's a quirk of Jupyter.\n"
   ]
  },
  {
   "cell_type": "code",
   "execution_count": null,
   "metadata": {},
   "outputs": [],
   "source": []
  },
  {
   "cell_type": "code",
   "execution_count": null,
   "metadata": {},
   "outputs": [
    {
     "ename": "AssertionError",
     "evalue": "Escape('\\x1b7') is not an escape sequence",
     "output_type": "error",
     "traceback": [
      "\u001b[0;31m---------------------------------------------------------------------------\u001b[0m",
      "\u001b[0;31mAssertionError\u001b[0m                            Traceback (most recent call last)",
      "Cell \u001b[0;32mIn[1], line 2\u001b[0m\n\u001b[1;32m      1\u001b[0m \u001b[38;5;28;01mfrom\u001b[39;00m \u001b[38;5;21;01mstransi\u001b[39;00m \u001b[38;5;28;01mimport\u001b[39;00m Escape\n\u001b[0;32m----> 2\u001b[0m \u001b[38;5;28mlist\u001b[39m(Escape(\u001b[38;5;124m\"\u001b[39m\u001b[38;5;130;01m\\x1b\u001b[39;00m\u001b[38;5;124m7\u001b[39m\u001b[38;5;124m\"\u001b[39m)\u001b[38;5;241m.\u001b[39mtokens())\n",
      "File \u001b[0;32m~/anaconda3/lib/python3.11/site-packages/stransi/escape.py:36\u001b[0m, in \u001b[0;36mEscape.tokens\u001b[0;34m(self)\u001b[0m\n\u001b[1;32m     34\u001b[0m \u001b[38;5;28;01mdef\u001b[39;00m \u001b[38;5;21mtokens\u001b[39m(\u001b[38;5;28mself\u001b[39m) \u001b[38;5;241m-\u001b[39m\u001b[38;5;241m>\u001b[39m Iterator[Token]:\n\u001b[1;32m     35\u001b[0m \u001b[38;5;250m    \u001b[39m\u001b[38;5;124;03m\"\"\"Yield individual tokens from the escape sequence.\"\"\"\u001b[39;00m\n\u001b[0;32m---> 36\u001b[0m     \u001b[38;5;28;01massert\u001b[39;00m isescape(\u001b[38;5;28mself\u001b[39m), \u001b[38;5;124mf\u001b[39m\u001b[38;5;124m\"\u001b[39m\u001b[38;5;132;01m{\u001b[39;00m\u001b[38;5;28mself\u001b[39m\u001b[38;5;132;01m!r}\u001b[39;00m\u001b[38;5;124m is not an escape sequence\u001b[39m\u001b[38;5;124m\"\u001b[39m\n\u001b[1;32m     37\u001b[0m     kind \u001b[38;5;241m=\u001b[39m \u001b[38;5;28mself\u001b[39m[\u001b[38;5;241m-\u001b[39m\u001b[38;5;241m1\u001b[39m]\n\u001b[1;32m     38\u001b[0m     \u001b[38;5;28;01mfor\u001b[39;00m param \u001b[38;5;129;01min\u001b[39;00m _isplit(\u001b[38;5;28mself\u001b[39m[\u001b[38;5;241m2\u001b[39m:\u001b[38;5;241m-\u001b[39m\u001b[38;5;241m1\u001b[39m], \u001b[38;5;28mself\u001b[39m\u001b[38;5;241m.\u001b[39mSEPARATOR):\n",
      "\u001b[0;31mAssertionError\u001b[0m: Escape('\\x1b7') is not an escape sequence"
     ]
    }
   ],
   "source": [
    "from stransi import Escape\n",
    "list(Escape(\"\\x1b7\").tokens()) # this fails"
   ]
  },
  {
   "cell_type": "code",
   "execution_count": null,
   "metadata": {},
   "outputs": [
    {
     "data": {
      "text/plain": [
       "Escape('\\x1b\\\\[\\\\?47h\\x1b)0')"
      ]
     },
     "execution_count": 4,
     "metadata": {},
     "output_type": "execute_result"
    }
   ],
   "source": [
    "from stransi import Escape\n",
    "Escape(\"\\x1b\\[\\?47h\")\n",
    "Escape(\"\\x1b)0\")\n",
    "Escape(\"\\x1b\\[\\?47h\\x1b)0\")"
   ]
  },
  {
   "cell_type": "code",
   "execution_count": null,
   "metadata": {},
   "outputs": [],
   "source": [
    "saved_pattern = Ansi.PATTERN "
   ]
  },
  {
   "cell_type": "code",
   "execution_count": null,
   "metadata": {},
   "outputs": [
    {
     "ename": "ValueError",
     "evalue": "invalid literal for int() with base 10: '?47h\\x1b)'",
     "output_type": "error",
     "traceback": [
      "\u001b[0;31m---------------------------------------------------------------------------\u001b[0m",
      "\u001b[0;31mValueError\u001b[0m                                Traceback (most recent call last)",
      "Cell \u001b[0;32mIn[11], line 10\u001b[0m\n\u001b[1;32m      8\u001b[0m cleaned_text \u001b[38;5;241m=\u001b[39m save_cursor\u001b[38;5;241m.\u001b[39msub(\u001b[38;5;124m\"\u001b[39m\u001b[38;5;124m\"\u001b[39m, text)\n\u001b[1;32m      9\u001b[0m test \u001b[38;5;241m=\u001b[39m Ansi(cleaned_text)\n\u001b[0;32m---> 10\u001b[0m \u001b[38;5;28mlist\u001b[39m(test\u001b[38;5;241m.\u001b[39minstructions())\n",
      "File \u001b[0;32m~/anaconda3/lib/python3.11/site-packages/stransi/ansi.py:50\u001b[0m, in \u001b[0;36mAnsi.instructions\u001b[0;34m(self)\u001b[0m\n\u001b[1;32m     48\u001b[0m     \u001b[38;5;28;01myield\u001b[39;00m escape\n\u001b[1;32m     49\u001b[0m     \u001b[38;5;28;01mcontinue\u001b[39;00m\n\u001b[0;32m---> 50\u001b[0m \u001b[38;5;28;01myield from\u001b[39;00m escape\u001b[38;5;241m.\u001b[39minstructions()\n",
      "File \u001b[0;32m~/anaconda3/lib/python3.11/site-packages/stransi/escape.py:58\u001b[0m, in \u001b[0;36mEscape.instructions\u001b[0;34m(self)\u001b[0m\n\u001b[1;32m     45\u001b[0m \u001b[38;5;250m\u001b[39m\u001b[38;5;124mr\u001b[39m\u001b[38;5;124;03m\"\"\"\u001b[39;00m\n\u001b[1;32m     46\u001b[0m \u001b[38;5;124;03mDecode a string of tokens into escapable objects.\u001b[39;00m\n\u001b[1;32m     47\u001b[0m \n\u001b[0;32m   (...)\u001b[0m\n\u001b[1;32m     55\u001b[0m \u001b[38;5;124;03m SetColor(role=<ColorRole.BACKGROUND: 40>, color=Ansi256(code=4))]\u001b[39;00m\n\u001b[1;32m     56\u001b[0m \u001b[38;5;124;03m\"\"\"\u001b[39;00m\n\u001b[1;32m     57\u001b[0m tokens \u001b[38;5;241m=\u001b[39m \u001b[38;5;28mself\u001b[39m\u001b[38;5;241m.\u001b[39mtokens()\n\u001b[0;32m---> 58\u001b[0m \u001b[38;5;28;01mwhile\u001b[39;00m token \u001b[38;5;241m:=\u001b[39m \u001b[38;5;28mnext\u001b[39m(tokens, \u001b[38;5;28;01mNone\u001b[39;00m):\n\u001b[1;32m     59\u001b[0m     \u001b[38;5;28;01mif\u001b[39;00m token\u001b[38;5;241m.\u001b[39missgr():\n\u001b[1;32m     60\u001b[0m         \u001b[38;5;28;01mif\u001b[39;00m token\u001b[38;5;241m.\u001b[39mdata \u001b[38;5;129;01min\u001b[39;00m \u001b[38;5;28mself\u001b[39m\u001b[38;5;241m.\u001b[39mALL_ATTRIBUTE_CODES:\n",
      "File \u001b[0;32m~/anaconda3/lib/python3.11/site-packages/stransi/escape.py:42\u001b[0m, in \u001b[0;36mEscape.tokens\u001b[0;34m(self)\u001b[0m\n\u001b[1;32m     40\u001b[0m     \u001b[38;5;28;01myield\u001b[39;00m Token(kind\u001b[38;5;241m=\u001b[39mkind, data\u001b[38;5;241m=\u001b[39m\u001b[38;5;241m0\u001b[39m)\n\u001b[1;32m     41\u001b[0m     \u001b[38;5;28;01mcontinue\u001b[39;00m\n\u001b[0;32m---> 42\u001b[0m \u001b[38;5;28;01myield\u001b[39;00m Token(kind\u001b[38;5;241m=\u001b[39mkind, data\u001b[38;5;241m=\u001b[39m\u001b[38;5;28mint\u001b[39m(param))\n",
      "\u001b[0;31mValueError\u001b[0m: invalid literal for int() with base 10: '?47h\\x1b)'"
     ]
    }
   ],
   "source": [
    "#decompiled = Ansi.PATTERN.pattern\n",
    "#extra_patterns = [r\"\\x1b7\"]\n",
    "#new_pattern = re.compile(f\"({'|'.join(extra_patterns)})|{decompiled}\")\n",
    "#Ansi.PATTERN = new_pattern\n",
    "from stransi import Ansi\n",
    "import re\n",
    "save_cursor = re.compile(r\"\\x1b7\")\n",
    "cleaned_text = save_cursor.sub(\"\", text)\n",
    "test = Ansi(cleaned_text)\n",
    "list(test.instructions()) # okay, so man oh man does this not fail gracefully."
   ]
  },
  {
   "cell_type": "code",
   "execution_count": null,
   "metadata": {},
   "outputs": [
    {
     "data": {
      "text/plain": [
       "[]"
      ]
     },
     "execution_count": 22,
     "metadata": {},
     "output_type": "execute_result"
    }
   ],
   "source": [
    "import re\n",
    "test = re.compile(\"\\x1b5\")\n",
    "test.findall(text)"
   ]
  },
  {
   "cell_type": "code",
   "execution_count": null,
   "metadata": {},
   "outputs": [
    {
     "name": "stdout",
     "output_type": "stream",
     "text": [
      "('y\\x1b[H\\x1b[2J\\x1b[H       name: perplexity\\r'\n",
      " '\\x1b[2;1H       role: Valkyrie\\r'\n",
      " '\\x1b[3;1H       race: human\\r'\n",
      " '\\x1b[4;1H     gender: female\\r'\n",
      " '\\x1b[5;1H  alignment: neutral\\x1b[1;41H\\x1b[K Is this ok? '\n",
      " '[ynq]\\x1b[2;41H\\x1b[K \\x1b[3;41H\\x1b[K perplexity, neutral human '\n",
      " 'Valkyrie\\x1b[4;41H\\x1b[K \\x1b[5;41H\\x1b[K y + Yes; start '\n",
      " 'game\\x1b[6;41H\\x1b[K n - No; choose role again\\x1b[7;41H\\x1b[K q - '\n",
      " 'Quit\\x1b[8;41H\\x1b[K\\x1b[C(end) '\n",
      " '\\x1b[1;40H\\x1b[K\\x1b[2;40H\\x1b[K\\x1b[3;40H\\x1b[K\\x1b[4;40H\\x1b[K\\x1b[5;40H\\x1b[K\\x1b[6;40H\\x1b[K\\x1b[7;40H\\x1b[K\\x1b[8;40H\\x1b[K\\x1b[9;40H\\x1b[K\\x1b[H\\x1b[2J\\x1b[H\\x1b[H\\x1b[2J\\x1b[H\\x1b[4;9H--------------\\x1b[m\\x1b[5;9H|\\x1b[m\\x1b[1m\\x1b[31m!\\x1b[m...........|\\x1b[m\\x1b[6;9H\\x1b[33m+k\\x1b[m...........|\\x1b[m\\x1b[7;9H|....\\x1b[m\\x1b[1m\\x1b[37m\\x1b[7mf\\x1b[m\\x1b[m\\x1b[1m\\x1b[37m@\\x1b[m.......\\x1b[m\\x1b[8;9H|............|\\x1b[m\\x1b[9;9H|............|\\x1b[m\\x1b[10;9H--------------\\x1b[m\\x1b[7;15H\\x1b[23;1H\\x1b[K\\x1b[24;1H\\x1b[K\\x1b[A[\\x1b[7mPerplexity '\n",
      " 'the Stripling      \\x1b[m] St:18/03 Dx:13 Co:15 In:8 Wi:8 Ch:10 '\n",
      " 'Neutral\\x1b[K\\r'\n",
      " '\\x1b[24;1HDlvl:1 $:0 HP:16(16) Pw:2(2) AC:6 Xp:1\\x1b[K\\x1b[1;23H\\x1b[K It is '\n",
      " 'written in the Book of Odin:\\x1b[2;23H\\x1b[K \\x1b[3;23H\\x1b[K     After the '\n",
      " 'Creation, the cruel god Moloch rebelled\\x1b[4;23H\\x1b[K     against the '\n",
      " 'authority of Marduk the Creator.\\x1b[5;23H\\x1b[K     Moloch stole from '\n",
      " 'Marduk the most powerful of all\\x1b[6;23H\\x1b[K     the artifacts of the '\n",
      " 'gods, the Amulet of Yendor,\\x1b[7;23H\\x1b[K     and he hid it in the dark '\n",
      " 'cavities of Gehennom, the\\x1b[8;23H\\x1b[K     Under World, where he now '\n",
      " 'lurks, and bides his time.\\x1b[9;23H\\x1b[K \\x1b[10;23H\\x1b[K Your god Odin '\n",
      " 'seeks to possess the Amulet, and with it\\x1b[11;23H\\x1b[K to gain deserved '\n",
      " 'ascendance over the other gods.\\x1b[12;23H\\x1b[K \\x1b[13;23H\\x1b[K You, a '\n",
      " 'newly trained Stripling, have been heralded\\x1b[14;23H\\x1b[K from birth as '\n",
      " 'the instrument of Odin.  You are destined\\x1b[15;23H\\x1b[K to recover the '\n",
      " 'Amulet for your deity, or die in the\\x1b[16;23H\\x1b[K attempt.  Your hour of '\n",
      " 'destiny has come.  For the sake\\x1b[17;23H\\x1b[K of us all:  Go bravely with '\n",
      " 'Odin!\\x1b[18;23H\\x1b[K\\x1b[C--More--')\n"
     ]
    },
    {
     "data": {
      "text/plain": [
       "'y\\x1b[H\\x1b[2J\\x1b[H       name: perplexity\\r\\x1b[2;1H       role: Valkyrie\\r\\x1b[3;1H       race: human\\r\\x1b[4;1H     gender: female\\r\\x1b[5;1H  alignment: neutral\\x1b[1;41H\\x1b[K Is this ok? [ynq]\\x1b[2;41H\\x1b[K \\x1b[3;41H\\x1b[K perplexity, neutral human Valkyrie\\x1b[4;41H\\x1b[K \\x1b[5;41H\\x1b[K y + Yes; start game\\x1b[6;41H\\x1b[K n - No; choose role again\\x1b[7;41H\\x1b[K q - Quit\\x1b[8;41H\\x1b[K\\x1b[C(end) \\x1b[1;40H\\x1b[K\\x1b[2;40H\\x1b[K\\x1b[3;40H\\x1b[K\\x1b[4;40H\\x1b[K\\x1b[5;40H\\x1b[K\\x1b[6;40H\\x1b[K\\x1b[7;40H\\x1b[K\\x1b[8;40H\\x1b[K\\x1b[9;40H\\x1b[K\\x1b[H\\x1b[2J\\x1b[H\\x1b[H\\x1b[2J\\x1b[H\\x1b[4;9H--------------\\x1b[m\\x1b[5;9H|\\x1b[m\\x1b[1m\\x1b[31m!\\x1b[m...........|\\x1b[m\\x1b[6;9H\\x1b[33m+k\\x1b[m...........|\\x1b[m\\x1b[7;9H|....\\x1b[m\\x1b[1m\\x1b[37m\\x1b[7mf\\x1b[m\\x1b[m\\x1b[1m\\x1b[37m@\\x1b[m.......\\x1b[m\\x1b[8;9H|............|\\x1b[m\\x1b[9;9H|............|\\x1b[m\\x1b[10;9H--------------\\x1b[m\\x1b[7;15H\\x1b[23;1H\\x1b[K\\x1b[24;1H\\x1b[K\\x1b[A[\\x1b[7mPerplexity the Stripling      \\x1b[m] St:18/03 Dx:13 Co:15 In:8 Wi:8 Ch:10 Neutral\\x1b[K\\r\\x1b[24;1HDlvl:1 $:0 HP:16(16) Pw:2(2) AC:6 Xp:1\\x1b[K\\x1b[1;23H\\x1b[K It is written in the Book of Odin:\\x1b[2;23H\\x1b[K \\x1b[3;23H\\x1b[K     After the Creation, the cruel god Moloch rebelled\\x1b[4;23H\\x1b[K     against the authority of Marduk the Creator.\\x1b[5;23H\\x1b[K     Moloch stole from Marduk the most powerful of all\\x1b[6;23H\\x1b[K     the artifacts of the gods, the Amulet of Yendor,\\x1b[7;23H\\x1b[K     and he hid it in the dark cavities of Gehennom, the\\x1b[8;23H\\x1b[K     Under World, where he now lurks, and bides his time.\\x1b[9;23H\\x1b[K \\x1b[10;23H\\x1b[K Your god Odin seeks to possess the Amulet, and with it\\x1b[11;23H\\x1b[K to gain deserved ascendance over the other gods.\\x1b[12;23H\\x1b[K \\x1b[13;23H\\x1b[K You, a newly trained Stripling, have been heralded\\x1b[14;23H\\x1b[K from birth as the instrument of Odin.  You are destined\\x1b[15;23H\\x1b[K to recover the Amulet for your deity, or die in the\\x1b[16;23H\\x1b[K attempt.  Your hour of destiny has come.  For the sake\\x1b[17;23H\\x1b[K of us all:  Go bravely with Odin!\\x1b[18;23H\\x1b[K\\x1b[C--More--'"
      ]
     },
     "execution_count": 15,
     "metadata": {},
     "output_type": "execute_result"
    }
   ],
   "source": [
    "nethack.send_command(\"y\")\n",
    "nethack.read_output()"
   ]
  },
  {
   "cell_type": "code",
   "execution_count": null,
   "metadata": {},
   "outputs": [
    {
     "name": "stdout",
     "output_type": "stream",
     "text": [
      "NetHack, Copyright 1985-2020\n",
      "         By Stichting Mathematisch Centrum and M. Stephenson.\n",
      "         Version 3.6.6 Unix, revised Feb 25 14:00:45 2021.\n",
      "         See license for details.\n",
      "Shall I pick character's race, role, gender and alignment for you? [ynaq] \n"
     ]
    }
   ],
   "source": [
    "import re\n",
    "ansi_escape_codes = {\n",
    "    r\"\\x1b7\": \"save cursor\",\n",
    "    r\"\\x1b\\[\\?47h\": \"set alternate screen\",\n",
    "    r\"\\x1b\\)0\": \"set to ASCII\",\n",
    "    r\"\\x1b\\[H\": \"move cursor to upper left\",\n",
    "    r\"\\x1b\\[2J\": \"clear screen\", # this might be a parameter?\n",
    "    r\"\\x1b\\[(\\d+);(\\d+)H\": \"move cursor\",\n",
    "    r\"\\x1b\\[K\": \"clear to end of line\",\n",
    "    r\"\\x1b\\[C\": \"move cursor right\",\n",
    "    r\"\\x1b8\": \"restore cursor\",\n",
    "}\n",
    "\n",
    "def remove_ansi_escape_codes(text):\n",
    "    for key in ansi_escape_codes:\n",
    "        text = re.sub(key, \"\", text)\n",
    "    return text\n",
    "\n",
    "def replace_returns(text):\n",
    "    return text.replace(\"\\r\", \"\\n\")\n",
    "\n",
    "def clean(text):\n",
    "    text = replace_returns(text)\n",
    "    text = remove_ansi_escape_codes(text)\n",
    "    return text\n",
    "\n",
    "cleaned = clean(text)\n",
    "\n",
    "print(cleaned)"
   ]
  },
  {
   "cell_type": "code",
   "execution_count": null,
   "metadata": {},
   "outputs": [
    {
     "name": "stdout",
     "output_type": "stream",
     "text": [
      "      k, Copyright 1985-2020\n"
     ]
    }
   ],
   "source": [
    "print(clean[:35])"
   ]
  },
  {
   "cell_type": "code",
   "execution_count": null,
   "metadata": {},
   "outputs": [
    {
     "data": {
      "text/plain": [
       "[('2', '1'),\n",
       " ('3', '1'),\n",
       " ('4', '1'),\n",
       " ('5', '1'),\n",
       " ('6', '1'),\n",
       " ('7', '1'),\n",
       " ('8', '1')]"
      ]
     },
     "execution_count": 29,
     "metadata": {},
     "output_type": "execute_result"
    }
   ],
   "source": [
    "re.compile(r\"\\x1b\\[(\\d+);(\\d+)H\").findall(text)"
   ]
  },
  {
   "cell_type": "code",
   "execution_count": null,
   "metadata": {},
   "outputs": [
    {
     "ename": "AttributeError",
     "evalue": "module 'curses' has no attribute 'tputs'",
     "output_type": "error",
     "traceback": [
      "\u001b[0;31m---------------------------------------------------------------------------\u001b[0m",
      "\u001b[0;31mAttributeError\u001b[0m                            Traceback (most recent call last)",
      "Cell \u001b[0;32mIn[1], line 5\u001b[0m\n\u001b[1;32m      1\u001b[0m \u001b[38;5;28;01mimport\u001b[39;00m \u001b[38;5;21;01mcurses\u001b[39;00m\n\u001b[1;32m      3\u001b[0m stdscr \u001b[38;5;241m=\u001b[39m curses\u001b[38;5;241m.\u001b[39minitscr()\n\u001b[0;32m----> 5\u001b[0m curses\u001b[38;5;241m.\u001b[39mtputs(curses\u001b[38;5;241m.\u001b[39mtigetstr(\u001b[38;5;124m\"\u001b[39m\u001b[38;5;124mbold\u001b[39m\u001b[38;5;124m\"\u001b[39m), \u001b[38;5;241m1\u001b[39m)\n\u001b[1;32m      6\u001b[0m stdscr\u001b[38;5;241m.\u001b[39maddstr(\u001b[38;5;124m\"\u001b[39m\u001b[38;5;124mHello, world!\u001b[39m\u001b[38;5;124m\"\u001b[39m)\n\u001b[1;32m      7\u001b[0m curses\u001b[38;5;241m.\u001b[39mtputs(curses\u001b[38;5;241m.\u001b[39mtigetstr(\u001b[38;5;124m\"\u001b[39m\u001b[38;5;124msgr0\u001b[39m\u001b[38;5;124m\"\u001b[39m), \u001b[38;5;241m1\u001b[39m)\n",
      "\u001b[0;31mAttributeError\u001b[0m: module 'curses' has no attribute 'tputs'"
     ]
    }
   ],
   "source": [
    "import curses\n",
    "\n",
    "stdscr = curses.initscr()\n",
    "\n",
    "curses.tputs(curses.tigetstr(\"bold\"), 1)\n",
    "stdscr.addstr(\"Hello, world!\")\n",
    "curses.tputs(curses.tigetstr(\"sgr0\"), 1)\n",
    "\n",
    "curses.endwin()"
   ]
  },
  {
   "cell_type": "code",
   "execution_count": 10,
   "metadata": {},
   "outputs": [],
   "source": [
    "import re\n",
    "\n",
    "class Tile:\n",
    "    \"\"\"Represents a single tile in the terminal\"\"\"\n",
    "    def __init__(self):\n",
    "        self.color = self.glyph = None\n",
    "        self.reset()\n",
    "    \n",
    "    def reset(self):\n",
    "        \"\"\"Resets the tile to a white-on-black space\"\"\"\n",
    "        self.color = {\n",
    "            'fg': 37, 'bg': 40,\n",
    "            'reverse': False,\n",
    "            'bold': False,\n",
    "        }\n",
    "        self.glyph = ' '\n",
    "\n",
    "    def set(self, glyph, color):\n",
    "        self.glyph = glyph\n",
    "        self.color['fg'] = color['fg']\n",
    "        self.color['bg'] = color['bg']\n",
    "        self.color['reverse'] = color['reverse']\n",
    "        self.color['bold'] = color['bold']\n",
    "\n",
    "class Ansiterm:\n",
    "    _escape_parser = re.compile(r'^\\x1b\\[?([\\d;]*)(\\w)')\n",
    "    def __init__(self, rows, cols):\n",
    "        \"\"\"Initializes the ansiterm with rows*cols white-on-black spaces\"\"\"\n",
    "        self.rows = rows\n",
    "        self.cols = cols\n",
    "        self.tiles = [Tile() for _ in range(rows * cols)]\n",
    "        self.cursor = {\n",
    "            'x': 0,\n",
    "            'y': 0,\n",
    "        }\n",
    "        self.color = {\n",
    "            'fg': 37, 'bg': 40,\n",
    "            'bold': False,\n",
    "            'reverse': False,\n",
    "        }\n",
    "\n",
    "    def get_string(self, from_, to):\n",
    "        \"\"\"Returns the character of a section of the screen\"\"\"\n",
    "        return ''.join([tile.glyph for tile in self.get_tiles(from_, to)])\n",
    "\n",
    "    def get_tiles(self, from_, to):\n",
    "        \"\"\"Returns the tileset of a section of the screen\"\"\"\n",
    "        return [tile for tile in self.tiles[from_:to]]\n",
    "\n",
    "    def get_cursor(self):\n",
    "        \"\"\"Returns the current position of the curser\"\"\"\n",
    "        return self.cursor.copy()\n",
    "\n",
    "    def _parse_sgr(self, param):\n",
    "        \"\"\"Handles <escape code>n[;k]m, which changes the graphic rendition\"\"\"\n",
    "        if param >= 30 and param <= 37:\n",
    "            self.color['fg'] = param\n",
    "        elif param >= 40 and param <= 47:\n",
    "            self.color['bg'] = param\n",
    "        elif param == 1:\n",
    "            self.color['bold'] = True\n",
    "        elif param == 7:\n",
    "            self.color['reverse'] = True\n",
    "        elif param == 0:\n",
    "            self.color['fg'] = 37\n",
    "            self.color['bg'] = 40\n",
    "            self.color['bold'] = False\n",
    "            self.color['reverse'] = False\n",
    "        else:\n",
    "            return False\n",
    "        return True\n",
    "\n",
    "    def _fix_cursor(self):\n",
    "        \"\"\"\n",
    "        Makes sure the cursor are within the boundaries of the current terminal\n",
    "        size.\n",
    "        \"\"\"\n",
    "        while self.cursor['x'] >= self.cols:\n",
    "            self.cursor['y'] += 1\n",
    "            self.cursor['x'] = self.cursor['x'] - self.cols\n",
    "\n",
    "        if self.cursor['y'] >= self.rows:\n",
    "            self.cursor['y'] = self.rows - 1\n",
    "\n",
    "    def _parse_sequence(self, input):\n",
    "        \"\"\"\n",
    "        This method parses the input into the numeric arguments and\n",
    "        the type of sequence. If no numeric arguments are supplied,\n",
    "        we manually insert a 0 or a 1 depending on the sequence type,\n",
    "        because different types have different default values.\n",
    "        \n",
    "        Example 1: \\x1b[1;37;40m -> numbers=[1, 37, 40] char=m\n",
    "        Example 2: \\x1b[m = numbers=[0] char=m\n",
    "        \"\"\"\n",
    "        if input[0] != '\\x1b':\n",
    "            return None, input\n",
    "\n",
    "        match = Ansiterm._escape_parser.match(input)\n",
    "        print(\"match\", match)\n",
    "        if not match:\n",
    "            raise Exception('Invalid escape sequence, input[:20]=%r' %\\\n",
    "                            input[:20])\n",
    "\n",
    "        args, char = match.groups()\n",
    "        print(\"args\", args)\n",
    "        print(\"char\", char)\n",
    "        # If arguments are omitted, add the default argument for this sequence.\n",
    "        if not args:\n",
    "            if char in 'ABCDEFSTf':\n",
    "                numbers = [1]\n",
    "            elif char == 'H':\n",
    "                numbers = [1, 1]\n",
    "            else:\n",
    "                numbers = [0]\n",
    "        else:\n",
    "            numbers = map(int, args.split(';'))\n",
    "\n",
    "        return (char, numbers), input[match.end():]\n",
    "\n",
    "    def get_cursor_idx(self):\n",
    "        return self.cursor['y'] * self.cols + self.cursor['x']\n",
    "\n",
    "    def _evaluate_sequence(self, char, numbers):\n",
    "        \"\"\"\n",
    "        Evaluates a sequence (i.e., this changes the state of the terminal).\n",
    "        Is meant to be called with the return values from _parse_sequence as arguments.\n",
    "        \"\"\"\n",
    "        # Translate the cursor into an index into our 1-dimensional tileset.\n",
    "        curidx = self.get_cursor_idx()\n",
    "\n",
    "        # Sets cursor position\n",
    "        if char == 'H':\n",
    "            self.cursor['y'] = numbers[0] - 1 # 1-based indexes\n",
    "            self.cursor['x'] = numbers[1] - 1 #\n",
    "        # Sets color/boldness\n",
    "        elif char == 'm' or char == 'M':\n",
    "            for num in numbers:\n",
    "                self._parse_sgr(num)\n",
    "        # Clears (parts of) the screen.\n",
    "        elif char == 'J':\n",
    "            # From cursor to end of screen\n",
    "            if numbers[0] == 0:\n",
    "                range_ = (curidx, self.cols - self.cursor['x'] - 1)\n",
    "            # From beginning to cursor\n",
    "            elif numbers[0] == 1:\n",
    "                range_ = (0, curidx)\n",
    "            # The whole screen\n",
    "            elif numbers[0] == 2:\n",
    "                range_ = (0, self.cols * self.rows - 1)\n",
    "            else:\n",
    "                raise Exception('Unknown argument for J parameter: '\n",
    "                                '%s (input=%r)' % (numbers, input[:20]))\n",
    "            for i in range(*range_):\n",
    "                self.tiles[i].reset()\n",
    "        # Clears (parts of) the line\n",
    "        elif char == 'K':\n",
    "            # From cursor to end of line\n",
    "            if numbers[0] == 0:\n",
    "                range_ = (curidx, curidx + self.cols - self.cursor['x'] - 1)\n",
    "            # From beginning of line to cursor\n",
    "            elif numbers[0] == 1:\n",
    "                range_ = (curidx % self.cols, curidx)\n",
    "            # The whole line\n",
    "            elif numbers[0] == 2:\n",
    "                range_ = (curidx % self.cols, curidx % self.cols + self.cols)\n",
    "            else:\n",
    "                raise Exception('Unknown argument for K parameter: '\n",
    "                                '%s (input=%r)' % (numbers, input[:20]))\n",
    "            for i in range(*range_):\n",
    "                self.tiles[i].reset()\n",
    "        # Move cursor up\n",
    "        elif char == 'A':\n",
    "            self.cursor['y'] -= numbers[0]\n",
    "        # Move cursor down\n",
    "        elif char == 'B':\n",
    "            self.cursor['y'] += numbers[0]\n",
    "        # Move cursor right\n",
    "        elif char == 'C':\n",
    "            self.cursor['x'] += numbers[0]\n",
    "        # Move cursor left\n",
    "        elif char == 'D':\n",
    "            self.cursor['x'] -= numbers[0]\n",
    "        elif char == 'r' or char == 'l': # TODO\n",
    "            pass\n",
    "        else:\n",
    "            raise Exception('Unknown escape code: char=%r numbers=%r input=%r'\\\n",
    "                            % (char, numbers, input[:20]))\n",
    "\n",
    "    def feed(self, input):\n",
    "        \"\"\"Feeds the terminal with input.\"\"\"\n",
    "        while input:\n",
    "            # If the input starts with \\x1b, try to parse end evaluate a\n",
    "            # sequence.\n",
    "            parsed, input = self._parse_sequence(input)\n",
    "            if parsed:\n",
    "                self._evaluate_sequence(*parsed)\n",
    "            else:\n",
    "                # If we end up here, the character should should just be\n",
    "                # added to the current tile and the cursor should be updated.\n",
    "                # Some characters such as \\r, \\n will only affect the cursor.\n",
    "                # TODO: Find out exactly what should be accepted here.\n",
    "                #       Only ASCII-7 perhaps?\n",
    "                a = input[0]\n",
    "                if a == '\\r':\n",
    "                    self.cursor['x'] = 0\n",
    "                elif a == '\\b':\n",
    "                    self.cursor['x'] -= 1\n",
    "                elif a == '\\n':\n",
    "                    self.cursor['y'] += 1\n",
    "                elif a == '\\x0f' or a == '\\x00':\n",
    "                    pass\n",
    "                else:\n",
    "                    self.tiles[self.get_cursor_idx()].set(a, self.color)\n",
    "                    self.cursor['x'] += 1\n",
    "\n",
    "                input = input[1:]\n",
    "        self._fix_cursor()\n"
   ]
  },
  {
   "cell_type": "code",
   "execution_count": 11,
   "metadata": {},
   "outputs": [
    {
     "name": "stdout",
     "output_type": "stream",
     "text": [
      "\u001b[6;1H\u001b[7;1H\u001b[8;1HShall I pick character's race, role, gender and alignment for you? [ynaq] \n",
      "match <re.Match object; span=(0, 2), match='\\x1b7'>\n",
      "args \n",
      "char 7\n",
      "('7', [0])\n"
     ]
    },
    {
     "ename": "TypeError",
     "evalue": "'method' object is not subscriptable",
     "output_type": "error",
     "traceback": [
      "\u001b[0;31m---------------------------------------------------------------------------\u001b[0m",
      "\u001b[0;31mTypeError\u001b[0m                                 Traceback (most recent call last)",
      "Cell \u001b[0;32mIn[11], line 2\u001b[0m\n\u001b[1;32m      1\u001b[0m term \u001b[38;5;241m=\u001b[39m Ansiterm(\u001b[38;5;241m24\u001b[39m, \u001b[38;5;241m80\u001b[39m)\n\u001b[0;32m----> 2\u001b[0m term\u001b[38;5;241m.\u001b[39mfeed(text)\n",
      "Cell \u001b[0;32mIn[10], line 198\u001b[0m, in \u001b[0;36mAnsiterm.feed\u001b[0;34m(self, input)\u001b[0m\n\u001b[1;32m    196\u001b[0m \u001b[38;5;28mprint\u001b[39m(parsed)\n\u001b[1;32m    197\u001b[0m \u001b[38;5;28;01mif\u001b[39;00m parsed:\n\u001b[0;32m--> 198\u001b[0m     \u001b[38;5;28mself\u001b[39m\u001b[38;5;241m.\u001b[39m_evaluate_sequence(\u001b[38;5;241m*\u001b[39mparsed)\n\u001b[1;32m    199\u001b[0m \u001b[38;5;28;01melse\u001b[39;00m:\n\u001b[1;32m    200\u001b[0m     \u001b[38;5;66;03m# If we end up here, the character should should just be\u001b[39;00m\n\u001b[1;32m    201\u001b[0m     \u001b[38;5;66;03m# added to the current tile and the cursor should be updated.\u001b[39;00m\n\u001b[1;32m    202\u001b[0m     \u001b[38;5;66;03m# Some characters such as \\r, \\n will only affect the cursor.\u001b[39;00m\n\u001b[1;32m    203\u001b[0m     \u001b[38;5;66;03m# TODO: Find out exactly what should be accepted here.\u001b[39;00m\n\u001b[1;32m    204\u001b[0m     \u001b[38;5;66;03m#       Only ASCII-7 perhaps?\u001b[39;00m\n\u001b[1;32m    205\u001b[0m     a \u001b[38;5;241m=\u001b[39m \u001b[38;5;28minput\u001b[39m[\u001b[38;5;241m0\u001b[39m]\n",
      "Cell \u001b[0;32mIn[10], line 187\u001b[0m, in \u001b[0;36mAnsiterm._evaluate_sequence\u001b[0;34m(self, char, numbers)\u001b[0m\n\u001b[1;32m    184\u001b[0m     \u001b[38;5;28;01mpass\u001b[39;00m\n\u001b[1;32m    185\u001b[0m \u001b[38;5;28;01melse\u001b[39;00m:\n\u001b[1;32m    186\u001b[0m     \u001b[38;5;28;01mraise\u001b[39;00m \u001b[38;5;167;01mException\u001b[39;00m(\u001b[38;5;124m'\u001b[39m\u001b[38;5;124mUnknown escape code: char=\u001b[39m\u001b[38;5;132;01m%r\u001b[39;00m\u001b[38;5;124m numbers=\u001b[39m\u001b[38;5;132;01m%r\u001b[39;00m\u001b[38;5;124m input=\u001b[39m\u001b[38;5;132;01m%r\u001b[39;00m\u001b[38;5;124m'\u001b[39m\\\n\u001b[0;32m--> 187\u001b[0m                     \u001b[38;5;241m%\u001b[39m (char, numbers, \u001b[38;5;28minput\u001b[39m[:\u001b[38;5;241m20\u001b[39m]))\n",
      "\u001b[0;31mTypeError\u001b[0m: 'method' object is not subscriptable"
     ]
    }
   ],
   "source": [
    "term = Ansiterm(24, 80)\n",
    "term.feed(text)"
   ]
  }
 ],
 "metadata": {
  "kernelspec": {
   "display_name": "base",
   "language": "python",
   "name": "python3"
  },
  "language_info": {
   "codemirror_mode": {
    "name": "ipython",
    "version": 3
   },
   "file_extension": ".py",
   "mimetype": "text/x-python",
   "name": "python",
   "nbconvert_exporter": "python",
   "pygments_lexer": "ipython3",
   "version": "3.11.7"
  }
 },
 "nbformat": 4,
 "nbformat_minor": 2
}
