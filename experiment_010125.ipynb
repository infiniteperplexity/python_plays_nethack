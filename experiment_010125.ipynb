{
 "cells": [
  {
   "cell_type": "code",
   "execution_count": 1,
   "metadata": {},
   "outputs": [],
   "source": [
    "# https://github.com/helgefmi/ohno/blob/master/ohno/client/pty.py ## loosely based on this code\n",
    "import os\n",
    "import pty\n",
    "import subprocess\n",
    "import pprint\n",
    "import time\n",
    "import json\n",
    "import select\n",
    "import stransi\n",
    "import re\n",
    "\n",
    "# I'm changing these from raw strings to the actual escape sequences\n",
    "ansi_escape_codes = {\n",
    "    \"\\x1b7\": \"save cursor\",\n",
    "    \"\\x1b\\[\\?47h\": \"set alternate screen\",\n",
    "    \"\\x1b\\)0\": \"set to ASCII\",\n",
    "    \"\\x1b\\[H\": \"move cursor to upper left\",\n",
    "    \"\\x1b\\[2J\": \"clear screen\", # this might be a parameter?\n",
    "    \"\\x1b\\[(\\d+);(\\d+)H\": \"move cursor\",\n",
    "    \"\\x1b\\[K\": \"clear to end of line\",\n",
    "    \"\\x1b\\[C\": \"move cursor right\",\n",
    "    \"\\x1b8\": \"restore cursor\",\n",
    "}\n",
    "\n",
    "class Terminal:\n",
    "    ## this dictionary *is* used, which could be an issue.\n",
    "    # let's take out the r\"\" prefix and see what happens\n",
    "    unsupported = {\n",
    "        \"\\x1b7\": \"save cursor\",\n",
    "        \"\\x1b8\": \"restore cursor\",\n",
    "        \"\\x1b\\[\\?47h\": \"set alternate screen\",\n",
    "        \"\\x1b\\)0\": \"set to ASCII\",\n",
    "    }\n",
    "\n",
    "    def __init__(self, rows, cols):\n",
    "        self.rows = rows\n",
    "        self.cols = cols\n",
    "        self.reset()\n",
    "\n",
    "    def reset(self):\n",
    "        self.cursor_row = 0\n",
    "        self.cursor_col = 0\n",
    "        self.characters = [[' ' for i in range(self.cols)] for _ in range(self.rows)]\n",
    "        self.foregrounds = [[\"white\" for i in range(self.cols)] for _ in range(self.rows)]\n",
    "        self.backgrounds = [[\"black\" for i in range(self.cols)] for _ in range(self.rows)] # does Nethack actually do this?\n",
    "\n",
    "    def text(self):\n",
    "        s = \"\"\n",
    "        for i in range(self.rows):\n",
    "            for j in range(self.cols): # let's ignore colors for now\n",
    "                s += self.characters[i][j]\n",
    "            s += \"\\n\"\n",
    "        return s\n",
    "    \n",
    "    def print(self):\n",
    "        print(self.text())\n",
    "                \n",
    "    def update(self, input, print_instructions = False):\n",
    "        #print_instructions = True # for now\n",
    "        #self.reset()\n",
    "        # this is where the logic is going to get complex\n",
    "        cleaned = input\n",
    "        for k, v in Terminal.unsupported.items():\n",
    "            # first we need to check if the key is in the input\n",
    "            if re.search(k, cleaned):\n",
    "                print(f\"found unsupported {k} : {v}\")\n",
    "            rgx = re.compile(k)\n",
    "            cleaned = re.sub(rgx, \"\", cleaned)\n",
    "        ansi = stransi.Ansi(cleaned)\n",
    "        for instr in ansi.instructions():\n",
    "            if print_instructions: \n",
    "                print(instr) # for now\n",
    "            if isinstance(instr, str):\n",
    "                for i in range(len(instr)):\n",
    "                    ch = instr[i]\n",
    "                    if ch == \"\\r\": # carriage return; reset cursor column to 0\n",
    "                        self.cursor_col = 0\n",
    "                    elif ch == \"\\b\": # backspace; move cursor column back by one\n",
    "                        self.cursor_col -= 1\n",
    "                    elif ch == \"\\n\": # newline; move cursor row down by one\n",
    "                        self.cursor_row += 1\n",
    "                    elif ch == '\\x0f' or ch == '\\x00': # these should indeed be no-ops but I'm not sure why they're here\n",
    "                        pass\n",
    "                    else:\n",
    "                        try:\n",
    "                            self.characters[self.cursor_row][self.cursor_col] = ch\n",
    "                            self.cursor_col += 1\n",
    "                        except:\n",
    "                            print(f\"something out of bounds: col={self.cursor_col}, row={self.cursor_row}, i={i} len={len(instr)}\")\n",
    "            elif isinstance(instr, stransi.SetCursor):\n",
    "                if instr.move.relative: # Move the cursor relative to its current position\n",
    "                    self.cursor_row += instr.move.x\n",
    "                    #self.cursor_col += instr.move.y\n",
    "                    self.cursor_col -= instr.move.y # let's give this a try I guess?\n",
    "                else: # Move the cursor to an absolute position\n",
    "                    self.cursor_row = instr.move.x\n",
    "                    self.cursor_col = instr.move.y \n",
    "            elif isinstance(instr, stransi.SetClear):\n",
    "                if instr.region == stransi.clear.Clear.SCREEN:\n",
    "                    self.reset()\n",
    "                elif instr.region == stransi.clear.Clear.LINE_AFTER:\n",
    "                    for i in range(self.cursor_col, self.cols):\n",
    "                        self.characters[self.cursor_row][i] = ' ' # clear the rest of the line\n",
    "                elif instr.region == stransi.clear.Clear.LINE:\n",
    "                    print(\"stransi.clear.Clear.LINE, was not expecting this.\")\n",
    "                    for i in range(self.cols):\n",
    "                        self.characters[self.cursor_row][i] = ' '\n",
    "                elif instr.region == stransi.clear.Clear.LINE_BEFORE:\n",
    "                    print(\"stransi.clear.Clear.LINE_BEFORE, was not expecting this.\")\n",
    "                    for i in range(0, self.cursor_col):\n",
    "                        self.characters[self.cursor_row][i] = ' '\n",
    "                elif instr.region == stransi.clear.Clear.SCREEN_AFTER:\n",
    "                    print(\"stransi.clear.Clear.SCREEN_AFTER, was not expecting this.\")\n",
    "                    for i in range(self.cursor_row, self.rows):\n",
    "                        for j in range(self.cols):\n",
    "                            self.characters[i][j] = ' '\n",
    "                elif instr.region == stransi.clear.Clear.SCREEN_BEFORE:\n",
    "                    print(\"stransi.clear.Clear.SCREEN_BEFORE, was not expecting this.\")\n",
    "                    for i in range(0, self.cursor_row):\n",
    "                        for j in range(self.cols):\n",
    "                            self.characters[i][j] = ' '\n",
    "                else:\n",
    "                    print(instr)\n",
    "                    print(instr.region)\n",
    "                    print(\"I guess I didn't handle all the clears\")\n",
    "            elif isinstance(instr, stransi.SetColor):\n",
    "                if instr.role == stransi.color.ColorRole.FOREGROUND:\n",
    "                    self.foregrounds[self.cursor_row][self.cursor_col] = instr.color.ansi256.code\n",
    "                elif instr.role == stransi.color.ColorRole.BACKGROUND:\n",
    "                    self.backgrounds[self.cursor_row][self.cursor_col] = instr.color.ansi256.code\n",
    "                else:\n",
    "                    print(\"some other kind of color instruction?\")\n",
    "                    print(instr)\n",
    "            elif isinstance(instr, stransi.SetAttribute):\n",
    "                if instr.attribute == stransi.attribute.Attribute.NORMAL:\n",
    "                    pass\n",
    "                    #print(\"normal\")\n",
    "                elif instr.attribute == stransi.attribute.Attribute.BOLD:\n",
    "                    pass\n",
    "                    #print(\"bold\")\n",
    "                elif instr.attribute == stransi.attribute.Attribute.REVERSE:\n",
    "                    pass\n",
    "                    #print(\"reverse\")\n",
    "                else:\n",
    "                    print(\"another attribute?\")\n",
    "                    print(instr)\n",
    "            else:\n",
    "                #if print_instructions:\n",
    "                print(\"^^^ this instruction was not handled.\")\n",
    "        # this is how the version I'm drawing from did it\n",
    "        #if self.cursor_col >= self.cols:\n",
    "        while self.cursor_col >= self.cols:\n",
    "            self.cursor_col = self.cursor_col - self.cols # wrap around to the next line\n",
    "            self.cursor_row += 1\n",
    "        #if self.cursor_row >= self.rows:\n",
    "        while self.cursor_row >= self.rows:\n",
    "            self.cursor_row = self.rows - 1 # don't go off the screen\n",
    "\n",
    "\n",
    "class Nethack:\n",
    "    def __init__(self):\n",
    "        self.master = None\n",
    "        self.slave = None\n",
    "        self.process = None\n",
    "        self.terminal = Terminal(24, 80)\n",
    "\n",
    "    def start_process(self):\n",
    "        self.master, self.slave = pty.openpty()\n",
    "        self.process = subprocess.Popen(\n",
    "            [\"nethack\"],\n",
    "            stdin=self.slave,\n",
    "            stdout=self.slave,\n",
    "            stderr=self.slave,\n",
    "            close_fds=True, # this line comes from Bing Chat and I don't know what it does really\n",
    "            universal_newlines=True,\n",
    "        )\n",
    "        os.close(self.slave) # Copilot added this so take it with a grain of salt...if it works, we don't need to save the reference\n",
    "\n",
    "    def read_output(self, timeout = 1.0, sleep = 0.25, chars = 8192):\n",
    "        if self.process is None:\n",
    "            raise ValueError(\"Process not started\")\n",
    "        if sleep is not None and sleep > 0:\n",
    "            time.sleep(sleep)\n",
    "        if timeout is not None and timeout > 0:\n",
    "            rlist, _, _ = select.select([self.master], [], [], timeout)\n",
    "            if rlist:\n",
    "                return os.read(self.master, chars).decode()\n",
    "            else:\n",
    "                print(\"(read timed out)\")\n",
    "                print(\"(this usually means the input sent did not update the game state.)\")\n",
    "                return None\n",
    "        else:\n",
    "            return os.read(self.master, chars).decode()\n",
    "\n",
    "    def send_command(self, command):\n",
    "        #os.write(self.master, command.encode() + b\"\\n\")\n",
    "        os.write(self.master, command.encode())\n",
    "\n",
    "    def close(self):\n",
    "        try:\n",
    "            self.process.terminate()\n",
    "            os.close(self.master)\n",
    "        except:\n",
    "            pass\n",
    "\n",
    "    def next_command(self, c, verbose = False, timeout = 1.0):\n",
    "        self.send_command(c)\n",
    "        text = self.read_output(timeout = timeout)\n",
    "        if verbose:\n",
    "            print(text)\n",
    "        if text is not None:\n",
    "            self.terminal.update(text, print_instructions = verbose)\n",
    "        print(self.terminal.text())\n",
    "        return text\n",
    "\n",
    "    @staticmethod\n",
    "    def clean_locks():\n",
    "        password = json.load(open(\"private.json\"))[\"sudo\"]\n",
    "        os.system(f'echo \"{password}\" | sudo -S rm -f /var/games/nethack/*lock*')\n",
    "\n",
    "    @staticmethod\n",
    "    def get_new_process(verbose = False):\n",
    "        Nethack.clean_locks()\n",
    "        n = Nethack()\n",
    "        n.start_process()\n",
    "        text = n.read_output(timeout = 1.0)\n",
    "        n.terminal.update(text, print_instructions = verbose)\n",
    "        print(n.terminal.text())\n",
    "        return n\n",
    "\n",
    "# 24, 80"
   ]
  },
  {
   "cell_type": "code",
   "execution_count": 2,
   "metadata": {},
   "outputs": [],
   "source": [
    "ENTER = \"\\x0d\""
   ]
  },
  {
   "cell_type": "code",
   "execution_count": 3,
   "metadata": {},
   "outputs": [
    {
     "name": "stderr",
     "output_type": "stream",
     "text": [
      "[sudo] password for perplexity: "
     ]
    },
    {
     "name": "stdout",
     "output_type": "stream",
     "text": [
      "found unsupported \u001b7 : save cursor\n",
      "found unsupported \u001b\\[\\?47h : set alternate screen\n",
      "found unsupported \u001b\\)0 : set to ASCII\n",
      "                                                                                \n",
      "NetHack, Copyright 1985-2023                                                    \n",
      "         By Stichting Mathematisch Centrum and M. Stephenson.                   \n",
      "         Version 3.6.7 Unix, revised Apr  1 07:02:11 2024.                      \n",
      "         See license for details.                                               \n",
      "                                                                                \n",
      "                                                                                \n",
      "Shall I pick character's race, role, gender and alignment for you? [ynaq]       \n",
      "                                                                                \n",
      "                                                                                \n",
      "                                                                                \n",
      "                                                                                \n",
      "                                                                                \n",
      "                                                                                \n",
      "                                                                                \n",
      "                                                                                \n",
      "                                                                                \n",
      "                                                                                \n",
      "                                                                                \n",
      "                                                                                \n",
      "                                                                                \n",
      "                                                                                \n",
      "                                                                                \n",
      "                                                                                \n",
      "\n"
     ]
    }
   ],
   "source": [
    "nethack = Nethack.get_new_process()"
   ]
  },
  {
   "cell_type": "code",
   "execution_count": 4,
   "metadata": {},
   "outputs": [
    {
     "name": "stdout",
     "output_type": "stream",
     "text": [
      "       name: perplexity                  Pick a role or profession              \n",
      "       role:  choosing now                                                      \n",
      "       race:  not yet specified          a - an Archeologist                    \n",
      "     gender:  not yet specified          b - a Barbarian                        \n",
      "  alignment:  not yet specified          c - a Caveman/Cavewoman                \n",
      "                                         h - a Healer                           \n",
      "                                         k - a Knight                           \n",
      "                                         m - a Monk                             \n",
      "                                         p - a Priest/Priestess                 \n",
      "                                         r - a Rogue                            \n",
      "                                         R - a Ranger                           \n",
      "                                         s - a Samurai                          \n",
      "                                         t - a Tourist                          \n",
      "                                         v - a Valkyrie                         \n",
      "                                         w - a Wizard                           \n",
      "                                         * + Random                             \n",
      "                                                                                \n",
      "                                         / - Pick race first                    \n",
      "                                         \" - Pick gender first                  \n",
      "                                         [ - Pick alignment first               \n",
      "                                         q - Quit                               \n",
      "                                                                                \n",
      "                                        (end)                                   \n",
      "                                                                                \n",
      "\n"
     ]
    },
    {
     "data": {
      "text/plain": [
       "'n\\x1b[H\\x1b[2J\\x1b[H       name: perplexity\\r\\x1b[2;1H       role:  choosing now\\r\\x1b[3;1H       race:  not yet specified\\r\\x1b[4;1H     gender:  not yet specified\\r\\x1b[5;1H  alignment:  not yet specified\\x1b[1;41H\\x1b[K Pick a role or profession\\x1b[2;41H\\x1b[K \\x1b[3;41H\\x1b[K a - an Archeologist\\x1b[4;41H\\x1b[K b - a Barbarian\\x1b[5;41H\\x1b[K c - a Caveman/Cavewoman\\x1b[6;41H\\x1b[K h - a Healer\\x1b[7;41H\\x1b[K k - a Knight\\x1b[8;41H\\x1b[K m - a Monk\\x1b[9;41H\\x1b[K p - a Priest/Priestess\\x1b[10;41H\\x1b[K r - a Rogue\\x1b[11;41H\\x1b[K R - a Ranger\\x1b[12;41H\\x1b[K s - a Samurai\\x1b[13;41H\\x1b[K t - a Tourist\\x1b[14;41H\\x1b[K v - a Valkyrie\\x1b[15;41H\\x1b[K w - a Wizard\\x1b[16;41H\\x1b[K * + Random\\x1b[17;41H\\x1b[K \\x1b[18;41H\\x1b[K / - Pick race first\\x1b[19;41H\\x1b[K \" - Pick gender first\\x1b[20;41H\\x1b[K [ - Pick alignment first\\x1b[21;41H\\x1b[K q - Quit\\x1b[22;41H\\x1b[K\\x1b[C(end) '"
      ]
     },
     "execution_count": 4,
     "metadata": {},
     "output_type": "execute_result"
    }
   ],
   "source": [
    "nethack.next_command(\"n\")"
   ]
  },
  {
   "cell_type": "code",
   "execution_count": 5,
   "metadata": {},
   "outputs": [
    {
     "name": "stdout",
     "output_type": "stream",
     "text": [
      "       name: perplexity                  Pick a race or species                 \n",
      "       role: Valkyrie                                                           \n",
      "       race:  choosing now               h - human                              \n",
      "     gender: female                      d - dwarf                              \n",
      "  alignment:  not yet specified          * + Random                             \n",
      "                                                                                \n",
      "                                         ? - Pick another role first            \n",
      "                                             role forces female                 \n",
      "                                         [ - Pick alignment first               \n",
      "                                         q - Quit                               \n",
      "                                                                                \n",
      "                                        (end)                                   \n",
      "                                                                                \n",
      "                                                                                \n",
      "                                                                                \n",
      "                                                                                \n",
      "                                                                                \n",
      "                                                                                \n",
      "                                                                                \n",
      "                                                                                \n",
      "                                                                                \n",
      "                                                                                \n",
      "                                                                                \n",
      "                                                                                \n",
      "\n"
     ]
    },
    {
     "data": {
      "text/plain": [
       "'\\x1b[14;44H+\\x1b[1;40H\\x1b[K\\x1b[2;40H\\x1b[K\\x1b[3;40H\\x1b[K\\x1b[4;40H\\x1b[K\\x1b[5;40H\\x1b[K\\x1b[6;40H\\x1b[K\\x1b[7;40H\\x1b[K\\x1b[8;40H\\x1b[K\\x1b[9;40H\\x1b[K\\x1b[10;40H\\x1b[K\\x1b[11;40H\\x1b[K\\x1b[12;40H\\x1b[K\\x1b[13;40H\\x1b[K\\x1b[14;40H\\x1b[K\\x1b[15;40H\\x1b[K\\x1b[16;40H\\x1b[K\\x1b[17;40H\\x1b[K\\x1b[18;40H\\x1b[K\\x1b[19;40H\\x1b[K\\x1b[20;40H\\x1b[K\\x1b[21;40H\\x1b[K\\x1b[22;40H\\x1b[K\\x1b[23;40H\\x1b[K\\x1b[H\\x1b[2J\\x1b[H       name: perplexity\\r\\x1b[2;1H       role: Valkyrie\\r\\x1b[3;1H       race:  choosing now\\r\\x1b[4;1H     gender: female\\r\\x1b[5;1H  alignment:  not yet specified\\x1b[1;41H\\x1b[K Pick a race or species\\x1b[2;41H\\x1b[K \\x1b[3;41H\\x1b[K h - human\\x1b[4;41H\\x1b[K d - dwarf\\x1b[5;41H\\x1b[K * + Random\\x1b[6;41H\\x1b[K \\x1b[7;41H\\x1b[K ? - Pick another role first\\x1b[8;41H\\x1b[K     role forces female\\x1b[9;41H\\x1b[K [ - Pick alignment first\\x1b[10;41H\\x1b[K q - Quit\\x1b[11;41H\\x1b[K\\x1b[C(end) '"
      ]
     },
     "execution_count": 5,
     "metadata": {},
     "output_type": "execute_result"
    }
   ],
   "source": [
    "nethack.next_command(\"v\")"
   ]
  },
  {
   "cell_type": "code",
   "execution_count": 6,
   "metadata": {},
   "outputs": [
    {
     "name": "stdout",
     "output_type": "stream",
     "text": [
      "       name: perplexity                  Pick an alignment or creed             \n",
      "       role: Valkyrie                                                           \n",
      "       race: human                       l - lawful                             \n",
      "     gender: female                      n - neutral                            \n",
      "  alignment:  choosing now               * + Random                             \n",
      "                                                                                \n",
      "                                         ? - Pick another role first            \n",
      "                                         / - Pick another race first            \n",
      "                                             role forces female                 \n",
      "                                         q - Quit                               \n",
      "                                                                                \n",
      "                                        (end)                                   \n",
      "                                                                                \n",
      "                                                                                \n",
      "                                                                                \n",
      "                                                                                \n",
      "                                                                                \n",
      "                                                                                \n",
      "                                                                                \n",
      "                                                                                \n",
      "                                                                                \n",
      "                                                                                \n",
      "                                                                                \n",
      "                                                                                \n",
      "\n"
     ]
    },
    {
     "data": {
      "text/plain": [
       "'\\x1b[3;44H+\\x1b[1;40H\\x1b[K\\x1b[2;40H\\x1b[K\\x1b[3;40H\\x1b[K\\x1b[4;40H\\x1b[K\\x1b[5;40H\\x1b[K\\x1b[6;40H\\x1b[K\\x1b[7;40H\\x1b[K\\x1b[8;40H\\x1b[K\\x1b[9;40H\\x1b[K\\x1b[10;40H\\x1b[K\\x1b[11;40H\\x1b[K\\x1b[12;40H\\x1b[K\\x1b[H\\x1b[2J\\x1b[H       name: perplexity\\r\\x1b[2;1H       role: Valkyrie\\r\\x1b[3;1H       race: human\\r\\x1b[4;1H     gender: female\\r\\x1b[5;1H  alignment:  choosing now\\x1b[1;41H\\x1b[K Pick an alignment or creed\\x1b[2;41H\\x1b[K \\x1b[3;41H\\x1b[K l - lawful\\x1b[4;41H\\x1b[K n - neutral\\x1b[5;41H\\x1b[K * + Random\\x1b[6;41H\\x1b[K \\x1b[7;41H\\x1b[K ? - Pick another role first\\x1b[8;41H\\x1b[K / - Pick another race first\\x1b[9;41H\\x1b[K     role forces female\\x1b[10;41H\\x1b[K q - Quit\\x1b[11;41H\\x1b[K\\x1b[C(end) '"
      ]
     },
     "execution_count": 6,
     "metadata": {},
     "output_type": "execute_result"
    }
   ],
   "source": [
    "nethack.next_command(\"h\")"
   ]
  },
  {
   "cell_type": "code",
   "execution_count": 7,
   "metadata": {},
   "outputs": [
    {
     "name": "stdout",
     "output_type": "stream",
     "text": [
      "       name: perplexity                  Is this ok? [ynq]                      \n",
      "       role: Valkyrie                                                           \n",
      "       race: human                       perplexity, neutral human Valkyrie     \n",
      "     gender: female                                                             \n",
      "  alignment: neutral                     y + Yes; start game                    \n",
      "                                         n - No; choose role again              \n",
      "                                         q - Quit                               \n",
      "                                                                                \n",
      "                                        (end)                                   \n",
      "                                                                                \n",
      "                                                                                \n",
      "                                                                                \n",
      "                                                                                \n",
      "                                                                                \n",
      "                                                                                \n",
      "                                                                                \n",
      "                                                                                \n",
      "                                                                                \n",
      "                                                                                \n",
      "                                                                                \n",
      "                                                                                \n",
      "                                                                                \n",
      "                                                                                \n",
      "                                                                                \n",
      "\n"
     ]
    },
    {
     "data": {
      "text/plain": [
       "'\\x1b[4;44H+\\x1b[1;40H\\x1b[K\\x1b[2;40H\\x1b[K\\x1b[3;40H\\x1b[K\\x1b[4;40H\\x1b[K\\x1b[5;40H\\x1b[K\\x1b[6;40H\\x1b[K\\x1b[7;40H\\x1b[K\\x1b[8;40H\\x1b[K\\x1b[9;40H\\x1b[K\\x1b[10;40H\\x1b[K\\x1b[11;40H\\x1b[K\\x1b[12;40H\\x1b[K\\x1b[H\\x1b[2J\\x1b[H       name: perplexity\\r\\x1b[2;1H       role: Valkyrie\\r\\x1b[3;1H       race: human\\r\\x1b[4;1H     gender: female\\r\\x1b[5;1H  alignment: neutral\\x1b[1;41H\\x1b[K Is this ok? [ynq]\\x1b[2;41H\\x1b[K \\x1b[3;41H\\x1b[K perplexity, neutral human Valkyrie\\x1b[4;41H\\x1b[K \\x1b[5;41H\\x1b[K y + Yes; start game\\x1b[6;41H\\x1b[K n - No; choose role again\\x1b[7;41H\\x1b[K q - Quit\\x1b[8;41H\\x1b[K\\x1b[C(end) '"
      ]
     },
     "execution_count": 7,
     "metadata": {},
     "output_type": "execute_result"
    }
   ],
   "source": [
    "nethack.next_command(\"n\")"
   ]
  },
  {
   "cell_type": "code",
   "execution_count": 8,
   "metadata": {},
   "outputs": [
    {
     "name": "stdout",
     "output_type": "stream",
     "text": [
      "                       It is written in the Book of Odin:                       \n",
      "                                                                                \n",
      "                           After the Creation, the cruel god Moloch rebelled    \n",
      "                           against the authority of Marduk the Creator.         \n",
      "                           Moloch stole from Marduk the most powerful of all    \n",
      "                           the artifacts of the gods, the Amulet of Yendor,     \n",
      "                           and he hid it in the dark cavities of Gehennom, the  \n",
      "                           Under World, where he now lurks, and bides his time. \n",
      "                                                                                \n",
      "                       Your god Odin seeks to possess the Amulet, and with it   \n",
      "                       to gain deserved ascendance over the other gods.         \n",
      "                                                                                \n",
      "                       You, a newly trained Stripling, have been heralded       \n",
      "                       from birth as the instrument of Odin.  You are destined  \n",
      "                       to recover the Amulet for your deity, or die in the      \n",
      "                       attempt.  Your hour of destiny has come.  For the sake   \n",
      "                     - of us all:  Go bravely with Odin!                        \n",
      "                     |                                                          \n",
      "                     |--More--.....|                                            \n",
      "                     |....@d.......|                                            \n",
      "                     ---------------                                            \n",
      "                                                                                \n",
      "                                                                                \n",
      "Dlvl:1 $:0 HP:16(16) Pw:2(2) AC:6 Xp:1                                          \n",
      "\n"
     ]
    },
    {
     "data": {
      "text/plain": [
       "'\\x1b[5;44H-\\x1b[1;40H\\x1b[K\\x1b[2;40H\\x1b[K\\x1b[3;40H\\x1b[K\\x1b[4;40H\\x1b[K\\x1b[5;40H\\x1b[K\\x1b[6;40H\\x1b[K\\x1b[7;40H\\x1b[K\\x1b[8;40H\\x1b[K\\x1b[9;40H\\x1b[K\\x1b[H\\x1b[2J\\x1b[H\\x1b[H\\x1b[2J\\x1b[H\\x1b[17;22H-.--.----------\\x1b[m\\x1b[18;22H|.............|\\x1b[m\\x1b[19;22H|....\\x1b[m\\x1b[1m\\x1b[33m$\\x1b[m........|\\x1b[m\\x1b[20;22H|....\\x1b[m\\x1b[1m\\x1b[37m@\\x1b[7md\\x1b[m\\x1b[m.......|\\x1b[m\\x1b[21;22H---------------\\x1b[m\\x1b[20;27H\\r\\x1b[23;1H\\x1b[K\\x1b[24;1H\\x1b[K\\x1b[A[\\x1b[7mPerplexity the Stripling      \\x1b[m] St:18 Dx:12 Co:18 In:10 Wi:8 Ch:9 Neutral\\x1b[K\\r\\x1b[24;1HDlvl:1 $:0 HP:16(16) Pw:2(2) AC:6 Xp:1\\x1b[K\\x1b[1;23H\\x1b[K It is written in the Book of Odin:\\x1b[2;23H\\x1b[K \\x1b[3;23H\\x1b[K     After the Creation, the cruel god Moloch rebelled\\x1b[4;23H\\x1b[K     against the authority of Marduk the Creator.\\x1b[5;23H\\x1b[K     Moloch stole from Marduk the most powerful of all\\x1b[6;23H\\x1b[K     the artifacts of the gods, the Amulet of Yendor,\\x1b[7;23H\\x1b[K     and he hid it in the dark cavities of Gehennom, the\\x1b[8;23H\\x1b[K     Under World, where he now lurks, and bides his time.\\x1b[9;23H\\x1b[K \\x1b[10;23H\\x1b[K Your god Odin seeks to possess the Amulet, and with it\\x1b[11;23H\\x1b[K to gain deserved ascendance over the other gods.\\x1b[12;23H\\x1b[K \\x1b[13;23H\\x1b[K You, a newly trained Stripling, have been heralded\\x1b[14;23H\\x1b[K from birth as the instrument of Odin.  You are destined\\x1b[15;23H\\x1b[K to recover the Amulet for your deity, or die in the\\x1b[16;23H\\x1b[K attempt.  Your hour of destiny has come.  For the sake\\x1b[17;23H\\x1b[K of us all:  Go bravely with Odin!\\x1b[18;23H\\x1b[K\\x1b[C--More--'"
      ]
     },
     "execution_count": 8,
     "metadata": {},
     "output_type": "execute_result"
    }
   ],
   "source": [
    "nethack.next_command(\"y\")"
   ]
  },
  {
   "cell_type": "code",
   "execution_count": 10,
   "metadata": {},
   "outputs": [
    {
     "name": "stdout",
     "output_type": "stream",
     "text": [
      "Be careful!  New moon tonight.                                                  \n",
      "                                                                                \n",
      "                                                                                \n",
      "                                                                                \n",
      "                                                                                \n",
      "                                                                                \n",
      "                                                                                \n",
      "                                                                                \n",
      "                                                                                \n",
      "                                                                                \n",
      "                                                                                \n",
      "                                                                                \n",
      "                                                                                \n",
      "                                                                                \n",
      "                                                                                \n",
      "                                                                                \n",
      "                     -.--.----------                                            \n",
      "                     |.............|                                            \n",
      "                     |--More--.....|                                            \n",
      "                     |....@d.......|                                            \n",
      "                     ---------------                                            \n",
      "                                                                                \n",
      "[Perplexity the Stripling      ] St:18 Dx:12 Co:18 In:10 Wi:8 Ch:9 Neutral      \n",
      "Dlvl:1 $:0 HP:16(16) Pw:2(2) AC:6 Xp:1                                          \n",
      "\n"
     ]
    },
    {
     "data": {
      "text/plain": [
       "'\\r\\x1b[A\\x1b[K\\x1b[2;1H\\x1b[K\\x1b[H\\x1b[HBe careful!  New moon tonight.\\x1b[K\\x1b[23;1H[\\x1b[7mPerplexity the Stripling      \\x1b[m] St:18 Dx:12 Co:18 In:10 Wi:8 Ch:9 Neutral\\r\\x1b[24;1HDlvl:1 $:0 HP:16(16) Pw:2(2) AC:6 Xp:1\\x1b[20;27H'"
      ]
     },
     "execution_count": 10,
     "metadata": {},
     "output_type": "execute_result"
    }
   ],
   "source": [
    "RETURN = \"\\x0d\"\n",
    "LEFT = \"h\"\n",
    "RIGHT = \"l\"\n",
    "UP = \"k\"\n",
    "DOWN = \"j\"\n",
    "nethack.next_command(RETURN)"
   ]
  },
  {
   "cell_type": "code",
   "execution_count": 13,
   "metadata": {},
   "outputs": [
    {
     "name": "stdout",
     "output_type": "stream",
     "text": [
      "You swap places with Slinky.  $ - 7 gold pieces.                                \n",
      "                                                                                \n",
      "                                                                                \n",
      "                                                                                \n",
      "                                                                                \n",
      "                                                                                \n",
      "                                                                                \n",
      "                                                                                \n",
      "                                                                                \n",
      "                                                                                \n",
      "                                                                                \n",
      "                                                                                \n",
      "                                                                                \n",
      "                                                                                \n",
      "                                                                                \n",
      "                                                                                \n",
      "                     -.--.----------                                            \n",
      "                     |...d.........|                                            \n",
      "                     |--M.@e--.....|                                            \n",
      "                     |....<@.......|                                            \n",
      "                     -----d---------                                            \n",
      "                                                                                \n",
      "[Perplexity the Stripling      ] St:18 Dx:12 Co:18 In:10 Wi:8 Ch:9 Neutral      \n",
      "Dlvl:1 $:7 HP:16(16) Pw:2(2) AC:6 Xp:1                                          \n",
      "\n"
     ]
    },
    {
     "data": {
      "text/plain": [
       "'\\x1b[A\\x1b[1m\\x1b[37m@\\x1b[m\\x1b[20;27H\\x1b[1m\\x1b[37m\\x1b[7md\\x1b[m\\x1b[m\\x1b[A\\x08\\x1b[HYou swap places with Slinky.\\x1b[K\\x1b[19;27H\\x1b[23;1H\\x1b[24;1H\\x1b[24;7H $:7\\x1b[1;31H$ - 7 gold pieces.\\x1b[K\\x1b[18;26H\\x1b[1m\\x1b[37m\\x1b[7md\\x1b[m\\x1b[m\\x1b[19;26H.\\x1b[m\\x1b[1m\\x1b[37m@\\x1b[m\\x1b[20;27H<\\x1b[m\\x1b[A\\x08'"
      ]
     },
     "execution_count": 13,
     "metadata": {},
     "output_type": "execute_result"
    }
   ],
   "source": [
    "nethack.next_command(UP, timeout = 0.5)"
   ]
  },
  {
   "cell_type": "code",
   "execution_count": 16,
   "metadata": {},
   "outputs": [
    {
     "name": "stdout",
     "output_type": "stream",
     "text": [
      "                                                                                \n",
      "                                                                                \n",
      "                                  -------                                       \n",
      "                                  |..@f.|                                       \n",
      "                                  +.f..@|                                       \n",
      "                                  |.....|                                       \n",
      "                                  -----.                                        \n",
      "                                                                                \n",
      "                                                                                \n",
      "                                                                                \n",
      "                                         .                                      \n",
      "                                         x.                                     \n",
      "                                          .                                     \n",
      "                                          ..                                    \n",
      "                                           ..                                   \n",
      "                                           ---                                  \n",
      "                                                                                \n",
      "                                                                                \n",
      "                      --More--                                                  \n",
      "                                                                                \n",
      "                                                                                \n",
      "                                                                                \n",
      "[Perplexity the Stripling      ] St:15 Dx:12 Co:17 In:10 Wi:11 Ch:10 Neutral    \n",
      "Dlvl:1 $:0 HP:16(16) Pw:2(2) AC:6 Xp:1                                          \n",
      "\n"
     ]
    },
    {
     "data": {
      "text/plain": [
       "'\\x08\\x1b[1m\\x1b[37m@\\x1b[7mf\\x1b[m\\x1b[m\\x1b[5;39H.\\x1b[m\\x1b[6;40H.\\x1b[m\\x1b[12;42H\\x1b[35mx\\x1b[m.\\x1b[m\\x1b[13;43H.\\x1b[m\\x1b[14;43H..\\x1b[m\\x1b[15;44H..\\x1b[m\\x1b[4;38H'"
      ]
     },
     "execution_count": 16,
     "metadata": {},
     "output_type": "execute_result"
    }
   ],
   "source": [
    "nethack.next_command(\"h\", timeout = 0.5)"
   ]
  },
  {
   "cell_type": "code",
   "execution_count": 15,
   "metadata": {},
   "outputs": [
    {
     "name": "stdout",
     "output_type": "stream",
     "text": [
      "\u001b\u001b[33md\u001b[m\u001b[C\u001b[1m\u001b[37m@\u001b[m.\u001b[m\u001b[17;66H.\u001b[m\u001b[C\u001b[C.\u001b[m\u001b[18;69H\u001b[1m\u001b[37m\u001b[7md\u001b[m\u001b[m\u001b[A\u001b[\n",
      "SetCursor(move=CursorMove(x=0, y=-1, relative=True))\n",
      "\n",
      "SetColor(role=<ColorRole.FOREGROUND: 30>, color=Ansi256(3))\n",
      "d\n",
      "SetAttribute(attribute=<Attribute.NORMAL: 0>)\n",
      "SetCursor(move=CursorMove(x=1, y=0, relative=True))\n",
      "SetAttribute(attribute=<Attribute.BOLD: 1>)\n",
      "SetColor(role=<ColorRole.FOREGROUND: 30>, color=Ansi256(7))\n",
      "@\n",
      "SetAttribute(attribute=<Attribute.NORMAL: 0>)\n",
      ".\n",
      "SetAttribute(attribute=<Attribute.NORMAL: 0>)\n",
      "SetCursor(move=CursorMove(x=16, y=65, relative=False))\n",
      ".\n",
      "SetAttribute(attribute=<Attribute.NORMAL: 0>)\n",
      "SetCursor(move=CursorMove(x=1, y=0, relative=True))\n",
      "SetCursor(move=CursorMove(x=1, y=0, relative=True))\n",
      ".\n",
      "SetAttribute(attribute=<Attribute.NORMAL: 0>)\n",
      "SetCursor(move=CursorMove(x=17, y=68, relative=False))\n",
      "SetAttribute(attribute=<Attribute.BOLD: 1>)\n",
      "SetColor(role=<ColorRole.FOREGROUND: 30>, color=Ansi256(7))\n",
      "SetAttribute(attribute=<Attribute.REVERSE: 7>)\n",
      "d\n",
      "SetAttribute(attribute=<Attribute.NORMAL: 0>)\n",
      "SetAttribute(attribute=<Attribute.NORMAL: 0>)\n",
      "SetCursor(move=CursorMove(x=0, y=-1, relative=True))\n",
      "SetCursor(move=CursorMove(x=0, y=-1, relative=True))\n",
      "\b\n",
      "                                                                                \n",
      "                                                                                \n",
      "                                                                                \n",
      "                                                                                \n",
      "                                                                                \n",
      "                                                                                \n",
      "                                                                                \n",
      "                                                                                \n",
      "                                                                                \n",
      "                                                                                \n",
      "                                                                                \n",
      "                                                                                \n",
      "                                                                                \n",
      "                                                                                \n",
      "                                                             --.----.--         \n",
      "                                                             |.....d..|         \n",
      "                                                             |......d.|         \n",
      "                                                             ......@d.|         \n",
      "                      --More--                               |........|         \n",
      "                                                             ----------         \n",
      "                                                             d                  \n",
      "                                                              @.                \n",
      "[Perplexity the Stripling      ] St:17 Dx:15 Co:18 In:7 Wi:9 Ch:9 Neutral       \n",
      "Dlvl:1 $:0 HP:16(16) Pw:2(2) AC:6 Xp:1                                          \n",
      "\n"
     ]
    },
    {
     "data": {
      "text/plain": [
       "'\\x1b[A\\x08\\x08\\x1b[33md\\x1b[m\\x1b[C\\x1b[1m\\x1b[37m@\\x1b[m.\\x1b[m\\x1b[17;66H.\\x1b[m\\x1b[C\\x1b[C.\\x1b[m\\x1b[18;69H\\x1b[1m\\x1b[37m\\x1b[7md\\x1b[m\\x1b[m\\x1b[A\\x1b[A\\x08'"
      ]
     },
     "execution_count": 15,
     "metadata": {},
     "output_type": "execute_result"
    }
   ],
   "source": [
    "# h is left, j is down, k is up, l is right\n",
    "#text = next_command(\"j\")  # okay, something odd is happening here: When I move, the player cursor disappears, and then the right way moves to the left.  So it seems like some portion of the text is getting blotted out.\n",
    "# interesting, that final character is \\x08 which is backspace.  I wonder if that has smething to do with it.\n",
    "nethack.next_command(\"k\", timeout = 0.5, verbose = True)\n",
    "# The problems I'm seeing here seem to be of a form where the I see the new locations of entities, but the old locations are not being cleared.\n",
    "# It's actually a bit weirder than that.  There's some jumping around.  That kind of makes it seem like some of the control characters are not being handled correctly.\n",
    "# Which sucks, because I know I already put a ton of work into that.  And I know it's a pain to debug.\n",
    "# So, one question here is whether the things are not updating, or whether they're updating incorrectly.  That should actually not be too hard to figure out; we could just \n",
    "# clear the screen either to blanks or to a single character, and then see if the entities are being drawn correctly.\n",
    "# So it looks to be a matter of not updating things that should be updating; however, we're also getting some strange things...\n",
    "# ...the player did not get drawn after switching places with the pet.\n",
    "# ...sometimes the player \"teleports\" to the top-center of the screen.\n",
    "# When I get rid of the full clear, we do see some teleporting around.  You might expect that if the screen is getting re-centered, but then you would expect other things to happen as well."
   ]
  }
 ],
 "metadata": {
  "kernelspec": {
   "display_name": "base",
   "language": "python",
   "name": "python3"
  },
  "language_info": {
   "codemirror_mode": {
    "name": "ipython",
    "version": 3
   },
   "file_extension": ".py",
   "mimetype": "text/x-python",
   "name": "python",
   "nbconvert_exporter": "python",
   "pygments_lexer": "ipython3",
   "version": "3.11.7"
  }
 },
 "nbformat": 4,
 "nbformat_minor": 2
}
