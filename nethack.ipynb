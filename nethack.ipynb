{
 "cells": [
  {
   "cell_type": "code",
   "execution_count": 1,
   "metadata": {},
   "outputs": [],
   "source": [
    "# Make sure to choose the nethack environment\n",
    "# This code will probably be helpful:\n",
    "# https://github.com/helgefmi/ohno/blob/master/ohno/client/pty.py\n",
    "\n"
   ]
  },
  {
   "cell_type": "code",
   "execution_count": 2,
   "metadata": {},
   "outputs": [],
   "source": [
    "# https://blog.konpat.me/dev/2016/09/03/pythons-pseudo-terminal-pty-examples.html\n",
    "# http://sqizit.bartletts.id.au/2011/02/14/pseudo-terminals-in-python/"
   ]
  },
  {
   "cell_type": "code",
   "execution_count": 2,
   "metadata": {},
   "outputs": [],
   "source": [
    "\n",
    "import os\n",
    "import pty\n",
    "import subprocess\n",
    "import pprint\n",
    "import time\n",
    "import json\n",
    "\n",
    "class Nethack:\n",
    "    def __init__(self):\n",
    "        self.master = None\n",
    "        self.slave = None\n",
    "        self.process = None\n",
    "\n",
    "    def start_process(self):\n",
    "        self.master, self.slave = pty.openpty()\n",
    "        self.process = subprocess.Popen(\n",
    "            [\"nethack\"],\n",
    "            stdin=self.slave,\n",
    "            stdout=self.slave,\n",
    "            stderr=self.slave,\n",
    "            close_fds=True, # this line comes from Bing Chat and I don't know what it does really\n",
    "            universal_newlines=True,\n",
    "        )\n",
    "        os.close(self.slave) # Copilot added this so take it with a grain of salt...if it works, we don't need to save the reference\n",
    "\n",
    "    #def read_output(self, sleep = 0.25, chars = 1024, print_output = True):\n",
    "    def read_output(self, sleep = 0.25, chars = 8192, print_output = True):\n",
    "        if self.process is None:\n",
    "            raise ValueError(\"Process not started\")\n",
    "\n",
    "        if sleep is not None and sleep > 0:\n",
    "            time.sleep(sleep)\n",
    "\n",
    "        output = os.read(self.master, chars).decode()\n",
    "        if print_output:\n",
    "            pprint.pprint(output)\n",
    "\n",
    "        return output\n",
    "\n",
    "    def send_command(self, command):\n",
    "        os.write(self.master, command.encode() + b\"\\n\")\n",
    "\n",
    "    def close(self):\n",
    "        try:\n",
    "            self.process.terminate()\n",
    "            os.close(self.master)\n",
    "        except:\n",
    "            pass\n",
    "\n",
    "    @staticmethod\n",
    "    def clean_locks():\n",
    "        password = json.load(open(\"private.json\"))[\"sudo\"]\n",
    "        os.system(f'echo \"{password}\" | sudo -S rm -f /var/games/nethack/*lock*')\n"
   ]
  },
  {
   "cell_type": "code",
   "execution_count": 19,
   "metadata": {},
   "outputs": [
    {
     "name": "stderr",
     "output_type": "stream",
     "text": [
      "[sudo] password for perplexity: "
     ]
    },
    {
     "name": "stdout",
     "output_type": "stream",
     "text": [
      "('\\x1b7\\x1b[?47h\\x1b)0\\x1b[H\\x1b[2J\\x1b[H\\x1b[2;1HNetHack, Copyright '\n",
      " '1985-2020\\r'\n",
      " '\\x1b[3;1H         By Stichting Mathematisch Centrum and M. Stephenson.\\r'\n",
      " '\\x1b[4;1H         Version 3.6.6 Unix, revised Feb 25 14:00:45 2021.\\r'\n",
      " '\\x1b[5;1H         See license for details.\\r'\n",
      " \"\\x1b[6;1H\\x1b[7;1H\\x1b[8;1HShall I pick character's race, role, gender and \"\n",
      " 'alignment for you? [ynaq] ')\n"
     ]
    }
   ],
   "source": [
    "Nethack.clean_locks()\n",
    "nethack = Nethack()\n",
    "nethack.start_process()\n",
    "text = nethack.read_output()\n",
    "#nethack.send_command(\"y\")\n",
    "#nethack.read_output()\n",
    "#nethack.send_command(\" \")\n",
    "#nethack.read_output()"
   ]
  },
  {
   "cell_type": "code",
   "execution_count": 22,
   "metadata": {},
   "outputs": [
    {
     "data": {
      "text/plain": [
       "[]"
      ]
     },
     "execution_count": 22,
     "metadata": {},
     "output_type": "execute_result"
    }
   ],
   "source": [
    "import re\n",
    "test = re.compile(\"\\x1b5\")\n",
    "test.findall(text)"
   ]
  },
  {
   "cell_type": "code",
   "execution_count": 15,
   "metadata": {},
   "outputs": [
    {
     "name": "stdout",
     "output_type": "stream",
     "text": [
      "('y\\x1b[H\\x1b[2J\\x1b[H       name: perplexity\\r'\n",
      " '\\x1b[2;1H       role: Valkyrie\\r'\n",
      " '\\x1b[3;1H       race: human\\r'\n",
      " '\\x1b[4;1H     gender: female\\r'\n",
      " '\\x1b[5;1H  alignment: neutral\\x1b[1;41H\\x1b[K Is this ok? '\n",
      " '[ynq]\\x1b[2;41H\\x1b[K \\x1b[3;41H\\x1b[K perplexity, neutral human '\n",
      " 'Valkyrie\\x1b[4;41H\\x1b[K \\x1b[5;41H\\x1b[K y + Yes; start '\n",
      " 'game\\x1b[6;41H\\x1b[K n - No; choose role again\\x1b[7;41H\\x1b[K q - '\n",
      " 'Quit\\x1b[8;41H\\x1b[K\\x1b[C(end) '\n",
      " '\\x1b[1;40H\\x1b[K\\x1b[2;40H\\x1b[K\\x1b[3;40H\\x1b[K\\x1b[4;40H\\x1b[K\\x1b[5;40H\\x1b[K\\x1b[6;40H\\x1b[K\\x1b[7;40H\\x1b[K\\x1b[8;40H\\x1b[K\\x1b[9;40H\\x1b[K\\x1b[H\\x1b[2J\\x1b[H\\x1b[H\\x1b[2J\\x1b[H\\x1b[4;9H--------------\\x1b[m\\x1b[5;9H|\\x1b[m\\x1b[1m\\x1b[31m!\\x1b[m...........|\\x1b[m\\x1b[6;9H\\x1b[33m+k\\x1b[m...........|\\x1b[m\\x1b[7;9H|....\\x1b[m\\x1b[1m\\x1b[37m\\x1b[7mf\\x1b[m\\x1b[m\\x1b[1m\\x1b[37m@\\x1b[m.......\\x1b[m\\x1b[8;9H|............|\\x1b[m\\x1b[9;9H|............|\\x1b[m\\x1b[10;9H--------------\\x1b[m\\x1b[7;15H\\x1b[23;1H\\x1b[K\\x1b[24;1H\\x1b[K\\x1b[A[\\x1b[7mPerplexity '\n",
      " 'the Stripling      \\x1b[m] St:18/03 Dx:13 Co:15 In:8 Wi:8 Ch:10 '\n",
      " 'Neutral\\x1b[K\\r'\n",
      " '\\x1b[24;1HDlvl:1 $:0 HP:16(16) Pw:2(2) AC:6 Xp:1\\x1b[K\\x1b[1;23H\\x1b[K It is '\n",
      " 'written in the Book of Odin:\\x1b[2;23H\\x1b[K \\x1b[3;23H\\x1b[K     After the '\n",
      " 'Creation, the cruel god Moloch rebelled\\x1b[4;23H\\x1b[K     against the '\n",
      " 'authority of Marduk the Creator.\\x1b[5;23H\\x1b[K     Moloch stole from '\n",
      " 'Marduk the most powerful of all\\x1b[6;23H\\x1b[K     the artifacts of the '\n",
      " 'gods, the Amulet of Yendor,\\x1b[7;23H\\x1b[K     and he hid it in the dark '\n",
      " 'cavities of Gehennom, the\\x1b[8;23H\\x1b[K     Under World, where he now '\n",
      " 'lurks, and bides his time.\\x1b[9;23H\\x1b[K \\x1b[10;23H\\x1b[K Your god Odin '\n",
      " 'seeks to possess the Amulet, and with it\\x1b[11;23H\\x1b[K to gain deserved '\n",
      " 'ascendance over the other gods.\\x1b[12;23H\\x1b[K \\x1b[13;23H\\x1b[K You, a '\n",
      " 'newly trained Stripling, have been heralded\\x1b[14;23H\\x1b[K from birth as '\n",
      " 'the instrument of Odin.  You are destined\\x1b[15;23H\\x1b[K to recover the '\n",
      " 'Amulet for your deity, or die in the\\x1b[16;23H\\x1b[K attempt.  Your hour of '\n",
      " 'destiny has come.  For the sake\\x1b[17;23H\\x1b[K of us all:  Go bravely with '\n",
      " 'Odin!\\x1b[18;23H\\x1b[K\\x1b[C--More--')\n"
     ]
    },
    {
     "data": {
      "text/plain": [
       "'y\\x1b[H\\x1b[2J\\x1b[H       name: perplexity\\r\\x1b[2;1H       role: Valkyrie\\r\\x1b[3;1H       race: human\\r\\x1b[4;1H     gender: female\\r\\x1b[5;1H  alignment: neutral\\x1b[1;41H\\x1b[K Is this ok? [ynq]\\x1b[2;41H\\x1b[K \\x1b[3;41H\\x1b[K perplexity, neutral human Valkyrie\\x1b[4;41H\\x1b[K \\x1b[5;41H\\x1b[K y + Yes; start game\\x1b[6;41H\\x1b[K n - No; choose role again\\x1b[7;41H\\x1b[K q - Quit\\x1b[8;41H\\x1b[K\\x1b[C(end) \\x1b[1;40H\\x1b[K\\x1b[2;40H\\x1b[K\\x1b[3;40H\\x1b[K\\x1b[4;40H\\x1b[K\\x1b[5;40H\\x1b[K\\x1b[6;40H\\x1b[K\\x1b[7;40H\\x1b[K\\x1b[8;40H\\x1b[K\\x1b[9;40H\\x1b[K\\x1b[H\\x1b[2J\\x1b[H\\x1b[H\\x1b[2J\\x1b[H\\x1b[4;9H--------------\\x1b[m\\x1b[5;9H|\\x1b[m\\x1b[1m\\x1b[31m!\\x1b[m...........|\\x1b[m\\x1b[6;9H\\x1b[33m+k\\x1b[m...........|\\x1b[m\\x1b[7;9H|....\\x1b[m\\x1b[1m\\x1b[37m\\x1b[7mf\\x1b[m\\x1b[m\\x1b[1m\\x1b[37m@\\x1b[m.......\\x1b[m\\x1b[8;9H|............|\\x1b[m\\x1b[9;9H|............|\\x1b[m\\x1b[10;9H--------------\\x1b[m\\x1b[7;15H\\x1b[23;1H\\x1b[K\\x1b[24;1H\\x1b[K\\x1b[A[\\x1b[7mPerplexity the Stripling      \\x1b[m] St:18/03 Dx:13 Co:15 In:8 Wi:8 Ch:10 Neutral\\x1b[K\\r\\x1b[24;1HDlvl:1 $:0 HP:16(16) Pw:2(2) AC:6 Xp:1\\x1b[K\\x1b[1;23H\\x1b[K It is written in the Book of Odin:\\x1b[2;23H\\x1b[K \\x1b[3;23H\\x1b[K     After the Creation, the cruel god Moloch rebelled\\x1b[4;23H\\x1b[K     against the authority of Marduk the Creator.\\x1b[5;23H\\x1b[K     Moloch stole from Marduk the most powerful of all\\x1b[6;23H\\x1b[K     the artifacts of the gods, the Amulet of Yendor,\\x1b[7;23H\\x1b[K     and he hid it in the dark cavities of Gehennom, the\\x1b[8;23H\\x1b[K     Under World, where he now lurks, and bides his time.\\x1b[9;23H\\x1b[K \\x1b[10;23H\\x1b[K Your god Odin seeks to possess the Amulet, and with it\\x1b[11;23H\\x1b[K to gain deserved ascendance over the other gods.\\x1b[12;23H\\x1b[K \\x1b[13;23H\\x1b[K You, a newly trained Stripling, have been heralded\\x1b[14;23H\\x1b[K from birth as the instrument of Odin.  You are destined\\x1b[15;23H\\x1b[K to recover the Amulet for your deity, or die in the\\x1b[16;23H\\x1b[K attempt.  Your hour of destiny has come.  For the sake\\x1b[17;23H\\x1b[K of us all:  Go bravely with Odin!\\x1b[18;23H\\x1b[K\\x1b[C--More--'"
      ]
     },
     "execution_count": 15,
     "metadata": {},
     "output_type": "execute_result"
    }
   ],
   "source": [
    "nethack.send_command(\"y\")\n",
    "nethack.read_output()"
   ]
  },
  {
   "cell_type": "code",
   "execution_count": 35,
   "metadata": {},
   "outputs": [
    {
     "name": "stdout",
     "output_type": "stream",
     "text": [
      "NetHack, Copyright 1985-2020\n",
      "         By Stichting Mathematisch Centrum and M. Stephenson.\n",
      "         Version 3.6.6 Unix, revised Feb 25 14:00:45 2021.\n",
      "         See license for details.\n",
      "Shall I pick character's race, role, gender and alignment for you? [ynaq] \n"
     ]
    }
   ],
   "source": [
    "import re\n",
    "ansi_escape_codes = {\n",
    "    r\"\\x1b7\": \"save cursor\",\n",
    "    r\"\\x1b\\[\\?47h\": \"set alternate screen\",\n",
    "    r\"\\x1b\\)0\": \"set to ASCII\",\n",
    "    r\"\\x1b\\[H\": \"move cursor to upper left\",\n",
    "    r\"\\x1b\\[2J\": \"clear screen\",\n",
    "    r\"\\x1b\\[(\\d+);(\\d+)H\": \"move cursor\",\n",
    "    r\"\\x1b\\[K\": \"clear to end of line\",\n",
    "    r\"\\x1b\\[C\": \"move cursor right\",\n",
    "    r\"\\x1b8\": \"restore cursor\",\n",
    "}\n",
    "\n",
    "def remove_ansi_escape_codes(text):\n",
    "    for key in ansi_escape_codes:\n",
    "        text = re.sub(key, \"\", text)\n",
    "    return text\n",
    "\n",
    "def replace_returns(text):\n",
    "    return text.replace(\"\\r\", \"\\n\")\n",
    "\n",
    "def clean(text):\n",
    "    text = replace_returns(text)\n",
    "    text = remove_ansi_escape_codes(text)\n",
    "    return text\n",
    "\n",
    "cleaned = clean(text)\n",
    "\n",
    "print(cleaned)"
   ]
  },
  {
   "cell_type": "code",
   "execution_count": 33,
   "metadata": {},
   "outputs": [
    {
     "name": "stdout",
     "output_type": "stream",
     "text": [
      "      k, Copyright 1985-2020\n"
     ]
    }
   ],
   "source": [
    "print(clean[:35])"
   ]
  },
  {
   "cell_type": "code",
   "execution_count": 29,
   "metadata": {},
   "outputs": [
    {
     "data": {
      "text/plain": [
       "[('2', '1'),\n",
       " ('3', '1'),\n",
       " ('4', '1'),\n",
       " ('5', '1'),\n",
       " ('6', '1'),\n",
       " ('7', '1'),\n",
       " ('8', '1')]"
      ]
     },
     "execution_count": 29,
     "metadata": {},
     "output_type": "execute_result"
    }
   ],
   "source": [
    "re.compile(r\"\\x1b\\[(\\d+);(\\d+)H\").findall(text)"
   ]
  },
  {
   "cell_type": "code",
   "execution_count": 25,
   "metadata": {},
   "outputs": [
    {
     "data": {
      "text/plain": [
       "\"\\x1b7\\x1b[?47h\\x1b)0\\x1b[H\\x1b[2J\\x1b[H\\x1b[2;1HNetHack, Copyright 1985-2020\\r\\x1b[3;1H         By Stichting Mathematisch Centrum and M. Stephenson.\\r\\x1b[4;1H         Version 3.6.6 Unix, revised Feb 25 14:00:45 2021.\\r\\x1b[5;1H         See license for details.\\r\\x1b[6;1H\\x1b[7;1H\\x1b[8;1HShall I pick character's race, role, gender and alignment for you? [ynaq] \""
      ]
     },
     "execution_count": 25,
     "metadata": {},
     "output_type": "execute_result"
    }
   ],
   "source": [
    "text"
   ]
  },
  {
   "cell_type": "code",
   "execution_count": 10,
   "metadata": {},
   "outputs": [],
   "source": [
    "import re\n",
    "\n",
    "class Tile:\n",
    "    \"\"\"Represents a single tile in the terminal\"\"\"\n",
    "    def __init__(self):\n",
    "        self.color = self.glyph = None\n",
    "        self.reset()\n",
    "    \n",
    "    def reset(self):\n",
    "        \"\"\"Resets the tile to a white-on-black space\"\"\"\n",
    "        self.color = {\n",
    "            'fg': 37, 'bg': 40,\n",
    "            'reverse': False,\n",
    "            'bold': False,\n",
    "        }\n",
    "        self.glyph = ' '\n",
    "\n",
    "    def set(self, glyph, color):\n",
    "        self.glyph = glyph\n",
    "        self.color['fg'] = color['fg']\n",
    "        self.color['bg'] = color['bg']\n",
    "        self.color['reverse'] = color['reverse']\n",
    "        self.color['bold'] = color['bold']\n",
    "\n",
    "class Ansiterm:\n",
    "    _escape_parser = re.compile(r'^\\x1b\\[?([\\d;]*)(\\w)')\n",
    "    def __init__(self, rows, cols):\n",
    "        \"\"\"Initializes the ansiterm with rows*cols white-on-black spaces\"\"\"\n",
    "        self.rows = rows\n",
    "        self.cols = cols\n",
    "        self.tiles = [Tile() for _ in range(rows * cols)]\n",
    "        self.cursor = {\n",
    "            'x': 0,\n",
    "            'y': 0,\n",
    "        }\n",
    "        self.color = {\n",
    "            'fg': 37, 'bg': 40,\n",
    "            'bold': False,\n",
    "            'reverse': False,\n",
    "        }\n",
    "\n",
    "    def get_string(self, from_, to):\n",
    "        \"\"\"Returns the character of a section of the screen\"\"\"\n",
    "        return ''.join([tile.glyph for tile in self.get_tiles(from_, to)])\n",
    "\n",
    "    def get_tiles(self, from_, to):\n",
    "        \"\"\"Returns the tileset of a section of the screen\"\"\"\n",
    "        return [tile for tile in self.tiles[from_:to]]\n",
    "\n",
    "    def get_cursor(self):\n",
    "        \"\"\"Returns the current position of the curser\"\"\"\n",
    "        return self.cursor.copy()\n",
    "\n",
    "    def _parse_sgr(self, param):\n",
    "        \"\"\"Handles <escape code>n[;k]m, which changes the graphic rendition\"\"\"\n",
    "        if param >= 30 and param <= 37:\n",
    "            self.color['fg'] = param\n",
    "        elif param >= 40 and param <= 47:\n",
    "            self.color['bg'] = param\n",
    "        elif param == 1:\n",
    "            self.color['bold'] = True\n",
    "        elif param == 7:\n",
    "            self.color['reverse'] = True\n",
    "        elif param == 0:\n",
    "            self.color['fg'] = 37\n",
    "            self.color['bg'] = 40\n",
    "            self.color['bold'] = False\n",
    "            self.color['reverse'] = False\n",
    "        else:\n",
    "            return False\n",
    "        return True\n",
    "\n",
    "    def _fix_cursor(self):\n",
    "        \"\"\"\n",
    "        Makes sure the cursor are within the boundaries of the current terminal\n",
    "        size.\n",
    "        \"\"\"\n",
    "        while self.cursor['x'] >= self.cols:\n",
    "            self.cursor['y'] += 1\n",
    "            self.cursor['x'] = self.cursor['x'] - self.cols\n",
    "\n",
    "        if self.cursor['y'] >= self.rows:\n",
    "            self.cursor['y'] = self.rows - 1\n",
    "\n",
    "    def _parse_sequence(self, input):\n",
    "        \"\"\"\n",
    "        This method parses the input into the numeric arguments and\n",
    "        the type of sequence. If no numeric arguments are supplied,\n",
    "        we manually insert a 0 or a 1 depending on the sequence type,\n",
    "        because different types have different default values.\n",
    "        \n",
    "        Example 1: \\x1b[1;37;40m -> numbers=[1, 37, 40] char=m\n",
    "        Example 2: \\x1b[m = numbers=[0] char=m\n",
    "        \"\"\"\n",
    "        if input[0] != '\\x1b':\n",
    "            return None, input\n",
    "\n",
    "        match = Ansiterm._escape_parser.match(input)\n",
    "        print(\"match\", match)\n",
    "        if not match:\n",
    "            raise Exception('Invalid escape sequence, input[:20]=%r' %\\\n",
    "                            input[:20])\n",
    "\n",
    "        args, char = match.groups()\n",
    "        print(\"args\", args)\n",
    "        print(\"char\", char)\n",
    "        # If arguments are omitted, add the default argument for this sequence.\n",
    "        if not args:\n",
    "            if char in 'ABCDEFSTf':\n",
    "                numbers = [1]\n",
    "            elif char == 'H':\n",
    "                numbers = [1, 1]\n",
    "            else:\n",
    "                numbers = [0]\n",
    "        else:\n",
    "            numbers = map(int, args.split(';'))\n",
    "\n",
    "        return (char, numbers), input[match.end():]\n",
    "\n",
    "    def get_cursor_idx(self):\n",
    "        return self.cursor['y'] * self.cols + self.cursor['x']\n",
    "\n",
    "    def _evaluate_sequence(self, char, numbers):\n",
    "        \"\"\"\n",
    "        Evaluates a sequence (i.e., this changes the state of the terminal).\n",
    "        Is meant to be called with the return values from _parse_sequence as arguments.\n",
    "        \"\"\"\n",
    "        # Translate the cursor into an index into our 1-dimensional tileset.\n",
    "        curidx = self.get_cursor_idx()\n",
    "\n",
    "        # Sets cursor position\n",
    "        if char == 'H':\n",
    "            self.cursor['y'] = numbers[0] - 1 # 1-based indexes\n",
    "            self.cursor['x'] = numbers[1] - 1 #\n",
    "        # Sets color/boldness\n",
    "        elif char == 'm' or char == 'M':\n",
    "            for num in numbers:\n",
    "                self._parse_sgr(num)\n",
    "        # Clears (parts of) the screen.\n",
    "        elif char == 'J':\n",
    "            # From cursor to end of screen\n",
    "            if numbers[0] == 0:\n",
    "                range_ = (curidx, self.cols - self.cursor['x'] - 1)\n",
    "            # From beginning to cursor\n",
    "            elif numbers[0] == 1:\n",
    "                range_ = (0, curidx)\n",
    "            # The whole screen\n",
    "            elif numbers[0] == 2:\n",
    "                range_ = (0, self.cols * self.rows - 1)\n",
    "            else:\n",
    "                raise Exception('Unknown argument for J parameter: '\n",
    "                                '%s (input=%r)' % (numbers, input[:20]))\n",
    "            for i in range(*range_):\n",
    "                self.tiles[i].reset()\n",
    "        # Clears (parts of) the line\n",
    "        elif char == 'K':\n",
    "            # From cursor to end of line\n",
    "            if numbers[0] == 0:\n",
    "                range_ = (curidx, curidx + self.cols - self.cursor['x'] - 1)\n",
    "            # From beginning of line to cursor\n",
    "            elif numbers[0] == 1:\n",
    "                range_ = (curidx % self.cols, curidx)\n",
    "            # The whole line\n",
    "            elif numbers[0] == 2:\n",
    "                range_ = (curidx % self.cols, curidx % self.cols + self.cols)\n",
    "            else:\n",
    "                raise Exception('Unknown argument for K parameter: '\n",
    "                                '%s (input=%r)' % (numbers, input[:20]))\n",
    "            for i in range(*range_):\n",
    "                self.tiles[i].reset()\n",
    "        # Move cursor up\n",
    "        elif char == 'A':\n",
    "            self.cursor['y'] -= numbers[0]\n",
    "        # Move cursor down\n",
    "        elif char == 'B':\n",
    "            self.cursor['y'] += numbers[0]\n",
    "        # Move cursor right\n",
    "        elif char == 'C':\n",
    "            self.cursor['x'] += numbers[0]\n",
    "        # Move cursor left\n",
    "        elif char == 'D':\n",
    "            self.cursor['x'] -= numbers[0]\n",
    "        elif char == 'r' or char == 'l': # TODO\n",
    "            pass\n",
    "        else:\n",
    "            raise Exception('Unknown escape code: char=%r numbers=%r input=%r'\\\n",
    "                            % (char, numbers, input[:20]))\n",
    "\n",
    "    def feed(self, input):\n",
    "        \"\"\"Feeds the terminal with input.\"\"\"\n",
    "        while input:\n",
    "            # If the input starts with \\x1b, try to parse end evaluate a\n",
    "            # sequence.\n",
    "            print(input)\n",
    "            parsed, input = self._parse_sequence(input)\n",
    "            print(parsed)\n",
    "            if parsed:\n",
    "                self._evaluate_sequence(*parsed)\n",
    "            else:\n",
    "                # If we end up here, the character should should just be\n",
    "                # added to the current tile and the cursor should be updated.\n",
    "                # Some characters such as \\r, \\n will only affect the cursor.\n",
    "                # TODO: Find out exactly what should be accepted here.\n",
    "                #       Only ASCII-7 perhaps?\n",
    "                a = input[0]\n",
    "                if a == '\\r':\n",
    "                    self.cursor['x'] = 0\n",
    "                elif a == '\\b':\n",
    "                    self.cursor['x'] -= 1\n",
    "                elif a == '\\n':\n",
    "                    self.cursor['y'] += 1\n",
    "                elif a == '\\x0f' or a == '\\x00':\n",
    "                    pass\n",
    "                else:\n",
    "                    self.tiles[self.get_cursor_idx()].set(a, self.color)\n",
    "                    self.cursor['x'] += 1\n",
    "\n",
    "                input = input[1:]\n",
    "        self._fix_cursor()\n"
   ]
  },
  {
   "cell_type": "code",
   "execution_count": 11,
   "metadata": {},
   "outputs": [
    {
     "name": "stdout",
     "output_type": "stream",
     "text": [
      "\u001b[6;1H\u001b[7;1H\u001b[8;1HShall I pick character's race, role, gender and alignment for you? [ynaq] \n",
      "match <re.Match object; span=(0, 2), match='\\x1b7'>\n",
      "args \n",
      "char 7\n",
      "('7', [0])\n"
     ]
    },
    {
     "ename": "TypeError",
     "evalue": "'method' object is not subscriptable",
     "output_type": "error",
     "traceback": [
      "\u001b[0;31m---------------------------------------------------------------------------\u001b[0m",
      "\u001b[0;31mTypeError\u001b[0m                                 Traceback (most recent call last)",
      "Cell \u001b[0;32mIn[11], line 2\u001b[0m\n\u001b[1;32m      1\u001b[0m term \u001b[38;5;241m=\u001b[39m Ansiterm(\u001b[38;5;241m24\u001b[39m, \u001b[38;5;241m80\u001b[39m)\n\u001b[0;32m----> 2\u001b[0m term\u001b[38;5;241m.\u001b[39mfeed(text)\n",
      "Cell \u001b[0;32mIn[10], line 198\u001b[0m, in \u001b[0;36mAnsiterm.feed\u001b[0;34m(self, input)\u001b[0m\n\u001b[1;32m    196\u001b[0m \u001b[38;5;28mprint\u001b[39m(parsed)\n\u001b[1;32m    197\u001b[0m \u001b[38;5;28;01mif\u001b[39;00m parsed:\n\u001b[0;32m--> 198\u001b[0m     \u001b[38;5;28mself\u001b[39m\u001b[38;5;241m.\u001b[39m_evaluate_sequence(\u001b[38;5;241m*\u001b[39mparsed)\n\u001b[1;32m    199\u001b[0m \u001b[38;5;28;01melse\u001b[39;00m:\n\u001b[1;32m    200\u001b[0m     \u001b[38;5;66;03m# If we end up here, the character should should just be\u001b[39;00m\n\u001b[1;32m    201\u001b[0m     \u001b[38;5;66;03m# added to the current tile and the cursor should be updated.\u001b[39;00m\n\u001b[1;32m    202\u001b[0m     \u001b[38;5;66;03m# Some characters such as \\r, \\n will only affect the cursor.\u001b[39;00m\n\u001b[1;32m    203\u001b[0m     \u001b[38;5;66;03m# TODO: Find out exactly what should be accepted here.\u001b[39;00m\n\u001b[1;32m    204\u001b[0m     \u001b[38;5;66;03m#       Only ASCII-7 perhaps?\u001b[39;00m\n\u001b[1;32m    205\u001b[0m     a \u001b[38;5;241m=\u001b[39m \u001b[38;5;28minput\u001b[39m[\u001b[38;5;241m0\u001b[39m]\n",
      "Cell \u001b[0;32mIn[10], line 187\u001b[0m, in \u001b[0;36mAnsiterm._evaluate_sequence\u001b[0;34m(self, char, numbers)\u001b[0m\n\u001b[1;32m    184\u001b[0m     \u001b[38;5;28;01mpass\u001b[39;00m\n\u001b[1;32m    185\u001b[0m \u001b[38;5;28;01melse\u001b[39;00m:\n\u001b[1;32m    186\u001b[0m     \u001b[38;5;28;01mraise\u001b[39;00m \u001b[38;5;167;01mException\u001b[39;00m(\u001b[38;5;124m'\u001b[39m\u001b[38;5;124mUnknown escape code: char=\u001b[39m\u001b[38;5;132;01m%r\u001b[39;00m\u001b[38;5;124m numbers=\u001b[39m\u001b[38;5;132;01m%r\u001b[39;00m\u001b[38;5;124m input=\u001b[39m\u001b[38;5;132;01m%r\u001b[39;00m\u001b[38;5;124m'\u001b[39m\\\n\u001b[0;32m--> 187\u001b[0m                     \u001b[38;5;241m%\u001b[39m (char, numbers, \u001b[38;5;28minput\u001b[39m[:\u001b[38;5;241m20\u001b[39m]))\n",
      "\u001b[0;31mTypeError\u001b[0m: 'method' object is not subscriptable"
     ]
    }
   ],
   "source": [
    "term = Ansiterm(24, 80)\n",
    "term.feed(text)"
   ]
  }
 ],
 "metadata": {
  "kernelspec": {
   "display_name": "base",
   "language": "python",
   "name": "python3"
  },
  "language_info": {
   "codemirror_mode": {
    "name": "ipython",
    "version": 3
   },
   "file_extension": ".py",
   "mimetype": "text/x-python",
   "name": "python",
   "nbconvert_exporter": "python",
   "pygments_lexer": "ipython3",
   "version": "3.11.7"
  }
 },
 "nbformat": 4,
 "nbformat_minor": 2
}
