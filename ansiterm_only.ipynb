{
 "cells": [
  {
   "cell_type": "code",
   "execution_count": 26,
   "metadata": {},
   "outputs": [],
   "source": [
    "# https://github.com/helgefmi/ohno/blob/master/ohno/client/pty.py ## loosely based on this code\n",
    "import os\n",
    "import pty\n",
    "import subprocess\n",
    "import pprint\n",
    "import time\n",
    "import json\n",
    "import select\n",
    "import re\n",
    "class Terminal:\n",
    "    # This pattern will capture everything I have seen so far.  It assumes that you'll never have one that ends with a digit followed immediately by an actual letter\n",
    "    # it also theoretically allows for certain kinds of garbage that should never actually show up in a real terminal escape sequence\n",
    "    escape_pattern = re.compile(\"^\\x1b\\[?(\\??\\)?[\\d;]*)(\\w)\")\n",
    "\n",
    "    def __init__(self, rows, cols):\n",
    "        self.rows = rows\n",
    "        self.cols = cols\n",
    "        self.reset()\n",
    "\n",
    "    def reset(self):\n",
    "        self.cursor_row = 0\n",
    "        self.cursor_col = 0\n",
    "        self.characters = [[' ' for i in range(self.cols)] for _ in range(self.rows)]\n",
    "        self.foregrounds = [[\"white\" for i in range(self.cols)] for _ in range(self.rows)]\n",
    "        self.backgrounds = [[\"black\" for i in range(self.cols)] for _ in range(self.rows)] # does Nethack actually do this?\n",
    "\n",
    "    def text(self):\n",
    "        s = \"\"\n",
    "        for i in range(self.rows):\n",
    "            for j in range(self.cols): # let's ignore colors for now\n",
    "                s += self.characters[i][j]\n",
    "            s += \"\\n\"\n",
    "        return s\n",
    "    \n",
    "    def print(self):\n",
    "        print(self.text())\n",
    "                \n",
    "    def update(self, input, print_instructions = False):\n",
    "        #print_instructions = True # for now\n",
    "        #self.reset()\n",
    "        # this is where the logic is going to get complex\n",
    "        instructions = []\n",
    "        while input:\n",
    "            ch = input[0]\n",
    "            if ch == \"\\x1b\":\n",
    "                # find the first group that matches the escape pattern\n",
    "                m = Terminal.escape_pattern.match(input)\n",
    "                if m:\n",
    "                    #print(f\"found match beginning with {input[:20]}\")\n",
    "                    code = \"\\x1b\" + m.group(1) + m.group(2)\n",
    "                    instructions.append(code)\n",
    "                    #print(f\"length of code is {len(code)}\")\n",
    "                    #input = input[len(code):]\n",
    "                    input = input[m.end():]\n",
    "                    #print(f\"found escape sequence \\\\x1b{code[1:]}\")\n",
    "                    #print(f\"next character is {input[0]}\")\n",
    "                else:\n",
    "                    print(\"uh oh, couldn't match the escape sequence\")\n",
    "                    print(input[:20])\n",
    "            else:\n",
    "                instructions.append(ch)\n",
    "                input = input[1:]\n",
    "\n",
    "        for ch in instructions:\n",
    "            if len(ch) == 1:\n",
    "                # not an escape sequence\n",
    "                if ch == \"\\r\": # carriage return; reset cursor column to 0\n",
    "                    self.cursor_col = 0 # carriage return; reset cursor column to 0\n",
    "                elif ch == \"\\n\": # newline; move cursor row down by one\n",
    "                    self.cursor_row += 1\n",
    "                elif ch == \"\\b\": # backspace; move cursor column back by one\n",
    "                    self.cursor_col -= 1  # backspace; move cursor column back by one\n",
    "                elif ch == '\\x0f' or ch == '\\x00': # some kind of no-op; not sure why they're here\n",
    "                    pass\n",
    "                else: # normal, displayable character\n",
    "                    self.characters[self.cursor_row][self.cursor_col] = ch\n",
    "                    self.cursor_col += 1\n",
    "            else:\n",
    "                escape, args, last_char = ch[0], ch[1:-1], ch[-1]\n",
    "                if ch in (\"\\x1b7\", \"\\x1b8\", \"\\x1b?47h\"):\n",
    "                    print(f\"ignored unhandled save/restore sequence \\\\x1b{ch[1:]}\")\n",
    "                    continue\n",
    "                elif last_char.isdigit():\n",
    "                    # I don't know what to do with these yet\n",
    "                    print(f\"unknown unhandled escape sequence \\\\x1b{ch[1:]}\")\n",
    "                    continue\n",
    "                \n",
    "                if not args:\n",
    "                    if last_char in 'ABCDEFSTf':\n",
    "                        args = [1]\n",
    "                    elif last_char == 'H':\n",
    "                        args = [1, 1]\n",
    "                    else:\n",
    "                        args = [0]\n",
    "                else:\n",
    "                    try:\n",
    "                        args = [int(x) for x in args.split(';')]\n",
    "                    except ValueError:\n",
    "                        raise ValueError(f\"couldn't parse escape sequence \\\\x1b{ch[1:]}\")\n",
    "\n",
    "                if last_char == \"H\": # set cursor position\n",
    "                    self.cursor_row = args[0] - 1\n",
    "                    self.cursor_col = args[1] - 1\n",
    "\n",
    "                elif last_char == \"J\": # clear (parts of) screen\n",
    "                    if args[0] == 0: # clear to end of screen\n",
    "                        for i in range(self.cursor_col, self.cols):\n",
    "                            self.characters[self.cursor_row][i] = ' '\n",
    "                        for i in range(self.cursor_row + 1, self.rows):\n",
    "                            for j in range(self.cols):\n",
    "                                self.characters[i][j] = ' '\n",
    "                    elif args[0] == 1: # clear to beginning of screen\n",
    "                        for i in range(self.cursor_col+1):\n",
    "                            self.characters[self.cursor_row][i] = ' '\n",
    "                        for i in range(self.cursor_row):\n",
    "                            for j in range(self.cols):\n",
    "                                self.characters[i][j] = ' '\n",
    "                    elif args[0] == 2: # clear entire screen\n",
    "                        for i in range(self.rows):\n",
    "                            for j in range(self.cols):\n",
    "                                self.characters[i][j] = ' '\n",
    "                    else:\n",
    "                        print(f\"unhandled clear screen \\\\x1b{ch[1:]}\")\n",
    "\n",
    "                elif last_char == \"K\": # clear (parts of) line\n",
    "                    if args[0] == 0:\n",
    "                        for i in range(self.cursor_col, self.cols):\n",
    "                            self.characters[self.cursor_row][i] = ' '\n",
    "                    elif args[0] == 1:\n",
    "                        for i in range(self.cursor_col+1):\n",
    "                            self.characters[self.cursor_row][i] = ' '\n",
    "                    elif args[0] == 2:\n",
    "                        for i in range(self.cols):\n",
    "                            self.characters[self.cursor_row][i] = ' '\n",
    "                    else:\n",
    "                        print(f\"unhandled clear line \\\\x1b{ch[1:]}\")\n",
    "\n",
    "                elif last_char == \"A\": # move cursor up\n",
    "                    self.cursor_row -= args[0]\n",
    "                elif last_char == \"B\": # move cursor down\n",
    "                    self.cursor_row += args[0]\n",
    "                elif last_char == \"C\": # move cursor right\n",
    "                    self.cursor_col += args[0]\n",
    "                elif last_char == \"D\": # move cursor left\n",
    "                    self.cursor_col -= args[0]\n",
    "                \n",
    "                elif last_char == \"m\":\n",
    "                    #print(f\"ignored color sequence\")]\n",
    "                    pass\n",
    "                else:\n",
    "                    print(f\"unhandled escape sequence \\\\x1b{ch[1:]}\")\n",
    "           \n",
    "        # this code is taken from the example; I'm not sure if it's necessary and I don't know if the opposite check (<0) also needs to be done\n",
    "        while self.cursor_col >= self.cols:\n",
    "            self.cursor_col = self.cursor_col - self.cols # wrap around to the next line\n",
    "            self.cursor_row += 1\n",
    "        while self.cursor_row >= self.rows:\n",
    "            self.cursor_row = self.rows - 1 # don't go off the screen\n",
    "\n",
    "\n",
    "class Nethack:\n",
    "    def __init__(self):\n",
    "        self.master = None\n",
    "        self.slave = None\n",
    "        self.process = None\n",
    "        self.terminal = Terminal(24, 80)\n",
    "\n",
    "    def start_process(self):\n",
    "        self.master, self.slave = pty.openpty()\n",
    "        self.process = subprocess.Popen(\n",
    "            [\"nethack\"],\n",
    "            stdin=self.slave,\n",
    "            stdout=self.slave,\n",
    "            stderr=self.slave,\n",
    "            close_fds=True, # this line comes from Bing Chat and I don't know what it does really\n",
    "            universal_newlines=True,\n",
    "        )\n",
    "        os.close(self.slave) # Copilot added this so take it with a grain of salt...if it works, we don't need to save the reference\n",
    "\n",
    "    def read_output(self, timeout = 1.0, sleep = 0.25, chars = 8192):\n",
    "        if self.process is None:\n",
    "            raise ValueError(\"Process not started\")\n",
    "        if sleep is not None and sleep > 0:\n",
    "            time.sleep(sleep)\n",
    "        if timeout is not None and timeout > 0:\n",
    "            rlist, _, _ = select.select([self.master], [], [], timeout)\n",
    "            if rlist:\n",
    "                return os.read(self.master, chars).decode()\n",
    "            else:\n",
    "                print(\"(read timed out)\")\n",
    "                print(\"(this usually means the input sent did not update the game state.)\")\n",
    "                return None\n",
    "        else:\n",
    "            return os.read(self.master, chars).decode()\n",
    "\n",
    "    def send_command(self, command):\n",
    "        #os.write(self.master, command.encode() + b\"\\n\")\n",
    "        os.write(self.master, command.encode())\n",
    "\n",
    "    def close(self):\n",
    "        try:\n",
    "            self.process.terminate()\n",
    "            os.close(self.master)\n",
    "        except:\n",
    "            pass\n",
    "\n",
    "    def next_command(self, c, verbose = False, timeout = 1.0):\n",
    "        self.send_command(c)\n",
    "        text = self.read_output(timeout = timeout)\n",
    "        if verbose:\n",
    "            print(text)\n",
    "        if text is not None:\n",
    "            self.terminal.update(text, print_instructions = verbose)\n",
    "        print(self.terminal.text())\n",
    "        return text\n",
    "\n",
    "    @staticmethod\n",
    "    def clean_locks():\n",
    "        password = json.load(open(\"private.json\"))[\"sudo\"]\n",
    "        os.system(f'echo \"{password}\" | sudo -S rm -f /var/games/nethack/*lock*')\n",
    "\n",
    "    @staticmethod\n",
    "    def get_new_process(verbose = False):\n",
    "        Nethack.clean_locks()\n",
    "        n = Nethack()\n",
    "        n.start_process()\n",
    "        text = n.read_output(timeout = 1.0)\n",
    "        n.terminal.update(text, print_instructions = verbose)\n",
    "        print(n.terminal.text())\n",
    "        return n\n",
    "\n",
    "# 24, 80"
   ]
  },
  {
   "cell_type": "code",
   "execution_count": 11,
   "metadata": {},
   "outputs": [],
   "source": [
    "ENTER = RETURN = \"\\x0d\"\n",
    "L = LEFT = \"h\"\n",
    "R = RIGHT = \"l\"\n",
    "U = UP = \"k\"\n",
    "D = DOWN = \"j\""
   ]
  },
  {
   "cell_type": "code",
   "execution_count": 27,
   "metadata": {},
   "outputs": [
    {
     "name": "stderr",
     "output_type": "stream",
     "text": [
      "[sudo] password for perplexity: "
     ]
    },
    {
     "name": "stdout",
     "output_type": "stream",
     "text": [
      "ignored unhandled save/restore sequence \\x1b7\n",
      "ignored unhandled save/restore sequence \\x1b?47h\n",
      "unknown unhandled escape sequence \\x1b)0\n",
      "                                                                                \n",
      "NetHack, Copyright 1985-2023                                                    \n",
      "         By Stichting Mathematisch Centrum and M. Stephenson.                   \n",
      "         Version 3.6.7 Unix, revised Apr  1 07:02:11 2024.                      \n",
      "         See license for details.                                               \n",
      "                                                                                \n",
      "                                                                                \n",
      "Shall I pick character's race, role, gender and alignment for you? [ynaq]       \n",
      "                                                                                \n",
      "                                                                                \n",
      "                                                                                \n",
      "                                                                                \n",
      "                                                                                \n",
      "                                                                                \n",
      "                                                                                \n",
      "                                                                                \n",
      "                                                                                \n",
      "                                                                                \n",
      "                                                                                \n",
      "                                                                                \n",
      "                                                                                \n",
      "                                                                                \n",
      "                                                                                \n",
      "                                                                                \n",
      "\n"
     ]
    }
   ],
   "source": [
    "nethack = Nethack.get_new_process()"
   ]
  },
  {
   "cell_type": "code",
   "execution_count": 28,
   "metadata": {},
   "outputs": [
    {
     "name": "stdout",
     "output_type": "stream",
     "text": [
      "       name: perplexity                  Pick a role or profession              \n",
      "       role:  choosing now                                                      \n",
      "       race:  not yet specified          a - an Archeologist                    \n",
      "     gender:  not yet specified          b - a Barbarian                        \n",
      "  alignment:  not yet specified          c - a Caveman/Cavewoman                \n",
      "                                         h - a Healer                           \n",
      "                                         k - a Knight                           \n",
      "                                         m - a Monk                             \n",
      "                                         p - a Priest/Priestess                 \n",
      "                                         r - a Rogue                            \n",
      "                                         R - a Ranger                           \n",
      "                                         s - a Samurai                          \n",
      "                                         t - a Tourist                          \n",
      "                                         v - a Valkyrie                         \n",
      "                                         w - a Wizard                           \n",
      "                                         * + Random                             \n",
      "                                                                                \n",
      "                                         / - Pick race first                    \n",
      "                                         \" - Pick gender first                  \n",
      "                                         [ - Pick alignment first               \n",
      "                                         q - Quit                               \n",
      "                                         (end)                                  \n",
      "                                                                                \n",
      "                                                                                \n",
      "\n"
     ]
    },
    {
     "data": {
      "text/plain": [
       "'n\\x1b[H\\x1b[2J\\x1b[H       name: perplexity\\r\\x1b[2;1H       role:  choosing now\\r\\x1b[3;1H       race:  not yet specified\\r\\x1b[4;1H     gender:  not yet specified\\r\\x1b[5;1H  alignment:  not yet specified\\x1b[1;41H\\x1b[K Pick a role or profession\\x1b[2;41H\\x1b[K \\x1b[3;41H\\x1b[K a - an Archeologist\\x1b[4;41H\\x1b[K b - a Barbarian\\x1b[5;41H\\x1b[K c - a Caveman/Cavewoman\\x1b[6;41H\\x1b[K h - a Healer\\x1b[7;41H\\x1b[K k - a Knight\\x1b[8;41H\\x1b[K m - a Monk\\x1b[9;41H\\x1b[K p - a Priest/Priestess\\x1b[10;41H\\x1b[K r - a Rogue\\x1b[11;41H\\x1b[K R - a Ranger\\x1b[12;41H\\x1b[K s - a Samurai\\x1b[13;41H\\x1b[K t - a Tourist\\x1b[14;41H\\x1b[K v - a Valkyrie\\x1b[15;41H\\x1b[K w - a Wizard\\x1b[16;41H\\x1b[K * + Random\\x1b[17;41H\\x1b[K \\x1b[18;41H\\x1b[K / - Pick race first\\x1b[19;41H\\x1b[K \" - Pick gender first\\x1b[20;41H\\x1b[K [ - Pick alignment first\\x1b[21;41H\\x1b[K q - Quit\\x1b[22;41H\\x1b[K\\x1b[C(end) '"
      ]
     },
     "execution_count": 28,
     "metadata": {},
     "output_type": "execute_result"
    }
   ],
   "source": [
    "nethack.next_command(\"n\")"
   ]
  },
  {
   "cell_type": "code",
   "execution_count": 29,
   "metadata": {},
   "outputs": [
    {
     "name": "stdout",
     "output_type": "stream",
     "text": [
      "       name: perplexity                  Pick a race or species                 \n",
      "       role: Valkyrie                                                           \n",
      "       race:  choosing now               h - human                              \n",
      "     gender: female                      d - dwarf                              \n",
      "  alignment:  not yet specified          * + Random                             \n",
      "                                                                                \n",
      "                                         ? - Pick another role first            \n",
      "                                             role forces female                 \n",
      "                                         [ - Pick alignment first               \n",
      "                                         q - Quit                               \n",
      "                                         (end)                                  \n",
      "                                                                                \n",
      "                                                                                \n",
      "                                                                                \n",
      "                                                                                \n",
      "                                                                                \n",
      "                                                                                \n",
      "                                                                                \n",
      "                                                                                \n",
      "                                                                                \n",
      "                                                                                \n",
      "                                                                                \n",
      "                                                                                \n",
      "                                                                                \n",
      "\n"
     ]
    },
    {
     "data": {
      "text/plain": [
       "'\\x1b[14;44H+\\x1b[1;40H\\x1b[K\\x1b[2;40H\\x1b[K\\x1b[3;40H\\x1b[K\\x1b[4;40H\\x1b[K\\x1b[5;40H\\x1b[K\\x1b[6;40H\\x1b[K\\x1b[7;40H\\x1b[K\\x1b[8;40H\\x1b[K\\x1b[9;40H\\x1b[K\\x1b[10;40H\\x1b[K\\x1b[11;40H\\x1b[K\\x1b[12;40H\\x1b[K\\x1b[13;40H\\x1b[K\\x1b[14;40H\\x1b[K\\x1b[15;40H\\x1b[K\\x1b[16;40H\\x1b[K\\x1b[17;40H\\x1b[K\\x1b[18;40H\\x1b[K\\x1b[19;40H\\x1b[K\\x1b[20;40H\\x1b[K\\x1b[21;40H\\x1b[K\\x1b[22;40H\\x1b[K\\x1b[23;40H\\x1b[K\\x1b[H\\x1b[2J\\x1b[H       name: perplexity\\r\\x1b[2;1H       role: Valkyrie\\r\\x1b[3;1H       race:  choosing now\\r\\x1b[4;1H     gender: female\\r\\x1b[5;1H  alignment:  not yet specified\\x1b[1;41H\\x1b[K Pick a race or species\\x1b[2;41H\\x1b[K \\x1b[3;41H\\x1b[K h - human\\x1b[4;41H\\x1b[K d - dwarf\\x1b[5;41H\\x1b[K * + Random\\x1b[6;41H\\x1b[K \\x1b[7;41H\\x1b[K ? - Pick another role first\\x1b[8;41H\\x1b[K     role forces female\\x1b[9;41H\\x1b[K [ - Pick alignment first\\x1b[10;41H\\x1b[K q - Quit\\x1b[11;41H\\x1b[K\\x1b[C(end) '"
      ]
     },
     "execution_count": 29,
     "metadata": {},
     "output_type": "execute_result"
    }
   ],
   "source": [
    "nethack.next_command(\"v\")"
   ]
  },
  {
   "cell_type": "code",
   "execution_count": 30,
   "metadata": {},
   "outputs": [
    {
     "name": "stdout",
     "output_type": "stream",
     "text": [
      "       name: perplexity                  Pick an alignment or creed             \n",
      "       role: Valkyrie                                                           \n",
      "       race: human                       l - lawful                             \n",
      "     gender: female                      n - neutral                            \n",
      "  alignment:  choosing now               * + Random                             \n",
      "                                                                                \n",
      "                                         ? - Pick another role first            \n",
      "                                         / - Pick another race first            \n",
      "                                             role forces female                 \n",
      "                                         q - Quit                               \n",
      "                                         (end)                                  \n",
      "                                                                                \n",
      "                                                                                \n",
      "                                                                                \n",
      "                                                                                \n",
      "                                                                                \n",
      "                                                                                \n",
      "                                                                                \n",
      "                                                                                \n",
      "                                                                                \n",
      "                                                                                \n",
      "                                                                                \n",
      "                                                                                \n",
      "                                                                                \n",
      "\n"
     ]
    },
    {
     "data": {
      "text/plain": [
       "'\\x1b[3;44H+\\x1b[1;40H\\x1b[K\\x1b[2;40H\\x1b[K\\x1b[3;40H\\x1b[K\\x1b[4;40H\\x1b[K\\x1b[5;40H\\x1b[K\\x1b[6;40H\\x1b[K\\x1b[7;40H\\x1b[K\\x1b[8;40H\\x1b[K\\x1b[9;40H\\x1b[K\\x1b[10;40H\\x1b[K\\x1b[11;40H\\x1b[K\\x1b[12;40H\\x1b[K\\x1b[H\\x1b[2J\\x1b[H       name: perplexity\\r\\x1b[2;1H       role: Valkyrie\\r\\x1b[3;1H       race: human\\r\\x1b[4;1H     gender: female\\r\\x1b[5;1H  alignment:  choosing now\\x1b[1;41H\\x1b[K Pick an alignment or creed\\x1b[2;41H\\x1b[K \\x1b[3;41H\\x1b[K l - lawful\\x1b[4;41H\\x1b[K n - neutral\\x1b[5;41H\\x1b[K * + Random\\x1b[6;41H\\x1b[K \\x1b[7;41H\\x1b[K ? - Pick another role first\\x1b[8;41H\\x1b[K / - Pick another race first\\x1b[9;41H\\x1b[K     role forces female\\x1b[10;41H\\x1b[K q - Quit\\x1b[11;41H\\x1b[K\\x1b[C(end) '"
      ]
     },
     "execution_count": 30,
     "metadata": {},
     "output_type": "execute_result"
    }
   ],
   "source": [
    "nethack.next_command(\"h\")"
   ]
  },
  {
   "cell_type": "code",
   "execution_count": 31,
   "metadata": {},
   "outputs": [
    {
     "name": "stdout",
     "output_type": "stream",
     "text": [
      "       name: perplexity                  Is this ok? [ynq]                      \n",
      "       role: Valkyrie                                                           \n",
      "       race: human                       perplexity, neutral human Valkyrie     \n",
      "     gender: female                                                             \n",
      "  alignment: neutral                     y + Yes; start game                    \n",
      "                                         n - No; choose role again              \n",
      "                                         q - Quit                               \n",
      "                                         (end)                                  \n",
      "                                                                                \n",
      "                                                                                \n",
      "                                                                                \n",
      "                                                                                \n",
      "                                                                                \n",
      "                                                                                \n",
      "                                                                                \n",
      "                                                                                \n",
      "                                                                                \n",
      "                                                                                \n",
      "                                                                                \n",
      "                                                                                \n",
      "                                                                                \n",
      "                                                                                \n",
      "                                                                                \n",
      "                                                                                \n",
      "\n"
     ]
    },
    {
     "data": {
      "text/plain": [
       "'\\x1b[4;44H+\\x1b[1;40H\\x1b[K\\x1b[2;40H\\x1b[K\\x1b[3;40H\\x1b[K\\x1b[4;40H\\x1b[K\\x1b[5;40H\\x1b[K\\x1b[6;40H\\x1b[K\\x1b[7;40H\\x1b[K\\x1b[8;40H\\x1b[K\\x1b[9;40H\\x1b[K\\x1b[10;40H\\x1b[K\\x1b[11;40H\\x1b[K\\x1b[12;40H\\x1b[K\\x1b[H\\x1b[2J\\x1b[H       name: perplexity\\r\\x1b[2;1H       role: Valkyrie\\r\\x1b[3;1H       race: human\\r\\x1b[4;1H     gender: female\\r\\x1b[5;1H  alignment: neutral\\x1b[1;41H\\x1b[K Is this ok? [ynq]\\x1b[2;41H\\x1b[K \\x1b[3;41H\\x1b[K perplexity, neutral human Valkyrie\\x1b[4;41H\\x1b[K \\x1b[5;41H\\x1b[K y + Yes; start game\\x1b[6;41H\\x1b[K n - No; choose role again\\x1b[7;41H\\x1b[K q - Quit\\x1b[8;41H\\x1b[K\\x1b[C(end) '"
      ]
     },
     "execution_count": 31,
     "metadata": {},
     "output_type": "execute_result"
    }
   ],
   "source": [
    "nethack.next_command(\"n\")"
   ]
  },
  {
   "cell_type": "code",
   "execution_count": 32,
   "metadata": {},
   "outputs": [
    {
     "name": "stdout",
     "output_type": "stream",
     "text": [
      "                       It is written in the Book of Odin:                       \n",
      "                                                                                \n",
      "                           After the Creation, the cruel god Moloch rebelled    \n",
      "                           against the authority of Marduk the Creator.         \n",
      "                           Moloch stole from Marduk the most powerful of all    \n",
      "                           the artifacts of the gods, the Amulet of Yendor,     \n",
      "                           and he hid it in the dark cavities of Gehennom, the  \n",
      "                           Under World, where he now lurks, and bides his time. \n",
      "                                                                                \n",
      "                       Your god Odin seeks to possess the Amulet, and with it   \n",
      "                       to gain deserved ascendance over the other gods.         \n",
      "                                                                                \n",
      "                       You, a newly trained Stripling, have been heralded       \n",
      "                       from birth as the instrument of Odin.  You are destined  \n",
      "                       to recover the Amulet for your deity, or die in the      \n",
      "                       attempt.  Your hour of destiny has come.  For the sake   \n",
      "                       of us all:  Go bravely with Odin!                        \n",
      "                       --More--                                                 \n",
      "                           |..........@..|                                      \n",
      "                           |.......)..d..-                                      \n",
      "                           ---------------                                      \n",
      "                                                                                \n",
      "[Perplexity the Stripling      ] St:18/02 Dx:11 Co:15 In:8 Wi:10 Ch:10 Neutral  \n",
      "Dlvl:1 $:0 HP:16(16) Pw:2(2) AC:6 Xp:1                                          \n",
      "\n"
     ]
    },
    {
     "data": {
      "text/plain": [
       "'\\x1b[5;44H-\\x1b[1;40H\\x1b[K\\x1b[2;40H\\x1b[K\\x1b[3;40H\\x1b[K\\x1b[4;40H\\x1b[K\\x1b[5;40H\\x1b[K\\x1b[6;40H\\x1b[K\\x1b[7;40H\\x1b[K\\x1b[8;40H\\x1b[K\\x1b[9;40H\\x1b[K\\x1b[H\\x1b[2J\\x1b[H\\x1b[H\\x1b[2J\\x1b[H\\x1b[17;28H-----\\x1b[m\\x1b[C---------\\x1b[m\\x1b[18;28H|.........\\x1b[m\\x1b[33md\\x1b[m..\\x1b[m\\x1b[1m\\x1b[37mx\\x1b[m|\\x1b[m\\x1b[19;28H|..........\\x1b[m\\x1b[1m\\x1b[37m@\\x1b[m..|\\x1b[m\\x1b[20;28H|.......\\x1b[m\\x1b[33m)\\x1b[m..\\x1b[m\\x1b[1m\\x1b[37m\\x1b[7md\\x1b[m\\x1b[m..\\x1b[m\\x1b[33m-\\x1b[m\\x1b[21;28H---------------\\x1b[m\\x1b[19;39H\\x1b[23;1H\\x1b[K\\x1b[24;1H\\x1b[K\\x1b[A[\\x1b[7mPerplexity the Stripling      \\x1b[m] St:18/02 Dx:11 Co:15 In:8 Wi:10 Ch:10 Neutral\\x1b[K\\r\\x1b[24;1HDlvl:1 $:0 HP:16(16) Pw:2(2) AC:6 Xp:1\\x1b[K\\x1b[1;23H\\x1b[K It is written in the Book of Odin:\\x1b[2;23H\\x1b[K \\x1b[3;23H\\x1b[K     After the Creation, the cruel god Moloch rebelled\\x1b[4;23H\\x1b[K     against the authority of Marduk the Creator.\\x1b[5;23H\\x1b[K     Moloch stole from Marduk the most powerful of all\\x1b[6;23H\\x1b[K     the artifacts of the gods, the Amulet of Yendor,\\x1b[7;23H\\x1b[K     and he hid it in the dark cavities of Gehennom, the\\x1b[8;23H\\x1b[K     Under World, where he now lurks, and bides his time.\\x1b[9;23H\\x1b[K \\x1b[10;23H\\x1b[K Your god Odin seeks to possess the Amulet, and with it\\x1b[11;23H\\x1b[K to gain deserved ascendance over the other gods.\\x1b[12;23H\\x1b[K \\x1b[13;23H\\x1b[K You, a newly trained Stripling, have been heralded\\x1b[14;23H\\x1b[K from birth as the instrument of Odin.  You are destined\\x1b[15;23H\\x1b[K to recover the Amulet for your deity, or die in the\\x1b[16;23H\\x1b[K attempt.  Your hour of destiny has come.  For the sake\\x1b[17;23H\\x1b[K of us all:  Go bravely with Odin!\\x1b[18;23H\\x1b[K\\x1b[C--More--'"
      ]
     },
     "execution_count": 32,
     "metadata": {},
     "output_type": "execute_result"
    }
   ],
   "source": [
    "nethack.next_command(\"y\")"
   ]
  },
  {
   "cell_type": "code",
   "execution_count": 35,
   "metadata": {},
   "outputs": [
    {
     "name": "stdout",
     "output_type": "stream",
     "text": [
      "Be careful!  New moon tonight.                                                  \n",
      "                                                                                \n",
      "                                                                                \n",
      "                                                                                \n",
      "                                                                                \n",
      "                                                                                \n",
      "                                                                                \n",
      "                                                                                \n",
      "                                                                                \n",
      "                                                                                \n",
      "                                                                                \n",
      "                                                                                \n",
      "                                                                                \n",
      "                                                                                \n",
      "                                                                                \n",
      "                                                                                \n",
      "                           ----- ---------                                      \n",
      "                           |.........d..x|                                      \n",
      "                           |..........@..|                                      \n",
      "                           |.......)..d..-                                      \n",
      "                           ---------------                                      \n",
      "                                                                                \n",
      "[Perplexity the Stripling      ] St:18/02 Dx:11 Co:15 In:8 Wi:10 Ch:10 Neutral  \n",
      "Dlvl:1 $:0 HP:16(16) Pw:2(2) AC:6 Xp:1                                          \n",
      "\n"
     ]
    },
    {
     "data": {
      "text/plain": [
       "'\\r\\x1b[A\\x1b[K\\x1b[2;1H\\x1b[K\\x1b[H\\x1b[HBe careful!  New moon tonight.\\x1b[K\\x1b[23;1H[\\x1b[7mPerplexity the Stripling      \\x1b[m] St:18/02 Dx:11 Co:15 In:8 Wi:10 Ch:10 Neutral\\r\\x1b[24;1HDlvl:1 $:0 HP:16(16) Pw:2(2) AC:6 Xp:1\\x1b[19;39H'"
      ]
     },
     "execution_count": 35,
     "metadata": {},
     "output_type": "execute_result"
    }
   ],
   "source": [
    "RETURN = \"\\x0d\"\n",
    "LEFT = \"h\"\n",
    "RIGHT = \"l\"\n",
    "UP = \"k\"\n",
    "DOWN = \"j\"\n",
    "nethack.next_command(RETURN)"
   ]
  },
  {
   "cell_type": "code",
   "execution_count": 36,
   "metadata": {},
   "outputs": [
    {
     "name": "stdout",
     "output_type": "stream",
     "text": [
      "                                                                                \n",
      "                                                                                \n",
      "                                                                                \n",
      "                                                                                \n",
      "                                                                                \n",
      "                                                                                \n",
      "                                                                                \n",
      "                                                                                \n",
      "                                                                                \n",
      "                                                                                \n",
      "                                                                                \n",
      "                                                                                \n",
      "                                                                                \n",
      "                                                                                \n",
      "                                                                                \n",
      "                                                                                \n",
      "                           ----- ---------                                      \n",
      "                           |.........d@.x|                                      \n",
      "                           |..........<..|                                      \n",
      "                           |.......)..d..-                                      \n",
      "                           ---------------                                      \n",
      "                                                                                \n",
      "[Perplexity the Stripling      ] St:18/02 Dx:11 Co:15 In:8 Wi:10 Ch:10 Neutral  \n",
      "Dlvl:1 $:0 HP:16(16) Pw:2(2) AC:6 Xp:1                                          \n",
      "\n"
     ]
    },
    {
     "data": {
      "text/plain": [
       "'\\x1b[H\\x1b[K\\x1b[18;39H\\x1b[1m\\x1b[37m@\\x1b[m\\x1b[19;39H<\\x1b[m\\x1b[A\\x08'"
      ]
     },
     "execution_count": 36,
     "metadata": {},
     "output_type": "execute_result"
    }
   ],
   "source": [
    "nethack.next_command(UP, timeout = 0.5)"
   ]
  },
  {
   "cell_type": "code",
   "execution_count": 51,
   "metadata": {},
   "outputs": [
    {
     "name": "stdout",
     "output_type": "stream",
     "text": [
      "                                                                                \n",
      "                                                                                \n",
      "                                                                                \n",
      "                                                                                \n",
      "                                                                                \n",
      "                                                                                \n",
      "                                                                                \n",
      "                                                                                \n",
      "                                                                                \n",
      "                                                                                \n",
      "                                                                                \n",
      "                                                                                \n",
      "                                                                                \n",
      "                                                                                \n",
      "                                                                                \n",
      "                                              #                                 \n",
      "                           ----- ---------   #@                                 \n",
      "                           |............x|####                                  \n",
      "                           |..........<..|#                                     \n",
      "                           |.............-#                                     \n",
      "                           ---------------                                      \n",
      "                                                                                \n",
      "[Perplexity the Stripling      ] St:18/02 Dx:11 Co:15 In:8 Wi:10 Ch:10 Neutral  \n",
      "Dlvl:1 $:0 HP:12(16) Pw:2(2) AC:6 Xp:1                                          \n",
      "\n"
     ]
    },
    {
     "data": {
      "text/plain": [
       "'#\\x1b[m\\x1b[1m\\x1b[37m@\\x1b[m\\x1b[18;46H#\\x1b[m\\x1b[A'"
      ]
     },
     "execution_count": 51,
     "metadata": {},
     "output_type": "execute_result"
    }
   ],
   "source": [
    "nethack.next_command(R, timeout = 0.5)"
   ]
  },
  {
   "cell_type": "code",
   "execution_count": 15,
   "metadata": {},
   "outputs": [
    {
     "name": "stdout",
     "output_type": "stream",
     "text": [
      "\u001b\u001b[33md\u001b[m\u001b[C\u001b[1m\u001b[37m@\u001b[m.\u001b[m\u001b[17;66H.\u001b[m\u001b[C\u001b[C.\u001b[m\u001b[18;69H\u001b[1m\u001b[37m\u001b[7md\u001b[m\u001b[m\u001b[A\u001b[\n",
      "SetCursor(move=CursorMove(x=0, y=-1, relative=True))\n",
      "\n",
      "SetColor(role=<ColorRole.FOREGROUND: 30>, color=Ansi256(3))\n",
      "d\n",
      "SetAttribute(attribute=<Attribute.NORMAL: 0>)\n",
      "SetCursor(move=CursorMove(x=1, y=0, relative=True))\n",
      "SetAttribute(attribute=<Attribute.BOLD: 1>)\n",
      "SetColor(role=<ColorRole.FOREGROUND: 30>, color=Ansi256(7))\n",
      "@\n",
      "SetAttribute(attribute=<Attribute.NORMAL: 0>)\n",
      ".\n",
      "SetAttribute(attribute=<Attribute.NORMAL: 0>)\n",
      "SetCursor(move=CursorMove(x=16, y=65, relative=False))\n",
      ".\n",
      "SetAttribute(attribute=<Attribute.NORMAL: 0>)\n",
      "SetCursor(move=CursorMove(x=1, y=0, relative=True))\n",
      "SetCursor(move=CursorMove(x=1, y=0, relative=True))\n",
      ".\n",
      "SetAttribute(attribute=<Attribute.NORMAL: 0>)\n",
      "SetCursor(move=CursorMove(x=17, y=68, relative=False))\n",
      "SetAttribute(attribute=<Attribute.BOLD: 1>)\n",
      "SetColor(role=<ColorRole.FOREGROUND: 30>, color=Ansi256(7))\n",
      "SetAttribute(attribute=<Attribute.REVERSE: 7>)\n",
      "d\n",
      "SetAttribute(attribute=<Attribute.NORMAL: 0>)\n",
      "SetAttribute(attribute=<Attribute.NORMAL: 0>)\n",
      "SetCursor(move=CursorMove(x=0, y=-1, relative=True))\n",
      "SetCursor(move=CursorMove(x=0, y=-1, relative=True))\n",
      "\b\n",
      "                                                                                \n",
      "                                                                                \n",
      "                                                                                \n",
      "                                                                                \n",
      "                                                                                \n",
      "                                                                                \n",
      "                                                                                \n",
      "                                                                                \n",
      "                                                                                \n",
      "                                                                                \n",
      "                                                                                \n",
      "                                                                                \n",
      "                                                                                \n",
      "                                                                                \n",
      "                                                             --.----.--         \n",
      "                                                             |.....d..|         \n",
      "                                                             |......d.|         \n",
      "                                                             ......@d.|         \n",
      "                      --More--                               |........|         \n",
      "                                                             ----------         \n",
      "                                                             d                  \n",
      "                                                              @.                \n",
      "[Perplexity the Stripling      ] St:17 Dx:15 Co:18 In:7 Wi:9 Ch:9 Neutral       \n",
      "Dlvl:1 $:0 HP:16(16) Pw:2(2) AC:6 Xp:1                                          \n",
      "\n"
     ]
    },
    {
     "data": {
      "text/plain": [
       "'\\x1b[A\\x08\\x08\\x1b[33md\\x1b[m\\x1b[C\\x1b[1m\\x1b[37m@\\x1b[m.\\x1b[m\\x1b[17;66H.\\x1b[m\\x1b[C\\x1b[C.\\x1b[m\\x1b[18;69H\\x1b[1m\\x1b[37m\\x1b[7md\\x1b[m\\x1b[m\\x1b[A\\x1b[A\\x08'"
      ]
     },
     "execution_count": 15,
     "metadata": {},
     "output_type": "execute_result"
    }
   ],
   "source": [
    "# h is left, j is down, k is up, l is right\n",
    "#text = next_command(\"j\")  # okay, something odd is happening here: When I move, the player cursor disappears, and then the right way moves to the left.  So it seems like some portion of the text is getting blotted out.\n",
    "# interesting, that final character is \\x08 which is backspace.  I wonder if that has smething to do with it.\n",
    "nethack.next_command(\"k\", timeout = 0.5, verbose = True)\n",
    "# The problems I'm seeing here seem to be of a form where the I see the new locations of entities, but the old locations are not being cleared.\n",
    "# It's actually a bit weirder than that.  There's some jumping around.  That kind of makes it seem like some of the control characters are not being handled correctly.\n",
    "# Which sucks, because I know I already put a ton of work into that.  And I know it's a pain to debug.\n",
    "# So, one question here is whether the things are not updating, or whether they're updating incorrectly.  That should actually not be too hard to figure out; we could just \n",
    "# clear the screen either to blanks or to a single character, and then see if the entities are being drawn correctly.\n",
    "# So it looks to be a matter of not updating things that should be updating; however, we're also getting some strange things...\n",
    "# ...the player did not get drawn after switching places with the pet.\n",
    "# ...sometimes the player \"teleports\" to the top-center of the screen.\n",
    "# When I get rid of the full clear, we do see some teleporting around.  You might expect that if the screen is getting re-centered, but then you would expect other things to happen as well."
   ]
  }
 ],
 "metadata": {
  "kernelspec": {
   "display_name": "base",
   "language": "python",
   "name": "python3"
  },
  "language_info": {
   "codemirror_mode": {
    "name": "ipython",
    "version": 3
   },
   "file_extension": ".py",
   "mimetype": "text/x-python",
   "name": "python",
   "nbconvert_exporter": "python",
   "pygments_lexer": "ipython3",
   "version": "3.11.7"
  }
 },
 "nbformat": 4,
 "nbformat_minor": 2
}
