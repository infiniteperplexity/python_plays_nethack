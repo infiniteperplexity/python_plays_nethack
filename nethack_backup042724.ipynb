{
 "cells": [
  {
   "cell_type": "code",
   "execution_count": 5,
   "metadata": {},
   "outputs": [],
   "source": [
    "\n",
    "import os\n",
    "import pty\n",
    "import subprocess\n",
    "import pprint\n",
    "import time\n",
    "import json\n",
    "# https://github.com/helgefmi/ohno/blob/master/ohno/client/pty.py ## loosely based on this code\n",
    "class Nethack:\n",
    "    def __init__(self):\n",
    "        self.master = None\n",
    "        self.slave = None\n",
    "        self.process = None\n",
    "\n",
    "    def start_process(self):\n",
    "        self.master, self.slave = pty.openpty()\n",
    "        self.process = subprocess.Popen(\n",
    "            [\"nethack\"],\n",
    "            stdin=self.slave,\n",
    "            stdout=self.slave,\n",
    "            stderr=self.slave,\n",
    "            close_fds=True, # this line comes from Bing Chat and I don't know what it does really\n",
    "            universal_newlines=True,\n",
    "        )\n",
    "        os.close(self.slave) # Copilot added this so take it with a grain of salt...if it works, we don't need to save the reference\n",
    "\n",
    "    def read_output(self, sleep = 0.25, chars = 8192):\n",
    "    #def read_output(self, sleep = 0.25, chars = 8192, print_output = True):\n",
    "        if self.process is None:\n",
    "            raise ValueError(\"Process not started\")\n",
    "        if sleep is not None and sleep > 0:\n",
    "            time.sleep(sleep)\n",
    "        output = os.read(self.master, chars).decode()\n",
    "        return output\n",
    "\n",
    "    def send_command(self, command):\n",
    "        #os.write(self.master, command.encode() + b\"\\n\")\n",
    "        os.write(self.master, command.encode())\n",
    "\n",
    "    def close(self):\n",
    "        try:\n",
    "            self.process.terminate()\n",
    "            os.close(self.master)\n",
    "        except:\n",
    "            pass\n",
    "\n",
    "    @staticmethod\n",
    "    def clean_locks():\n",
    "        password = json.load(open(\"private.json\"))[\"sudo\"]\n",
    "        os.system(f'echo \"{password}\" | sudo -S rm -f /var/games/nethack/*lock*')\n",
    "\n",
    "# 24, 80"
   ]
  },
  {
   "cell_type": "code",
   "execution_count": 6,
   "metadata": {},
   "outputs": [],
   "source": [
    "import stransi\n",
    "import re\n",
    "\n",
    "ansi_escape_codes = {\n",
    "    r\"\\x1b7\": \"save cursor\",\n",
    "    r\"\\x1b\\[\\?47h\": \"set alternate screen\",\n",
    "    r\"\\x1b\\)0\": \"set to ASCII\",\n",
    "    r\"\\x1b\\[H\": \"move cursor to upper left\",\n",
    "    r\"\\x1b\\[2J\": \"clear screen\", # this might be a parameter?\n",
    "    r\"\\x1b\\[(\\d+);(\\d+)H\": \"move cursor\",\n",
    "    r\"\\x1b\\[K\": \"clear to end of line\",\n",
    "    r\"\\x1b\\[C\": \"move cursor right\",\n",
    "    r\"\\x1b8\": \"restore cursor\",\n",
    "}\n",
    "\n",
    "class Terminal:\n",
    "    unsupported = {\n",
    "        r\"\\x1b7\": \"save cursor\",\n",
    "        r\"\\x1b8\": \"restore cursor\",\n",
    "        r\"\\x1b\\[\\?47h\": \"set alternate screen\",\n",
    "        r\"\\x1b\\)0\": \"set to ASCII\",\n",
    "    }\n",
    "\n",
    "    def __init__(self, rows, cols):\n",
    "        self.rows = rows\n",
    "        self.cols = cols\n",
    "        self.reset()\n",
    "\n",
    "    def reset(self):\n",
    "        self.cursor_row = 0\n",
    "        self.cursor_col = 0\n",
    "        self.characters = [[' ' for i in range(self.cols)] for _ in range(self.rows)]\n",
    "        self.foregrounds = [[\"white\" for i in range(self.cols)] for _ in range(self.rows)]\n",
    "        self.backgrounds = [[\"black\" for i in range(self.cols)] for _ in range(self.rows)] # does Nethack actually do this?\n",
    "\n",
    "    def text(self):\n",
    "        s = \"\"\n",
    "        for i in range(self.rows):\n",
    "            for j in range(self.cols): # let's ignore colors for now\n",
    "                s += self.characters[i][j]\n",
    "            s += \"\\n\"\n",
    "        return s\n",
    "    \n",
    "    def print(self):\n",
    "        print(self.text())\n",
    "                \n",
    "    def update(self, input, print_instructions = False):\n",
    "        #self.reset()\n",
    "        # this is where the logic is going to get complex\n",
    "        cleaned = input\n",
    "        for k, v in Terminal.unsupported.items():\n",
    "            rgx = re.compile(k)\n",
    "            cleaned = re.sub(rgx, \"\", cleaned)\n",
    "        ansi = stransi.Ansi(cleaned)\n",
    "        for instr in ansi.instructions():\n",
    "            if print_instructions: \n",
    "                print(instr) # for now\n",
    "            if isinstance(instr, str):\n",
    "                for i in range(len(instr)):\n",
    "                    ch = instr[i]\n",
    "                    if ch == \"\\r\":\n",
    "                        continue\n",
    "                    try:\n",
    "                        self.characters[self.cursor_row][self.cursor_col] = ch\n",
    "                        self.cursor_col += 1\n",
    "                    except:\n",
    "                        print(f\"something out of bounds: col={self.cursor_col}, row={self.cursor_row}, i={i} len={len(instr)}\")\n",
    "            elif isinstance(instr, stransi.SetCursor):\n",
    "                self.cursor_row = instr.move.x\n",
    "                self.cursor_col = instr.move.y \n",
    "                #self.cursor_col = instr.move.x\n",
    "                #self.cursor_row = instr.move.y \n",
    "            elif isinstance(instr, stransi.SetClear):\n",
    "                if instr.region == stransi.clear.Clear.SCREEN:\n",
    "                    self.reset()\n",
    "                elif instr.region == stransi.clear.Clear.LINE:\n",
    "                    print(\"stransi.clear.Clear.LINE, was not expecting this.\")\n",
    "                    for i in range(self.cols):\n",
    "                        self.characters[self.cursor_row][i] = ' '\n",
    "                elif instr.region == stransi.clear.Clear.LINE_AFTER:\n",
    "                    for i in range(self.cursor_col, self.cols):\n",
    "                        self.characters[self.cursor_row][i] = ' '\n",
    "                elif instr.region == stransi.clear.Clear.LINE_BEFORE:\n",
    "                    print(\"stransi.clear.Clear.LINE_BEFORE, was not expecting this.\")\n",
    "                    for i in range(0, self.cursor_col):\n",
    "                        self.characters[self.cursor_row][i] = ' '\n",
    "                elif instr.region == stransi.clear.Clear.SCREEN_AFTER:\n",
    "                    print(\"stransi.clear.Clear.SCREEN_AFTER, was not expecting this.\")\n",
    "                    for i in range(self.cursor_row, self.rows):\n",
    "                        for j in range(self.cols):\n",
    "                            self.characters[i][j] = ' '\n",
    "                elif instr.region == stransi.clear.Clear.SCREEN_BEFORE:\n",
    "                    print(\"stransi.clear.Clear.SCREEN_BEFORE, was not expecting this.\")\n",
    "                    for i in range(0, self.cursor_row):\n",
    "                        for j in range(self.cols):\n",
    "                            self.characters[i][j] = ' '\n",
    "                else:\n",
    "                    print(instr)\n",
    "                    print(instr.region)\n",
    "                    print(\"I guess I didn't handle all the clears\")\n",
    "            else:\n",
    "                if print_instructions:\n",
    "                    print(\"^^^ this instruction was not handled.\")"
   ]
  },
  {
   "cell_type": "code",
   "execution_count": 7,
   "metadata": {},
   "outputs": [
    {
     "name": "stderr",
     "output_type": "stream",
     "text": [
      "[sudo] password for perplexity: "
     ]
    },
    {
     "name": "stdout",
     "output_type": "stream",
     "text": [
      "                                                                                \n",
      "NetHack, Copyright 1985-2020                                                    \n",
      "         By Stichting Mathematisch Centrum and M. Stephenson.                   \n",
      "         Version 3.6.6 Unix, revised Feb 25 14:00:45 2021.                      \n",
      "         See license for details.                                               \n",
      "                                                                                \n",
      "                                                                                \n",
      "Shall I pick character's race, role, gender and alignment for you? [ynaq]       \n",
      "                                                                                \n",
      "                                                                                \n",
      "                                                                                \n",
      "                                                                                \n",
      "                                                                                \n",
      "                                                                                \n",
      "                                                                                \n",
      "                                                                                \n",
      "                                                                                \n",
      "                                                                                \n",
      "                                                                                \n",
      "                                                                                \n",
      "                                                                                \n",
      "                                                                                \n",
      "                                                                                \n",
      "                                                                                \n",
      "\n"
     ]
    }
   ],
   "source": [
    "Nethack.clean_locks()\n",
    "nethack = Nethack()\n",
    "nethack.start_process()\n",
    "text = nethack.read_output() # setting chars = 1 indeed fetches just 1.  100 is not enough. ~400 is more than enough.  You can ask for way too many and it won't freeze up unless you ask for another read.\n",
    "term = Terminal(24, 80)\n",
    "term.update(text, print_instructions = False)\n",
    "print(term.text())\n",
    "# you need to do # quit and then a bunch fo confirmations in order to actually quit.\n",
    "# n takes you to a screen to select stuff.\n",
    "# Sending \"yn\" at the first opportunity seems to suggest that it did two separate screens.\n",
    "# There are a couple of complications here"
   ]
  },
  {
   "cell_type": "code",
   "execution_count": 8,
   "metadata": {},
   "outputs": [
    {
     "name": "stdout",
     "output_type": "stream",
     "text": [
      "       name: perplexity                  Is this ok? [ynq]                      \n",
      "(end)  role: Priestess                                                          \n",
      "       race: elf                         perplexity, chaotic elven Priestess    \n",
      "     gender: female                                                             \n",
      "  alignment: chaotic                     y + Yes; start game                    \n",
      "                                         n - No; choose role again              \n",
      "                                         q - Quit                               \n",
      "                                                                                \n",
      "                                                                                \n",
      "                                                                                \n",
      "                                                                                \n",
      "                                                                                \n",
      "                                                                                \n",
      "                                                                                \n",
      "                                                                                \n",
      "                                                                                \n",
      "                                                                                \n",
      "                                                                                \n",
      "                                                                                \n",
      "                                                                                \n",
      "                                                                                \n",
      "                                                                                \n",
      "                                                                                \n",
      "                                                                                \n",
      "\n"
     ]
    }
   ],
   "source": [
    "nethack.send_command(\"y\")\n",
    "text = nethack.read_output() \n",
    "term.update(text)\n",
    "print(term.text())"
   ]
  },
  {
   "cell_type": "code",
   "execution_count": 9,
   "metadata": {},
   "outputs": [
    {
     "name": "stdout",
     "output_type": "stream",
     "text": [
      "Perplexity the Aspi It is written in the Book of Huhetotl:                      \n",
      "--More--                                                                        \n",
      "                        After the Creation, the cruel god Moloch rebelled       \n",
      "                        against the authority of Marduk the Creator.            \n",
      "                        Moloch stole from Marduk the most powerful of all       \n",
      "                        the artifacts of the gods, the Amulet of Yendor,        \n",
      "                        and he hid it in the dark cavities of Gehennom, the     \n",
      "                        Under World, where he now lurks, and bides his time.    \n",
      "                                                                                \n",
      "                    Your god Huhetotl seeks to possess the Amulet, and with it  \n",
      "                    to gain deserved ascendance over the other gods.            \n",
      "                                                                                \n",
      "                    You, a newly trained Aspirant, have been heralded           \n",
      "                    from birth as the instrument of Huhetotl.  You are destined \n",
      "                    to recover the Amulet for your deity, or die in the         \n",
      "                    attempt.  Your hour of destiny has come.  For the sake      \n",
      "                    of us all:  Go bravely with Huhetotl!                       \n",
      "                                                                                \n",
      "                                 -----                                          \n",
      "                                                                                \n",
      "                                                                                \n",
      "                                                                                \n",
      "                                                                                \n",
      "Dlvl:1 $:0 HP:13(13) Pw:8(8) AC:7 Xp:1                                          \n",
      "\n"
     ]
    }
   ],
   "source": [
    "nethack.send_command(\"y\")\n",
    "text = nethack.read_output()\n",
    "term.update(text)\n",
    "print(term.text())"
   ]
  },
  {
   "cell_type": "code",
   "execution_count": 10,
   "metadata": {},
   "outputs": [
    {
     "name": "stdout",
     "output_type": "stream",
     "text": [
      "Hello perplexity, welcome to NetHack!  You are a chaotic elven Priestess.       \n",
      "--More--                                                                        \n",
      "                                                                                \n",
      "                                                                                \n",
      "                                                                                \n",
      "                                                                                \n",
      "                                                                                \n",
      "                                                                                \n",
      "                                                                                \n",
      "                                                                                \n",
      "                                                                                \n",
      "                                                                                \n",
      "                                                                                \n",
      "                                                                                \n",
      "                                 -----                                          \n",
      "                                 |...-                                          \n",
      "                                 |@f.|                                          \n",
      "                                 ....|                                          \n",
      "                                 -----                                          \n",
      "                                                                                \n",
      "                                                                                \n",
      "                                                                                \n",
      "[Perplexity the Aspirant       ] St:15 Dx:12 Co:12 In:10 Wi:16 Ch:10 Chaotic    \n",
      "Dlvl:1 $:0 HP:13(13) Pw:8(8) AC:7 Xp:1                                          \n",
      "\n"
     ]
    }
   ],
   "source": [
    "nethack.send_command(\" \")\n",
    "text = nethack.read_output()\n",
    "term.update(text)\n",
    "print(term.text())"
   ]
  },
  {
   "cell_type": "code",
   "execution_count": 16,
   "metadata": {},
   "outputs": [
    {
     "ename": "KeyboardInterrupt",
     "evalue": "",
     "output_type": "error",
     "traceback": [
      "\u001b[0;31m---------------------------------------------------------------------------\u001b[0m",
      "\u001b[0;31mKeyboardInterrupt\u001b[0m                         Traceback (most recent call last)",
      "Cell \u001b[0;32mIn[16], line 3\u001b[0m\n\u001b[1;32m      1\u001b[0m \u001b[38;5;66;03m# h is left, j is down, k is up, l is right\u001b[39;00m\n\u001b[1;32m      2\u001b[0m nethack\u001b[38;5;241m.\u001b[39msend_command(\u001b[38;5;124m\"\u001b[39m\u001b[38;5;124ml\u001b[39m\u001b[38;5;124m\"\u001b[39m)\n\u001b[0;32m----> 3\u001b[0m text \u001b[38;5;241m=\u001b[39m nethack\u001b[38;5;241m.\u001b[39mread_output()\n\u001b[1;32m      4\u001b[0m term\u001b[38;5;241m.\u001b[39mupdate(text)\n\u001b[1;32m      5\u001b[0m \u001b[38;5;28mprint\u001b[39m(term\u001b[38;5;241m.\u001b[39mtext())\n",
      "Cell \u001b[0;32mIn[5], line 32\u001b[0m, in \u001b[0;36mNethack.read_output\u001b[0;34m(self, sleep, chars)\u001b[0m\n\u001b[1;32m     30\u001b[0m \u001b[38;5;28;01mif\u001b[39;00m sleep \u001b[38;5;129;01mis\u001b[39;00m \u001b[38;5;129;01mnot\u001b[39;00m \u001b[38;5;28;01mNone\u001b[39;00m \u001b[38;5;129;01mand\u001b[39;00m sleep \u001b[38;5;241m>\u001b[39m \u001b[38;5;241m0\u001b[39m:\n\u001b[1;32m     31\u001b[0m     time\u001b[38;5;241m.\u001b[39msleep(sleep)\n\u001b[0;32m---> 32\u001b[0m output \u001b[38;5;241m=\u001b[39m os\u001b[38;5;241m.\u001b[39mread(\u001b[38;5;28mself\u001b[39m\u001b[38;5;241m.\u001b[39mmaster, chars)\u001b[38;5;241m.\u001b[39mdecode()\n\u001b[1;32m     33\u001b[0m \u001b[38;5;28;01mreturn\u001b[39;00m output\n",
      "\u001b[0;31mKeyboardInterrupt\u001b[0m: "
     ]
    }
   ],
   "source": [
    "# h is left, j is down, k is up, l is right\n",
    "nethack.send_command(\"l\")\n",
    "text = nethack.read_output()\n",
    "term.update(text)\n",
    "print(term.text())\n",
    "# '\\x1b[H\\x1b[K\\x1b[17;70H\\x1b[1m\\x1b[37m@\\x1b[m<\\x1b[m\\x08\\x08'"
   ]
  },
  {
   "cell_type": "code",
   "execution_count": 8,
   "metadata": {},
   "outputs": [
    {
     "data": {
      "text/plain": [
       "'\\x1b[H\\x1b[K\\x1b[19;51H\\x1b[1m\\x1b[37m@\\x1b[m<\\x1b[m\\x08\\x08'"
      ]
     },
     "execution_count": 8,
     "metadata": {},
     "output_type": "execute_result"
    }
   ],
   "source": [
    "text"
   ]
  }
 ],
 "metadata": {
  "kernelspec": {
   "display_name": "base",
   "language": "python",
   "name": "python3"
  },
  "language_info": {
   "codemirror_mode": {
    "name": "ipython",
    "version": 3
   },
   "file_extension": ".py",
   "mimetype": "text/x-python",
   "name": "python",
   "nbconvert_exporter": "python",
   "pygments_lexer": "ipython3",
   "version": "3.11.7"
  }
 },
 "nbformat": 4,
 "nbformat_minor": 2
}
